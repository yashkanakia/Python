{
 "cells": [
  {
   "cell_type": "code",
   "execution_count": 314,
   "metadata": {},
   "outputs": [],
   "source": [
    "import pandas as pd\n",
    "import numpy as np\n",
    "import matplotlib.pyplot as plt\n",
    "import seaborn as sns\n",
    "import scipy.stats as stats\n",
    "\n",
    "# This is to supress the warning messages\n",
    "import warnings\n",
    "warnings.filterwarnings('ignore')"
   ]
  },
  {
   "cell_type": "code",
   "execution_count": 315,
   "metadata": {
    "scrolled": true
   },
   "outputs": [],
   "source": [
    "df = pd.read_csv(r\"C:\\Users\\Owner\\Downloads\\Statistics\\CPSData.csv\")\n",
    "df = df.dropna().reset_index(drop=True)"
   ]
  },
  {
   "cell_type": "code",
   "execution_count": 316,
   "metadata": {
    "scrolled": true
   },
   "outputs": [
    {
     "data": {
      "text/html": [
       "<div>\n",
       "<style scoped>\n",
       "    .dataframe tbody tr th:only-of-type {\n",
       "        vertical-align: middle;\n",
       "    }\n",
       "\n",
       "    .dataframe tbody tr th {\n",
       "        vertical-align: top;\n",
       "    }\n",
       "\n",
       "    .dataframe thead th {\n",
       "        text-align: right;\n",
       "    }\n",
       "</style>\n",
       "<table border=\"1\" class=\"dataframe\">\n",
       "  <thead>\n",
       "    <tr style=\"text-align: right;\">\n",
       "      <th></th>\n",
       "      <th>PeopleInHousehold</th>\n",
       "      <th>Region</th>\n",
       "      <th>State</th>\n",
       "      <th>MetroAreaCode</th>\n",
       "      <th>Age</th>\n",
       "      <th>Married</th>\n",
       "      <th>Sex</th>\n",
       "      <th>Education</th>\n",
       "      <th>Race</th>\n",
       "      <th>Hispanic</th>\n",
       "      <th>CountryOfBirthCode</th>\n",
       "      <th>Citizenship</th>\n",
       "      <th>EmploymentStatus</th>\n",
       "      <th>Industry</th>\n",
       "    </tr>\n",
       "  </thead>\n",
       "  <tbody>\n",
       "    <tr>\n",
       "      <th>0</th>\n",
       "      <td>3</td>\n",
       "      <td>South</td>\n",
       "      <td>Alabama</td>\n",
       "      <td>13820.0</td>\n",
       "      <td>21</td>\n",
       "      <td>Never Married</td>\n",
       "      <td>Male</td>\n",
       "      <td>High school</td>\n",
       "      <td>Black</td>\n",
       "      <td>0</td>\n",
       "      <td>57</td>\n",
       "      <td>Citizen, Native</td>\n",
       "      <td>Unemployed</td>\n",
       "      <td>Professional and business services</td>\n",
       "    </tr>\n",
       "    <tr>\n",
       "      <th>1</th>\n",
       "      <td>4</td>\n",
       "      <td>South</td>\n",
       "      <td>Alabama</td>\n",
       "      <td>13820.0</td>\n",
       "      <td>21</td>\n",
       "      <td>Never Married</td>\n",
       "      <td>Male</td>\n",
       "      <td>Some college, no degree</td>\n",
       "      <td>Black</td>\n",
       "      <td>0</td>\n",
       "      <td>57</td>\n",
       "      <td>Citizen, Native</td>\n",
       "      <td>Unemployed</td>\n",
       "      <td>Leisure and hospitality</td>\n",
       "    </tr>\n",
       "    <tr>\n",
       "      <th>2</th>\n",
       "      <td>1</td>\n",
       "      <td>South</td>\n",
       "      <td>Alabama</td>\n",
       "      <td>26620.0</td>\n",
       "      <td>27</td>\n",
       "      <td>Never Married</td>\n",
       "      <td>Female</td>\n",
       "      <td>Associate degree</td>\n",
       "      <td>Multiracial</td>\n",
       "      <td>0</td>\n",
       "      <td>57</td>\n",
       "      <td>Citizen, Native</td>\n",
       "      <td>Unemployed</td>\n",
       "      <td>Trade</td>\n",
       "    </tr>\n",
       "    <tr>\n",
       "      <th>3</th>\n",
       "      <td>2</td>\n",
       "      <td>South</td>\n",
       "      <td>Alabama</td>\n",
       "      <td>13820.0</td>\n",
       "      <td>40</td>\n",
       "      <td>Divorced</td>\n",
       "      <td>Female</td>\n",
       "      <td>Bachelor's degree</td>\n",
       "      <td>White</td>\n",
       "      <td>0</td>\n",
       "      <td>57</td>\n",
       "      <td>Citizen, Native</td>\n",
       "      <td>Unemployed</td>\n",
       "      <td>Educational and health services</td>\n",
       "    </tr>\n",
       "    <tr>\n",
       "      <th>4</th>\n",
       "      <td>3</td>\n",
       "      <td>South</td>\n",
       "      <td>Alabama</td>\n",
       "      <td>13820.0</td>\n",
       "      <td>35</td>\n",
       "      <td>Never Married</td>\n",
       "      <td>Male</td>\n",
       "      <td>No high school diploma</td>\n",
       "      <td>White</td>\n",
       "      <td>0</td>\n",
       "      <td>57</td>\n",
       "      <td>Citizen, Native</td>\n",
       "      <td>Unemployed</td>\n",
       "      <td>Leisure and hospitality</td>\n",
       "    </tr>\n",
       "  </tbody>\n",
       "</table>\n",
       "</div>"
      ],
      "text/plain": [
       "   PeopleInHousehold Region    State  MetroAreaCode  Age        Married  \\\n",
       "0                  3  South  Alabama        13820.0   21  Never Married   \n",
       "1                  4  South  Alabama        13820.0   21  Never Married   \n",
       "2                  1  South  Alabama        26620.0   27  Never Married   \n",
       "3                  2  South  Alabama        13820.0   40       Divorced   \n",
       "4                  3  South  Alabama        13820.0   35  Never Married   \n",
       "\n",
       "      Sex                Education         Race  Hispanic  CountryOfBirthCode  \\\n",
       "0    Male              High school        Black         0                  57   \n",
       "1    Male  Some college, no degree        Black         0                  57   \n",
       "2  Female         Associate degree  Multiracial         0                  57   \n",
       "3  Female        Bachelor's degree        White         0                  57   \n",
       "4    Male   No high school diploma        White         0                  57   \n",
       "\n",
       "       Citizenship EmploymentStatus                            Industry  \n",
       "0  Citizen, Native       Unemployed  Professional and business services  \n",
       "1  Citizen, Native       Unemployed             Leisure and hospitality  \n",
       "2  Citizen, Native       Unemployed                               Trade  \n",
       "3  Citizen, Native       Unemployed     Educational and health services  \n",
       "4  Citizen, Native       Unemployed             Leisure and hospitality  "
      ]
     },
     "execution_count": 316,
     "metadata": {},
     "output_type": "execute_result"
    }
   ],
   "source": [
    "df_National = df[(df['EmploymentStatus']=='Unemployed')].reset_index(drop=True)\n",
    "df_National.head()"
   ]
  },
  {
   "cell_type": "code",
   "execution_count": 317,
   "metadata": {},
   "outputs": [],
   "source": [
    "df_National['Sex'].replace(['Male','Female'],[0,1],inplace=True)"
   ]
  },
  {
   "cell_type": "code",
   "execution_count": 318,
   "metadata": {
    "scrolled": true
   },
   "outputs": [
    {
     "data": {
      "text/html": [
       "<div>\n",
       "<style scoped>\n",
       "    .dataframe tbody tr th:only-of-type {\n",
       "        vertical-align: middle;\n",
       "    }\n",
       "\n",
       "    .dataframe tbody tr th {\n",
       "        vertical-align: top;\n",
       "    }\n",
       "\n",
       "    .dataframe thead th {\n",
       "        text-align: right;\n",
       "    }\n",
       "</style>\n",
       "<table border=\"1\" class=\"dataframe\">\n",
       "  <thead>\n",
       "    <tr style=\"text-align: right;\">\n",
       "      <th></th>\n",
       "      <th>PeopleInHousehold</th>\n",
       "      <th>MetroAreaCode</th>\n",
       "      <th>Age</th>\n",
       "      <th>Sex</th>\n",
       "      <th>Hispanic</th>\n",
       "      <th>CountryOfBirthCode</th>\n",
       "    </tr>\n",
       "  </thead>\n",
       "  <tbody>\n",
       "    <tr>\n",
       "      <th>0</th>\n",
       "      <td>3</td>\n",
       "      <td>13820.0</td>\n",
       "      <td>21</td>\n",
       "      <td>0</td>\n",
       "      <td>0</td>\n",
       "      <td>57</td>\n",
       "    </tr>\n",
       "    <tr>\n",
       "      <th>1</th>\n",
       "      <td>4</td>\n",
       "      <td>13820.0</td>\n",
       "      <td>21</td>\n",
       "      <td>0</td>\n",
       "      <td>0</td>\n",
       "      <td>57</td>\n",
       "    </tr>\n",
       "    <tr>\n",
       "      <th>2</th>\n",
       "      <td>1</td>\n",
       "      <td>26620.0</td>\n",
       "      <td>27</td>\n",
       "      <td>1</td>\n",
       "      <td>0</td>\n",
       "      <td>57</td>\n",
       "    </tr>\n",
       "    <tr>\n",
       "      <th>3</th>\n",
       "      <td>2</td>\n",
       "      <td>13820.0</td>\n",
       "      <td>40</td>\n",
       "      <td>1</td>\n",
       "      <td>0</td>\n",
       "      <td>57</td>\n",
       "    </tr>\n",
       "    <tr>\n",
       "      <th>4</th>\n",
       "      <td>3</td>\n",
       "      <td>13820.0</td>\n",
       "      <td>35</td>\n",
       "      <td>0</td>\n",
       "      <td>0</td>\n",
       "      <td>57</td>\n",
       "    </tr>\n",
       "  </tbody>\n",
       "</table>\n",
       "</div>"
      ],
      "text/plain": [
       "   PeopleInHousehold  MetroAreaCode  Age  Sex  Hispanic  CountryOfBirthCode\n",
       "0                  3        13820.0   21    0         0                  57\n",
       "1                  4        13820.0   21    0         0                  57\n",
       "2                  1        26620.0   27    1         0                  57\n",
       "3                  2        13820.0   40    1         0                  57\n",
       "4                  3        13820.0   35    0         0                  57"
      ]
     },
     "execution_count": 318,
     "metadata": {},
     "output_type": "execute_result"
    }
   ],
   "source": [
    "#Analysis of Numerical Columns\n",
    "num_df = df_National.select_dtypes(exclude = 'object').copy()\n",
    "num_df.head()"
   ]
  },
  {
   "cell_type": "code",
   "execution_count": 319,
   "metadata": {},
   "outputs": [
    {
     "data": {
      "image/png": "[encoded data removed]",
      "text/plain": [
       "<Figure size 1440x1080 with 2 Axes>"
      ]
     },
     "metadata": {},
     "output_type": "display_data"
    }
   ],
   "source": [
    "fig = plt.figure(figsize=(20,15))\n",
    "\n",
    "ax1 = fig.add_subplot(3,2,1) \n",
    "sns.countplot(data = df_National, x = 'PeopleInHousehold', ax = ax1,hue='Sex')\n",
    "\n",
    "ax1 = fig.add_subplot(3,2,2) \n",
    "sns.countplot(data = df_National, x = 'Hispanic', ax = ax1,hue='Sex')\n",
    "plt.show()"
   ]
  },
  {
   "cell_type": "code",
   "execution_count": 320,
   "metadata": {
    "scrolled": true
   },
   "outputs": [
    {
     "data": {
      "text/html": [
       "<div>\n",
       "<style scoped>\n",
       "    .dataframe tbody tr th:only-of-type {\n",
       "        vertical-align: middle;\n",
       "    }\n",
       "\n",
       "    .dataframe tbody tr th {\n",
       "        vertical-align: top;\n",
       "    }\n",
       "\n",
       "    .dataframe thead th {\n",
       "        text-align: right;\n",
       "    }\n",
       "</style>\n",
       "<table border=\"1\" class=\"dataframe\">\n",
       "  <thead>\n",
       "    <tr style=\"text-align: right;\">\n",
       "      <th></th>\n",
       "      <th>Region</th>\n",
       "      <th>State</th>\n",
       "      <th>Married</th>\n",
       "      <th>Education</th>\n",
       "      <th>Race</th>\n",
       "      <th>Citizenship</th>\n",
       "      <th>EmploymentStatus</th>\n",
       "      <th>Industry</th>\n",
       "    </tr>\n",
       "  </thead>\n",
       "  <tbody>\n",
       "    <tr>\n",
       "      <th>0</th>\n",
       "      <td>South</td>\n",
       "      <td>Alabama</td>\n",
       "      <td>Never Married</td>\n",
       "      <td>High school</td>\n",
       "      <td>Black</td>\n",
       "      <td>Citizen, Native</td>\n",
       "      <td>Unemployed</td>\n",
       "      <td>Professional and business services</td>\n",
       "    </tr>\n",
       "    <tr>\n",
       "      <th>1</th>\n",
       "      <td>South</td>\n",
       "      <td>Alabama</td>\n",
       "      <td>Never Married</td>\n",
       "      <td>Some college, no degree</td>\n",
       "      <td>Black</td>\n",
       "      <td>Citizen, Native</td>\n",
       "      <td>Unemployed</td>\n",
       "      <td>Leisure and hospitality</td>\n",
       "    </tr>\n",
       "    <tr>\n",
       "      <th>2</th>\n",
       "      <td>South</td>\n",
       "      <td>Alabama</td>\n",
       "      <td>Never Married</td>\n",
       "      <td>Associate degree</td>\n",
       "      <td>Multiracial</td>\n",
       "      <td>Citizen, Native</td>\n",
       "      <td>Unemployed</td>\n",
       "      <td>Trade</td>\n",
       "    </tr>\n",
       "    <tr>\n",
       "      <th>3</th>\n",
       "      <td>South</td>\n",
       "      <td>Alabama</td>\n",
       "      <td>Divorced</td>\n",
       "      <td>Bachelor's degree</td>\n",
       "      <td>White</td>\n",
       "      <td>Citizen, Native</td>\n",
       "      <td>Unemployed</td>\n",
       "      <td>Educational and health services</td>\n",
       "    </tr>\n",
       "    <tr>\n",
       "      <th>4</th>\n",
       "      <td>South</td>\n",
       "      <td>Alabama</td>\n",
       "      <td>Never Married</td>\n",
       "      <td>No high school diploma</td>\n",
       "      <td>White</td>\n",
       "      <td>Citizen, Native</td>\n",
       "      <td>Unemployed</td>\n",
       "      <td>Leisure and hospitality</td>\n",
       "    </tr>\n",
       "  </tbody>\n",
       "</table>\n",
       "</div>"
      ],
      "text/plain": [
       "  Region    State        Married                Education         Race  \\\n",
       "0  South  Alabama  Never Married              High school        Black   \n",
       "1  South  Alabama  Never Married  Some college, no degree        Black   \n",
       "2  South  Alabama  Never Married         Associate degree  Multiracial   \n",
       "3  South  Alabama       Divorced        Bachelor's degree        White   \n",
       "4  South  Alabama  Never Married   No high school diploma        White   \n",
       "\n",
       "       Citizenship EmploymentStatus                            Industry  \n",
       "0  Citizen, Native       Unemployed  Professional and business services  \n",
       "1  Citizen, Native       Unemployed             Leisure and hospitality  \n",
       "2  Citizen, Native       Unemployed                               Trade  \n",
       "3  Citizen, Native       Unemployed     Educational and health services  \n",
       "4  Citizen, Native       Unemployed             Leisure and hospitality  "
      ]
     },
     "execution_count": 320,
     "metadata": {},
     "output_type": "execute_result"
    }
   ],
   "source": [
    "#Analysis of Categorical Columns\n",
    "cat_df = df_National.select_dtypes(include = 'object').copy()\n",
    "cat_df.head()"
   ]
  },
  {
   "cell_type": "code",
   "execution_count": 321,
   "metadata": {},
   "outputs": [
    {
     "data": {
      "image/png": "[encoded data removed]",
      "text/plain": [
       "<Figure size 1440x1080 with 4 Axes>"
      ]
     },
     "metadata": {},
     "output_type": "display_data"
    },
    {
     "data": {
      "image/png": "[encoded data removed]",
      "text/plain": [
       "<Figure size 1152x288 with 1 Axes>"
      ]
     },
     "metadata": {},
     "output_type": "display_data"
    }
   ],
   "source": [
    "fig = plt.figure(figsize=(20,15))\n",
    "\n",
    "ax1 = fig.add_subplot(3,2,1) \n",
    "sns.countplot(data = df_National, x = 'Region', ax = ax1,hue='Sex')\n",
    "\n",
    "ax1 = fig.add_subplot(3,2,2) \n",
    "sns.countplot(data = df_National, x = 'Married', ax = ax1,hue='Sex')\n",
    "\n",
    "ax1 = fig.add_subplot(3,2,3) \n",
    "sns.countplot(data = df_National, x = 'Citizenship', ax = ax1,hue='Sex')\n",
    "\n",
    "\n",
    "ax1 = fig.add_subplot(3,2,4) \n",
    "sns.countplot(data = df_National, x = 'Race', ax = ax1,hue='Sex')\n",
    "\n",
    "plt.show()\n",
    "plt.figure(figsize=(16,4))\n",
    "sns.countplot(data = df_National, x = 'Education', hue='Sex')\n",
    "plt.show()"
   ]
  },
  {
   "cell_type": "code",
   "execution_count": 322,
   "metadata": {
    "scrolled": true
   },
   "outputs": [
    {
     "data": {
      "text/html": [
       "<div>\n",
       "<style scoped>\n",
       "    .dataframe tbody tr th:only-of-type {\n",
       "        vertical-align: middle;\n",
       "    }\n",
       "\n",
       "    .dataframe tbody tr th {\n",
       "        vertical-align: top;\n",
       "    }\n",
       "\n",
       "    .dataframe thead th {\n",
       "        text-align: right;\n",
       "    }\n",
       "</style>\n",
       "<table border=\"1\" class=\"dataframe\">\n",
       "  <thead>\n",
       "    <tr style=\"text-align: right;\">\n",
       "      <th></th>\n",
       "      <th>PeopleInHousehold</th>\n",
       "      <th>MetroAreaCode</th>\n",
       "      <th>Age</th>\n",
       "      <th>Sex</th>\n",
       "      <th>Hispanic</th>\n",
       "      <th>CountryOfBirthCode</th>\n",
       "    </tr>\n",
       "  </thead>\n",
       "  <tbody>\n",
       "    <tr>\n",
       "      <th>PeopleInHousehold</th>\n",
       "      <td>1.000000</td>\n",
       "      <td>-0.026787</td>\n",
       "      <td>-0.284486</td>\n",
       "      <td>0.007935</td>\n",
       "      <td>0.219188</td>\n",
       "      <td>0.138480</td>\n",
       "    </tr>\n",
       "    <tr>\n",
       "      <th>MetroAreaCode</th>\n",
       "      <td>-0.026787</td>\n",
       "      <td>1.000000</td>\n",
       "      <td>0.031737</td>\n",
       "      <td>0.002856</td>\n",
       "      <td>-0.015511</td>\n",
       "      <td>0.038384</td>\n",
       "    </tr>\n",
       "    <tr>\n",
       "      <th>Age</th>\n",
       "      <td>-0.284486</td>\n",
       "      <td>0.031737</td>\n",
       "      <td>1.000000</td>\n",
       "      <td>0.029174</td>\n",
       "      <td>-0.117916</td>\n",
       "      <td>0.073822</td>\n",
       "    </tr>\n",
       "    <tr>\n",
       "      <th>Sex</th>\n",
       "      <td>0.007935</td>\n",
       "      <td>0.002856</td>\n",
       "      <td>0.029174</td>\n",
       "      <td>1.000000</td>\n",
       "      <td>-0.013670</td>\n",
       "      <td>-0.012251</td>\n",
       "    </tr>\n",
       "    <tr>\n",
       "      <th>Hispanic</th>\n",
       "      <td>0.219188</td>\n",
       "      <td>-0.015511</td>\n",
       "      <td>-0.117916</td>\n",
       "      <td>-0.013670</td>\n",
       "      <td>1.000000</td>\n",
       "      <td>0.324271</td>\n",
       "    </tr>\n",
       "    <tr>\n",
       "      <th>CountryOfBirthCode</th>\n",
       "      <td>0.138480</td>\n",
       "      <td>0.038384</td>\n",
       "      <td>0.073822</td>\n",
       "      <td>-0.012251</td>\n",
       "      <td>0.324271</td>\n",
       "      <td>1.000000</td>\n",
       "    </tr>\n",
       "  </tbody>\n",
       "</table>\n",
       "</div>"
      ],
      "text/plain": [
       "                    PeopleInHousehold  MetroAreaCode       Age       Sex  \\\n",
       "PeopleInHousehold            1.000000      -0.026787 -0.284486  0.007935   \n",
       "MetroAreaCode               -0.026787       1.000000  0.031737  0.002856   \n",
       "Age                         -0.284486       0.031737  1.000000  0.029174   \n",
       "Sex                          0.007935       0.002856  0.029174  1.000000   \n",
       "Hispanic                     0.219188      -0.015511 -0.117916 -0.013670   \n",
       "CountryOfBirthCode           0.138480       0.038384  0.073822 -0.012251   \n",
       "\n",
       "                    Hispanic  CountryOfBirthCode  \n",
       "PeopleInHousehold   0.219188            0.138480  \n",
       "MetroAreaCode      -0.015511            0.038384  \n",
       "Age                -0.117916            0.073822  \n",
       "Sex                -0.013670           -0.012251  \n",
       "Hispanic            1.000000            0.324271  \n",
       "CountryOfBirthCode  0.324271            1.000000  "
      ]
     },
     "execution_count": 322,
     "metadata": {},
     "output_type": "execute_result"
    }
   ],
   "source": [
    "df_National.corr()"
   ]
  },
  {
   "cell_type": "code",
   "execution_count": 323,
   "metadata": {
    "scrolled": true
   },
   "outputs": [
    {
     "data": {
      "image/png": "[encoded data removed]",
      "text/plain": [
       "<Figure size 576x396 with 1 Axes>"
      ]
     },
     "metadata": {},
     "output_type": "display_data"
    }
   ],
   "source": [
    "# Check distribution of target class\n",
    "sns.countplot(x=df_National['Hispanic'] ,data=df_National)\n",
    "plt.xlabel(\"Count of each Target class\")\n",
    "plt.ylabel(\"Target classes\")\n",
    "plt.show()"
   ]
  },
  {
   "cell_type": "code",
   "execution_count": 324,
   "metadata": {},
   "outputs": [],
   "source": [
    "#Calculating Weight of Evidence and Information Value for Feature Selection\n",
    "def get_IV(df, feature, target):\n",
    "    lst = []\n",
    "    \n",
    "    unique_values = df[feature].unique()\n",
    "    for val in unique_values:\n",
    "        lst.append([feature,                                                        # Feature name\n",
    "                    val,                                                            # Value of a feature (unique)\n",
    "                    df[(df[feature] == val) & (df[target] == 0)].count()[feature],  # Good (Fraud == 0)\n",
    "                    df[(df[feature] == val) & (df[target] == 1)].count()[feature]   # Bad  (Fraud == 1)\n",
    "                   ])\n",
    " \n",
    "    data = pd.DataFrame(lst, columns=['Variable', 'Value', 'Good', 'Bad'])\n",
    "\n",
    "        \n",
    "    total_bad = df[df[target] == 1].count()[feature]\n",
    "    total_good = df.shape[0] - total_bad\n",
    "    \n",
    "    data['Distribution Good'] = data['Good']/ total_good\n",
    "    data['Distribution Bad'] = data['Bad'] / total_bad\n",
    "    data['WoE'] = np.log(data['Distribution Good'] / data['Distribution Bad'])\n",
    "\n",
    "    data = data.replace({'WoE': {np.inf: 0, -np.inf: 0}})\n",
    "\n",
    "    data['IV'] = data['WoE'] * (data['Distribution Good'] - data['Distribution Bad'])\n",
    "\n",
    "    data = data.sort_values(by=['Variable', 'Value'], ascending=[True, True])\n",
    "    data.index = range(len(data.index))\n",
    "\n",
    "    iv = data['IV'].sum()\n",
    "    WoE = data['WoE'].sum()\n",
    "\n",
    "    return iv, data"
   ]
  },
  {
   "cell_type": "code",
   "execution_count": 325,
   "metadata": {
    "scrolled": true
   },
   "outputs": [
    {
     "data": {
      "text/html": [
       "<div>\n",
       "<style scoped>\n",
       "    .dataframe tbody tr th:only-of-type {\n",
       "        vertical-align: middle;\n",
       "    }\n",
       "\n",
       "    .dataframe tbody tr th {\n",
       "        vertical-align: top;\n",
       "    }\n",
       "\n",
       "    .dataframe thead th {\n",
       "        text-align: right;\n",
       "    }\n",
       "</style>\n",
       "<table border=\"1\" class=\"dataframe\">\n",
       "  <thead>\n",
       "    <tr style=\"text-align: right;\">\n",
       "      <th></th>\n",
       "      <th>PeopleInHousehold</th>\n",
       "      <th>Region</th>\n",
       "      <th>State</th>\n",
       "      <th>MetroAreaCode</th>\n",
       "      <th>Age</th>\n",
       "      <th>Married</th>\n",
       "      <th>Sex</th>\n",
       "      <th>Education</th>\n",
       "      <th>Race</th>\n",
       "      <th>Hispanic</th>\n",
       "      <th>CountryOfBirthCode</th>\n",
       "      <th>Citizenship</th>\n",
       "      <th>EmploymentStatus</th>\n",
       "      <th>Industry</th>\n",
       "    </tr>\n",
       "  </thead>\n",
       "  <tbody>\n",
       "    <tr>\n",
       "      <th>0</th>\n",
       "      <td>3</td>\n",
       "      <td>0.145954</td>\n",
       "      <td>1.956063</td>\n",
       "      <td>13820.0</td>\n",
       "      <td>21</td>\n",
       "      <td>-0.028069</td>\n",
       "      <td>0</td>\n",
       "      <td>-0.115635</td>\n",
       "      <td>1.520941</td>\n",
       "      <td>0</td>\n",
       "      <td>57</td>\n",
       "      <td>0.378809</td>\n",
       "      <td>0.0</td>\n",
       "      <td>0.003906</td>\n",
       "    </tr>\n",
       "    <tr>\n",
       "      <th>1</th>\n",
       "      <td>4</td>\n",
       "      <td>0.145954</td>\n",
       "      <td>1.956063</td>\n",
       "      <td>13820.0</td>\n",
       "      <td>21</td>\n",
       "      <td>-0.028069</td>\n",
       "      <td>0</td>\n",
       "      <td>0.247385</td>\n",
       "      <td>1.520941</td>\n",
       "      <td>0</td>\n",
       "      <td>57</td>\n",
       "      <td>0.378809</td>\n",
       "      <td>0.0</td>\n",
       "      <td>-0.021979</td>\n",
       "    </tr>\n",
       "    <tr>\n",
       "      <th>2</th>\n",
       "      <td>1</td>\n",
       "      <td>0.145954</td>\n",
       "      <td>1.956063</td>\n",
       "      <td>26620.0</td>\n",
       "      <td>27</td>\n",
       "      <td>-0.028069</td>\n",
       "      <td>1</td>\n",
       "      <td>0.353969</td>\n",
       "      <td>0.200021</td>\n",
       "      <td>0</td>\n",
       "      <td>57</td>\n",
       "      <td>0.378809</td>\n",
       "      <td>0.0</td>\n",
       "      <td>0.017700</td>\n",
       "    </tr>\n",
       "    <tr>\n",
       "      <th>3</th>\n",
       "      <td>2</td>\n",
       "      <td>0.145954</td>\n",
       "      <td>1.956063</td>\n",
       "      <td>13820.0</td>\n",
       "      <td>40</td>\n",
       "      <td>0.274380</td>\n",
       "      <td>1</td>\n",
       "      <td>0.649954</td>\n",
       "      <td>-0.296709</td>\n",
       "      <td>0</td>\n",
       "      <td>57</td>\n",
       "      <td>0.378809</td>\n",
       "      <td>0.0</td>\n",
       "      <td>0.265108</td>\n",
       "    </tr>\n",
       "    <tr>\n",
       "      <th>4</th>\n",
       "      <td>3</td>\n",
       "      <td>0.145954</td>\n",
       "      <td>1.956063</td>\n",
       "      <td>13820.0</td>\n",
       "      <td>35</td>\n",
       "      <td>-0.028069</td>\n",
       "      <td>0</td>\n",
       "      <td>-0.965955</td>\n",
       "      <td>-0.296709</td>\n",
       "      <td>0</td>\n",
       "      <td>57</td>\n",
       "      <td>0.378809</td>\n",
       "      <td>0.0</td>\n",
       "      <td>-0.021979</td>\n",
       "    </tr>\n",
       "  </tbody>\n",
       "</table>\n",
       "</div>"
      ],
      "text/plain": [
       "   PeopleInHousehold    Region     State  MetroAreaCode  Age   Married  Sex  \\\n",
       "0                  3  0.145954  1.956063        13820.0   21 -0.028069    0   \n",
       "1                  4  0.145954  1.956063        13820.0   21 -0.028069    0   \n",
       "2                  1  0.145954  1.956063        26620.0   27 -0.028069    1   \n",
       "3                  2  0.145954  1.956063        13820.0   40  0.274380    1   \n",
       "4                  3  0.145954  1.956063        13820.0   35 -0.028069    0   \n",
       "\n",
       "   Education      Race  Hispanic  CountryOfBirthCode  Citizenship  \\\n",
       "0  -0.115635  1.520941         0                  57     0.378809   \n",
       "1   0.247385  1.520941         0                  57     0.378809   \n",
       "2   0.353969  0.200021         0                  57     0.378809   \n",
       "3   0.649954 -0.296709         0                  57     0.378809   \n",
       "4  -0.965955 -0.296709         0                  57     0.378809   \n",
       "\n",
       "   EmploymentStatus  Industry  \n",
       "0               0.0  0.003906  \n",
       "1               0.0 -0.021979  \n",
       "2               0.0  0.017700  \n",
       "3               0.0  0.265108  \n",
       "4               0.0 -0.021979  "
      ]
     },
     "execution_count": 325,
     "metadata": {},
     "output_type": "execute_result"
    }
   ],
   "source": [
    "df_National_copy = df_National.copy()\n",
    "final_iv_values = {}\n",
    "\n",
    "for i in cat_df:\n",
    "    IV, Data = get_IV(df_National,i,'Hispanic')\n",
    "    final_iv_values[i] = IV\n",
    "    for j in range(len(Data)):\n",
    "        df_National_copy[i] = df_National_copy[i].replace([Data['Value'][j]], Data['WoE'][j])\n",
    "    \n",
    "df_National_copy.head()"
   ]
  },
  {
   "cell_type": "code",
   "execution_count": 326,
   "metadata": {},
   "outputs": [
    {
     "name": "stdout",
     "output_type": "stream",
     "text": [
      "{'Race': 0.4570400419852218, 'PeopleInHousehold': 0.3283717456365966, 'Education': 0.30543471308177317, 'Age': 0.2593061277133716, 'Region': 0.2317369284368035}\n"
     ]
    }
   ],
   "source": [
    "#Storing features and their IV values respectively\n",
    "final_iv_values = {}\n",
    "for i in df_National_copy.columns:\n",
    "    IV, Data = get_IV(df_National_copy,i,'Hispanic')\n",
    "    final_iv_values[i] = IV\n",
    "    \n",
    "#Sorting the the features in descending order of their IV values.\n",
    "features = {}\n",
    "for w in sorted(final_iv_values, key=final_iv_values.get, reverse=True):\n",
    "    features[w] = final_iv_values[w]\n",
    "\n",
    "    \n",
    "#Selecting top 20 features for further analyses. \n",
    "newDict = dict()\n",
    "i = 0 #Max Features\n",
    "# Iterate over all the items in dictionary and filter items which has even keys\n",
    "for (key, value) in features.items():\n",
    "   # Check if key is even then add pair to new dictionary\n",
    "    if value > 0.02 and value < 0.5 and i<5:\n",
    "            newDict[key] = value\n",
    "            i= i + 1\n",
    "print(newDict)"
   ]
  },
  {
   "cell_type": "code",
   "execution_count": 327,
   "metadata": {
    "scrolled": true
   },
   "outputs": [
    {
     "data": {
      "text/html": [
       "<div>\n",
       "<style scoped>\n",
       "    .dataframe tbody tr th:only-of-type {\n",
       "        vertical-align: middle;\n",
       "    }\n",
       "\n",
       "    .dataframe tbody tr th {\n",
       "        vertical-align: top;\n",
       "    }\n",
       "\n",
       "    .dataframe thead th {\n",
       "        text-align: right;\n",
       "    }\n",
       "</style>\n",
       "<table border=\"1\" class=\"dataframe\">\n",
       "  <thead>\n",
       "    <tr style=\"text-align: right;\">\n",
       "      <th></th>\n",
       "      <th>Race</th>\n",
       "      <th>PeopleInHousehold</th>\n",
       "      <th>Education</th>\n",
       "      <th>Age</th>\n",
       "      <th>Region</th>\n",
       "      <th>Hispanic</th>\n",
       "    </tr>\n",
       "  </thead>\n",
       "  <tbody>\n",
       "    <tr>\n",
       "      <th>0</th>\n",
       "      <td>1.520941</td>\n",
       "      <td>3</td>\n",
       "      <td>-0.115635</td>\n",
       "      <td>21</td>\n",
       "      <td>0.145954</td>\n",
       "      <td>0</td>\n",
       "    </tr>\n",
       "    <tr>\n",
       "      <th>1</th>\n",
       "      <td>1.520941</td>\n",
       "      <td>4</td>\n",
       "      <td>0.247385</td>\n",
       "      <td>21</td>\n",
       "      <td>0.145954</td>\n",
       "      <td>0</td>\n",
       "    </tr>\n",
       "    <tr>\n",
       "      <th>2</th>\n",
       "      <td>0.200021</td>\n",
       "      <td>1</td>\n",
       "      <td>0.353969</td>\n",
       "      <td>27</td>\n",
       "      <td>0.145954</td>\n",
       "      <td>0</td>\n",
       "    </tr>\n",
       "    <tr>\n",
       "      <th>3</th>\n",
       "      <td>-0.296709</td>\n",
       "      <td>2</td>\n",
       "      <td>0.649954</td>\n",
       "      <td>40</td>\n",
       "      <td>0.145954</td>\n",
       "      <td>0</td>\n",
       "    </tr>\n",
       "    <tr>\n",
       "      <th>4</th>\n",
       "      <td>-0.296709</td>\n",
       "      <td>3</td>\n",
       "      <td>-0.965955</td>\n",
       "      <td>35</td>\n",
       "      <td>0.145954</td>\n",
       "      <td>0</td>\n",
       "    </tr>\n",
       "  </tbody>\n",
       "</table>\n",
       "</div>"
      ],
      "text/plain": [
       "       Race  PeopleInHousehold  Education  Age    Region  Hispanic\n",
       "0  1.520941                  3  -0.115635   21  0.145954         0\n",
       "1  1.520941                  4   0.247385   21  0.145954         0\n",
       "2  0.200021                  1   0.353969   27  0.145954         0\n",
       "3 -0.296709                  2   0.649954   40  0.145954         0\n",
       "4 -0.296709                  3  -0.965955   35  0.145954         0"
      ]
     },
     "execution_count": 327,
     "metadata": {},
     "output_type": "execute_result"
    }
   ],
   "source": [
    "#Creating the list of names of top 5 features \n",
    "feature_list = []\n",
    "for i in newDict:\n",
    "    feature_list.append(i)\n",
    "\n",
    "if 'Hispanic' not in feature_list:\n",
    "    feature_list.append('Hispanic')\n",
    "\n",
    "dataframe = df_National_copy[feature_list]\n",
    "dataframe.head()"
   ]
  },
  {
   "cell_type": "code",
   "execution_count": 328,
   "metadata": {},
   "outputs": [
    {
     "data": {
      "text/plain": [
       "Race                 0\n",
       "PeopleInHousehold    0\n",
       "Education            0\n",
       "Age                  0\n",
       "Region               0\n",
       "Hispanic             0\n",
       "dtype: int64"
      ]
     },
     "execution_count": 328,
     "metadata": {},
     "output_type": "execute_result"
    }
   ],
   "source": [
    "dataframe.isnull().sum()"
   ]
  },
  {
   "cell_type": "code",
   "execution_count": 329,
   "metadata": {},
   "outputs": [],
   "source": [
    "#Adding Output Column in x and then removing for Train(X) and y='Output'\n",
    "\n",
    "X = dataframe.drop('Hispanic', axis=1) # input categorical features\n",
    "y = dataframe['Hispanic'] # target variable"
   ]
  },
  {
   "cell_type": "code",
   "execution_count": 330,
   "metadata": {},
   "outputs": [],
   "source": [
    "from sklearn.model_selection import train_test_split"
   ]
  },
  {
   "cell_type": "code",
   "execution_count": 331,
   "metadata": {},
   "outputs": [],
   "source": [
    "X_train, X_test, y_train, y_test = train_test_split(X, y, test_size=0.1, random_state=1)"
   ]
  },
  {
   "cell_type": "code",
   "execution_count": 332,
   "metadata": {},
   "outputs": [],
   "source": [
    "from sklearn.linear_model import LogisticRegression\n",
    "from sklearn.metrics import confusion_matrix, classification_report, precision_score, accuracy_score,plot_roc_curve"
   ]
  },
  {
   "cell_type": "code",
   "execution_count": 333,
   "metadata": {
    "scrolled": false
   },
   "outputs": [
    {
     "name": "stdout",
     "output_type": "stream",
     "text": [
      "Classification Report: \n",
      "               precision    recall  f1-score   support\n",
      "\n",
      "           0       0.87      1.00      0.93       245\n",
      "           1       0.93      0.28      0.43        50\n",
      "\n",
      "    accuracy                           0.87       295\n",
      "   macro avg       0.90      0.64      0.68       295\n",
      "weighted avg       0.88      0.87      0.84       295\n",
      "\n",
      "\n",
      " Confusion Matrix: \n",
      " [[244   1]\n",
      " [ 36  14]]\n",
      "\n",
      " Accuracy Score:  0.87\n"
     ]
    }
   ],
   "source": [
    "#Logistic Regression Model Fitting\n",
    "\n",
    "log_model = LogisticRegression(max_iter=50)\n",
    "log_model.fit(X_train, y_train)\n",
    "\n",
    "log_pred = log_model.predict(X_test)\n",
    "\n",
    "print(\"Classification Report: \\n\",classification_report(y_test, log_pred))\n",
    "print(\"\\n Confusion Matrix: \\n\",confusion_matrix(y_test, log_pred))\n",
    "print(\"\\n Accuracy Score: \",round(accuracy_score(y_test, log_pred),2))"
   ]
  },
  {
   "cell_type": "code",
   "execution_count": 334,
   "metadata": {},
   "outputs": [],
   "source": [
    "from sklearn.metrics import roc_curve\n",
    "\n",
    "fpr1, tpr1, thresh1 = roc_curve(y_test, log_pred)"
   ]
  },
  {
   "cell_type": "code",
   "execution_count": 335,
   "metadata": {},
   "outputs": [],
   "source": [
    "random_probs = [0 for i in range(len(y_test))]\n",
    "p_fpr, p_tpr, _ = roc_curve(y_test, random_probs)"
   ]
  },
  {
   "cell_type": "code",
   "execution_count": 336,
   "metadata": {},
   "outputs": [
    {
     "data": {
      "text/plain": [
       "0.6379591836734694"
      ]
     },
     "execution_count": 336,
     "metadata": {},
     "output_type": "execute_result"
    }
   ],
   "source": [
    "from sklearn.metrics import roc_auc_score\n",
    "\n",
    "# auc scores\n",
    "auc_score1 = roc_auc_score(y_test, log_pred)\n",
    "auc_score1"
   ]
  },
  {
   "cell_type": "code",
   "execution_count": 337,
   "metadata": {
    "scrolled": false
   },
   "outputs": [
    {
     "data": {
      "image/png": "[encoded data removed]",
      "text/plain": [
       "<Figure size 576x396 with 1 Axes>"
      ]
     },
     "metadata": {},
     "output_type": "display_data"
    }
   ],
   "source": [
    "# matplotlib\n",
    "import matplotlib.pyplot as plt\n",
    "plt.style.use('seaborn')\n",
    "\n",
    "# plot roc curves\n",
    "plt.plot(fpr1, tpr1, linestyle='--',color='orange', label='Logistic Regression')\n",
    "plt.plot(p_fpr, p_tpr, linestyle='--', color='blue')\n",
    "# title\n",
    "plt.title('ROC curve')\n",
    "# x label\n",
    "plt.xlabel('False Positive Rate')\n",
    "# y label\n",
    "plt.ylabel('True Positive rate')\n",
    "\n",
    "plt.legend(loc='best')\n",
    "plt.show()"
   ]
  },
  {
   "cell_type": "code",
   "execution_count": 338,
   "metadata": {
    "scrolled": true
   },
   "outputs": [
    {
     "name": "stdout",
     "output_type": "stream",
     "text": [
      "Feature: 0, Score: -1.09515\n",
      "Feature: 1, Score: 0.23599\n",
      "Feature: 2, Score: -0.98673\n",
      "Feature: 3, Score: -0.01031\n",
      "Feature: 4, Score: -0.94903\n"
     ]
    },
    {
     "data": {
      "image/png": "[encoded data removed]",
      "text/plain": [
       "<Figure size 576x396 with 1 Axes>"
      ]
     },
     "metadata": {},
     "output_type": "display_data"
    }
   ],
   "source": [
    "from matplotlib import pyplot\n",
    "\n",
    "model = LogisticRegression()\n",
    "# fit the model\n",
    "model.fit(X, y)\n",
    "# get importance\n",
    "importance = model.coef_[0]\n",
    "# summarize feature importance\n",
    "for i,v in enumerate(importance):\n",
    "    print('Feature: %0d, Score: %.5f' % (i,v))\n",
    "# plot feature importance\n",
    "pyplot.bar([x for x in range(len(importance))], importance)\n",
    "pyplot.show()"
   ]
  },
  {
   "cell_type": "markdown",
   "metadata": {},
   "source": [
    "### Handling Imablance DataSet"
   ]
  },
  {
   "cell_type": "code",
   "execution_count": 339,
   "metadata": {
    "scrolled": true
   },
   "outputs": [
    {
     "data": {
      "text/plain": [
       "0    2422\n",
       "1    2422\n",
       "Name: Hispanic, dtype: int64"
      ]
     },
     "execution_count": 339,
     "metadata": {},
     "output_type": "execute_result"
    }
   ],
   "source": [
    "# Over sample the minority class \n",
    "from imblearn.over_sampling import SMOTE\n",
    "\n",
    "ros = SMOTE(k_neighbors=10)\n",
    "X_ros, y_ros = ros.fit_resample(X, y)\n",
    "\n",
    "\n",
    "\n",
    "y_ros.value_counts()"
   ]
  },
  {
   "cell_type": "code",
   "execution_count": 340,
   "metadata": {},
   "outputs": [],
   "source": [
    "X_train, X_test, y_train, y_test = train_test_split(X_ros, y_ros, test_size=0.1, random_state=1)"
   ]
  },
  {
   "cell_type": "code",
   "execution_count": 341,
   "metadata": {},
   "outputs": [
    {
     "name": "stdout",
     "output_type": "stream",
     "text": [
      "Classification Report: \n",
      "               precision    recall  f1-score   support\n",
      "\n",
      "           0       0.71      0.70      0.70       244\n",
      "           1       0.70      0.71      0.71       241\n",
      "\n",
      "    accuracy                           0.71       485\n",
      "   macro avg       0.71      0.71      0.71       485\n",
      "weighted avg       0.71      0.71      0.71       485\n",
      "\n",
      "\n",
      " Confusion Matrix: \n",
      " [[170  74]\n",
      " [ 69 172]]\n",
      "\n",
      " Accuracy Score:  0.71\n"
     ]
    }
   ],
   "source": [
    "#Logistic Regression Model Fitting\n",
    "\n",
    "log_model = LogisticRegression(max_iter=50)\n",
    "log_model.fit(X_train, y_train)\n",
    "\n",
    "log_pred = log_model.predict(X_test)\n",
    "\n",
    "print(\"Classification Report: \\n\",classification_report(y_test, log_pred))\n",
    "print(\"\\n Confusion Matrix: \\n\",confusion_matrix(y_test, log_pred))\n",
    "print(\"\\n Accuracy Score: \",round(accuracy_score(y_test, log_pred),2))"
   ]
  }
 ],
 "metadata": {
  "kernelspec": {
   "display_name": "Python 3",
   "language": "python",
   "name": "python3"
  },
  "language_info": {
   "codemirror_mode": {
    "name": "ipython",
    "version": 3
   },
   "file_extension": ".py",
   "mimetype": "text/x-python",
   "name": "python",
   "nbconvert_exporter": "python",
   "pygments_lexer": "ipython3",
   "version": "3.7.4"
  }
 },
 "nbformat": 4,
 "nbformat_minor": 2
}
