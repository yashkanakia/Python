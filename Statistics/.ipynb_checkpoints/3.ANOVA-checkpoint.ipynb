{
 "cells": [
  {
   "cell_type": "markdown",
   "metadata": {},
   "source": [
    "<div style=\"float:right;\"><ul><li><b>Name:</b>Yash Ketan Kanakia</li><li><b>Roll No: </b>E21027</li></ul></div>"
   ]
  },
  {
   "cell_type": "markdown",
   "metadata": {},
   "source": [
    "# ANOVA - Analysis of Variance"
   ]
  },
  {
   "cell_type": "markdown",
   "metadata": {},
   "source": [
    "- To compare the variance in means within sample means and between sample means "
   ]
  },
  {
   "cell_type": "markdown",
   "metadata": {},
   "source": [
    "#### Differences in Age of Unemployed People can be assessed by Marrital Status, and  Region."
   ]
  },
  {
   "cell_type": "markdown",
   "metadata": {},
   "source": [
    "## One Way Anova"
   ]
  },
  {
   "cell_type": "code",
   "execution_count": 262,
   "metadata": {},
   "outputs": [],
   "source": [
    "import pandas as pd\n",
    "import numpy as np\n",
    "import matplotlib.pyplot as plt\n",
    "import seaborn as sns\n",
    "import scipy.stats as stats"
   ]
  },
  {
   "cell_type": "code",
   "execution_count": 263,
   "metadata": {
    "scrolled": true
   },
   "outputs": [
    {
     "data": {
      "text/html": [
       "<div>\n",
       "<style scoped>\n",
       "    .dataframe tbody tr th:only-of-type {\n",
       "        vertical-align: middle;\n",
       "    }\n",
       "\n",
       "    .dataframe tbody tr th {\n",
       "        vertical-align: top;\n",
       "    }\n",
       "\n",
       "    .dataframe thead th {\n",
       "        text-align: right;\n",
       "    }\n",
       "</style>\n",
       "<table border=\"1\" class=\"dataframe\">\n",
       "  <thead>\n",
       "    <tr style=\"text-align: right;\">\n",
       "      <th></th>\n",
       "      <th>PeopleInHousehold</th>\n",
       "      <th>Region</th>\n",
       "      <th>State</th>\n",
       "      <th>MetroAreaCode</th>\n",
       "      <th>Age</th>\n",
       "      <th>Married</th>\n",
       "      <th>Sex</th>\n",
       "      <th>Education</th>\n",
       "      <th>Race</th>\n",
       "      <th>Hispanic</th>\n",
       "      <th>CountryOfBirthCode</th>\n",
       "      <th>Citizenship</th>\n",
       "      <th>EmploymentStatus</th>\n",
       "      <th>Industry</th>\n",
       "    </tr>\n",
       "  </thead>\n",
       "  <tbody>\n",
       "    <tr>\n",
       "      <th>0</th>\n",
       "      <td>3</td>\n",
       "      <td>South</td>\n",
       "      <td>Alabama</td>\n",
       "      <td>13820.0</td>\n",
       "      <td>21</td>\n",
       "      <td>Never Married</td>\n",
       "      <td>Male</td>\n",
       "      <td>High school</td>\n",
       "      <td>Black</td>\n",
       "      <td>0</td>\n",
       "      <td>57</td>\n",
       "      <td>Citizen, Native</td>\n",
       "      <td>Unemployed</td>\n",
       "      <td>Professional and business services</td>\n",
       "    </tr>\n",
       "    <tr>\n",
       "      <th>1</th>\n",
       "      <td>3</td>\n",
       "      <td>South</td>\n",
       "      <td>Alabama</td>\n",
       "      <td>26620.0</td>\n",
       "      <td>52</td>\n",
       "      <td>Widowed</td>\n",
       "      <td>Female</td>\n",
       "      <td>Associate degree</td>\n",
       "      <td>White</td>\n",
       "      <td>0</td>\n",
       "      <td>57</td>\n",
       "      <td>Citizen, Native</td>\n",
       "      <td>Employed</td>\n",
       "      <td>Professional and business services</td>\n",
       "    </tr>\n",
       "    <tr>\n",
       "      <th>2</th>\n",
       "      <td>3</td>\n",
       "      <td>South</td>\n",
       "      <td>Alabama</td>\n",
       "      <td>26620.0</td>\n",
       "      <td>24</td>\n",
       "      <td>Never Married</td>\n",
       "      <td>Male</td>\n",
       "      <td>Bachelor's degree</td>\n",
       "      <td>White</td>\n",
       "      <td>0</td>\n",
       "      <td>57</td>\n",
       "      <td>Citizen, Native</td>\n",
       "      <td>Employed</td>\n",
       "      <td>Educational and health services</td>\n",
       "    </tr>\n",
       "    <tr>\n",
       "      <th>3</th>\n",
       "      <td>3</td>\n",
       "      <td>South</td>\n",
       "      <td>Alabama</td>\n",
       "      <td>26620.0</td>\n",
       "      <td>26</td>\n",
       "      <td>Never Married</td>\n",
       "      <td>Male</td>\n",
       "      <td>High school</td>\n",
       "      <td>White</td>\n",
       "      <td>0</td>\n",
       "      <td>57</td>\n",
       "      <td>Citizen, Native</td>\n",
       "      <td>Employed</td>\n",
       "      <td>Transportation and utilities</td>\n",
       "    </tr>\n",
       "    <tr>\n",
       "      <th>4</th>\n",
       "      <td>2</td>\n",
       "      <td>South</td>\n",
       "      <td>Alabama</td>\n",
       "      <td>33660.0</td>\n",
       "      <td>71</td>\n",
       "      <td>Divorced</td>\n",
       "      <td>Female</td>\n",
       "      <td>High school</td>\n",
       "      <td>White</td>\n",
       "      <td>0</td>\n",
       "      <td>57</td>\n",
       "      <td>Citizen, Native</td>\n",
       "      <td>Employed</td>\n",
       "      <td>Educational and health services</td>\n",
       "    </tr>\n",
       "    <tr>\n",
       "      <th>...</th>\n",
       "      <td>...</td>\n",
       "      <td>...</td>\n",
       "      <td>...</td>\n",
       "      <td>...</td>\n",
       "      <td>...</td>\n",
       "      <td>...</td>\n",
       "      <td>...</td>\n",
       "      <td>...</td>\n",
       "      <td>...</td>\n",
       "      <td>...</td>\n",
       "      <td>...</td>\n",
       "      <td>...</td>\n",
       "      <td>...</td>\n",
       "      <td>...</td>\n",
       "    </tr>\n",
       "    <tr>\n",
       "      <th>49391</th>\n",
       "      <td>3</td>\n",
       "      <td>Midwest</td>\n",
       "      <td>Wisconsin</td>\n",
       "      <td>20740.0</td>\n",
       "      <td>47</td>\n",
       "      <td>Married</td>\n",
       "      <td>Female</td>\n",
       "      <td>Associate degree</td>\n",
       "      <td>White</td>\n",
       "      <td>0</td>\n",
       "      <td>57</td>\n",
       "      <td>Citizen, Native</td>\n",
       "      <td>Employed</td>\n",
       "      <td>Construction</td>\n",
       "    </tr>\n",
       "    <tr>\n",
       "      <th>49392</th>\n",
       "      <td>3</td>\n",
       "      <td>Midwest</td>\n",
       "      <td>Wisconsin</td>\n",
       "      <td>20740.0</td>\n",
       "      <td>55</td>\n",
       "      <td>Married</td>\n",
       "      <td>Male</td>\n",
       "      <td>Associate degree</td>\n",
       "      <td>White</td>\n",
       "      <td>0</td>\n",
       "      <td>57</td>\n",
       "      <td>Citizen, Native</td>\n",
       "      <td>Employed</td>\n",
       "      <td>Construction</td>\n",
       "    </tr>\n",
       "    <tr>\n",
       "      <th>49393</th>\n",
       "      <td>1</td>\n",
       "      <td>Midwest</td>\n",
       "      <td>Wisconsin</td>\n",
       "      <td>11540.0</td>\n",
       "      <td>48</td>\n",
       "      <td>Never Married</td>\n",
       "      <td>Male</td>\n",
       "      <td>Bachelor's degree</td>\n",
       "      <td>White</td>\n",
       "      <td>0</td>\n",
       "      <td>57</td>\n",
       "      <td>Citizen, Native</td>\n",
       "      <td>Employed</td>\n",
       "      <td>Construction</td>\n",
       "    </tr>\n",
       "    <tr>\n",
       "      <th>49394</th>\n",
       "      <td>2</td>\n",
       "      <td>Midwest</td>\n",
       "      <td>Wisconsin</td>\n",
       "      <td>20740.0</td>\n",
       "      <td>56</td>\n",
       "      <td>Married</td>\n",
       "      <td>Female</td>\n",
       "      <td>Some college, no degree</td>\n",
       "      <td>White</td>\n",
       "      <td>0</td>\n",
       "      <td>57</td>\n",
       "      <td>Citizen, Native</td>\n",
       "      <td>Employed</td>\n",
       "      <td>Manufacturing</td>\n",
       "    </tr>\n",
       "    <tr>\n",
       "      <th>49395</th>\n",
       "      <td>2</td>\n",
       "      <td>Midwest</td>\n",
       "      <td>Wisconsin</td>\n",
       "      <td>20740.0</td>\n",
       "      <td>59</td>\n",
       "      <td>Married</td>\n",
       "      <td>Male</td>\n",
       "      <td>Associate degree</td>\n",
       "      <td>White</td>\n",
       "      <td>0</td>\n",
       "      <td>57</td>\n",
       "      <td>Citizen, Native</td>\n",
       "      <td>Employed</td>\n",
       "      <td>Manufacturing</td>\n",
       "    </tr>\n",
       "  </tbody>\n",
       "</table>\n",
       "<p>49396 rows × 14 columns</p>\n",
       "</div>"
      ],
      "text/plain": [
       "       PeopleInHousehold   Region      State  MetroAreaCode  Age  \\\n",
       "0                      3    South    Alabama        13820.0   21   \n",
       "1                      3    South    Alabama        26620.0   52   \n",
       "2                      3    South    Alabama        26620.0   24   \n",
       "3                      3    South    Alabama        26620.0   26   \n",
       "4                      2    South    Alabama        33660.0   71   \n",
       "...                  ...      ...        ...            ...  ...   \n",
       "49391                  3  Midwest  Wisconsin        20740.0   47   \n",
       "49392                  3  Midwest  Wisconsin        20740.0   55   \n",
       "49393                  1  Midwest  Wisconsin        11540.0   48   \n",
       "49394                  2  Midwest  Wisconsin        20740.0   56   \n",
       "49395                  2  Midwest  Wisconsin        20740.0   59   \n",
       "\n",
       "             Married     Sex                Education   Race  Hispanic  \\\n",
       "0      Never Married    Male              High school  Black         0   \n",
       "1            Widowed  Female         Associate degree  White         0   \n",
       "2      Never Married    Male        Bachelor's degree  White         0   \n",
       "3      Never Married    Male              High school  White         0   \n",
       "4           Divorced  Female              High school  White         0   \n",
       "...              ...     ...                      ...    ...       ...   \n",
       "49391        Married  Female         Associate degree  White         0   \n",
       "49392        Married    Male         Associate degree  White         0   \n",
       "49393  Never Married    Male        Bachelor's degree  White         0   \n",
       "49394        Married  Female  Some college, no degree  White         0   \n",
       "49395        Married    Male         Associate degree  White         0   \n",
       "\n",
       "       CountryOfBirthCode      Citizenship EmploymentStatus  \\\n",
       "0                      57  Citizen, Native       Unemployed   \n",
       "1                      57  Citizen, Native         Employed   \n",
       "2                      57  Citizen, Native         Employed   \n",
       "3                      57  Citizen, Native         Employed   \n",
       "4                      57  Citizen, Native         Employed   \n",
       "...                   ...              ...              ...   \n",
       "49391                  57  Citizen, Native         Employed   \n",
       "49392                  57  Citizen, Native         Employed   \n",
       "49393                  57  Citizen, Native         Employed   \n",
       "49394                  57  Citizen, Native         Employed   \n",
       "49395                  57  Citizen, Native         Employed   \n",
       "\n",
       "                                 Industry  \n",
       "0      Professional and business services  \n",
       "1      Professional and business services  \n",
       "2         Educational and health services  \n",
       "3            Transportation and utilities  \n",
       "4         Educational and health services  \n",
       "...                                   ...  \n",
       "49391                        Construction  \n",
       "49392                        Construction  \n",
       "49393                        Construction  \n",
       "49394                       Manufacturing  \n",
       "49395                       Manufacturing  \n",
       "\n",
       "[49396 rows x 14 columns]"
      ]
     },
     "execution_count": 263,
     "metadata": {},
     "output_type": "execute_result"
    }
   ],
   "source": [
    "df = pd.read_csv(r\"C:\\Users\\Owner\\Downloads\\Statistics\\CPSData.csv\")\n",
    "df = df.dropna().reset_index(drop=True)\n",
    "df"
   ]
  },
  {
   "cell_type": "code",
   "execution_count": 264,
   "metadata": {
    "scrolled": true
   },
   "outputs": [
    {
     "data": {
      "text/html": [
       "<div>\n",
       "<style scoped>\n",
       "    .dataframe tbody tr th:only-of-type {\n",
       "        vertical-align: middle;\n",
       "    }\n",
       "\n",
       "    .dataframe tbody tr th {\n",
       "        vertical-align: top;\n",
       "    }\n",
       "\n",
       "    .dataframe thead tr th {\n",
       "        text-align: left;\n",
       "    }\n",
       "\n",
       "    .dataframe thead tr:last-of-type th {\n",
       "        text-align: right;\n",
       "    }\n",
       "</style>\n",
       "<table border=\"1\" class=\"dataframe\">\n",
       "  <thead>\n",
       "    <tr>\n",
       "      <th></th>\n",
       "      <th>Married</th>\n",
       "      <th>Age</th>\n",
       "      <th>Names</th>\n",
       "    </tr>\n",
       "    <tr>\n",
       "      <th></th>\n",
       "      <th>count</th>\n",
       "      <th>mean</th>\n",
       "      <th></th>\n",
       "    </tr>\n",
       "    <tr>\n",
       "      <th>Married</th>\n",
       "      <th></th>\n",
       "      <th></th>\n",
       "      <th></th>\n",
       "    </tr>\n",
       "  </thead>\n",
       "  <tbody>\n",
       "    <tr>\n",
       "      <th>Divorced</th>\n",
       "      <td>357</td>\n",
       "      <td>48.518207</td>\n",
       "      <td>Divorced</td>\n",
       "    </tr>\n",
       "    <tr>\n",
       "      <th>Married</th>\n",
       "      <td>1106</td>\n",
       "      <td>46.616637</td>\n",
       "      <td>Married</td>\n",
       "    </tr>\n",
       "    <tr>\n",
       "      <th>Never Married</th>\n",
       "      <td>1329</td>\n",
       "      <td>30.758465</td>\n",
       "      <td>Never Married</td>\n",
       "    </tr>\n",
       "    <tr>\n",
       "      <th>Separated</th>\n",
       "      <td>85</td>\n",
       "      <td>42.529412</td>\n",
       "      <td>Separated</td>\n",
       "    </tr>\n",
       "    <tr>\n",
       "      <th>Widowed</th>\n",
       "      <td>64</td>\n",
       "      <td>58.921875</td>\n",
       "      <td>Widowed</td>\n",
       "    </tr>\n",
       "  </tbody>\n",
       "</table>\n",
       "</div>"
      ],
      "text/plain": [
       "              Married        Age          Names\n",
       "                count       mean               \n",
       "Married                                        \n",
       "Divorced          357  48.518207       Divorced\n",
       "Married          1106  46.616637        Married\n",
       "Never Married    1329  30.758465  Never Married\n",
       "Separated          85  42.529412      Separated\n",
       "Widowed            64  58.921875        Widowed"
      ]
     },
     "execution_count": 264,
     "metadata": {},
     "output_type": "execute_result"
    }
   ],
   "source": [
    "df_National = df[(df['EmploymentStatus']=='Unemployed')].reset_index(drop=True)\n",
    "df_agg = df_National.groupby('Married').agg({'Married':['count'],'Age':['mean']})\n",
    "df_agg['Names'] = df_agg.index\n",
    "df_agg"
   ]
  },
  {
   "cell_type": "code",
   "execution_count": 265,
   "metadata": {},
   "outputs": [
    {
     "data": {
      "image/png": "[encoded data removed]",
      "text/plain": [
       "<Figure size 432x288 with 1 Axes>"
      ]
     },
     "metadata": {},
     "output_type": "display_data"
    }
   ],
   "source": [
    "sns.set_theme(style=\"whitegrid\")\n",
    "ax = sns.barplot(x=df_agg.index, y=df_agg['Age']['mean'], data=df_agg)"
   ]
  },
  {
   "cell_type": "code",
   "execution_count": 266,
   "metadata": {},
   "outputs": [],
   "source": [
    "data=pd.DataFrame({'divorced' : df_National['Age'][(df_National['Married']=='Divorced') ],\n",
    "'married' : df_National['Age'][(df_National['Married']=='Married') ],\n",
    "'never_married' : df_National['Age'][(df_National['Married']=='Never Married') ],\n",
    "'separated' : df_National['Age'][(df_National['Married']=='Separated') ],\n",
    "'widowed' : df_National['Age'][(df_National['Married']=='Widowed') ]}).reset_index(drop=True)"
   ]
  },
  {
   "cell_type": "code",
   "execution_count": 267,
   "metadata": {
    "scrolled": false
   },
   "outputs": [
    {
     "data": {
      "text/html": [
       "<div>\n",
       "<style scoped>\n",
       "    .dataframe tbody tr th:only-of-type {\n",
       "        vertical-align: middle;\n",
       "    }\n",
       "\n",
       "    .dataframe tbody tr th {\n",
       "        vertical-align: top;\n",
       "    }\n",
       "\n",
       "    .dataframe thead th {\n",
       "        text-align: right;\n",
       "    }\n",
       "</style>\n",
       "<table border=\"1\" class=\"dataframe\">\n",
       "  <thead>\n",
       "    <tr style=\"text-align: right;\">\n",
       "      <th></th>\n",
       "      <th>divorced</th>\n",
       "      <th>married</th>\n",
       "      <th>never_married</th>\n",
       "      <th>separated</th>\n",
       "      <th>widowed</th>\n",
       "    </tr>\n",
       "  </thead>\n",
       "  <tbody>\n",
       "    <tr>\n",
       "      <th>0</th>\n",
       "      <td>NaN</td>\n",
       "      <td>NaN</td>\n",
       "      <td>21.0</td>\n",
       "      <td>NaN</td>\n",
       "      <td>NaN</td>\n",
       "    </tr>\n",
       "    <tr>\n",
       "      <th>1</th>\n",
       "      <td>NaN</td>\n",
       "      <td>NaN</td>\n",
       "      <td>21.0</td>\n",
       "      <td>NaN</td>\n",
       "      <td>NaN</td>\n",
       "    </tr>\n",
       "    <tr>\n",
       "      <th>2</th>\n",
       "      <td>NaN</td>\n",
       "      <td>NaN</td>\n",
       "      <td>27.0</td>\n",
       "      <td>NaN</td>\n",
       "      <td>NaN</td>\n",
       "    </tr>\n",
       "    <tr>\n",
       "      <th>3</th>\n",
       "      <td>40.0</td>\n",
       "      <td>NaN</td>\n",
       "      <td>NaN</td>\n",
       "      <td>NaN</td>\n",
       "      <td>NaN</td>\n",
       "    </tr>\n",
       "    <tr>\n",
       "      <th>4</th>\n",
       "      <td>NaN</td>\n",
       "      <td>NaN</td>\n",
       "      <td>35.0</td>\n",
       "      <td>NaN</td>\n",
       "      <td>NaN</td>\n",
       "    </tr>\n",
       "  </tbody>\n",
       "</table>\n",
       "</div>"
      ],
      "text/plain": [
       "   divorced  married  never_married  separated  widowed\n",
       "0       NaN      NaN           21.0        NaN      NaN\n",
       "1       NaN      NaN           21.0        NaN      NaN\n",
       "2       NaN      NaN           27.0        NaN      NaN\n",
       "3      40.0      NaN            NaN        NaN      NaN\n",
       "4       NaN      NaN           35.0        NaN      NaN"
      ]
     },
     "execution_count": 267,
     "metadata": {},
     "output_type": "execute_result"
    }
   ],
   "source": [
    "data.head()"
   ]
  },
  {
   "cell_type": "code",
   "execution_count": 268,
   "metadata": {
    "scrolled": true
   },
   "outputs": [
    {
     "data": {
      "text/html": [
       "<div>\n",
       "<style scoped>\n",
       "    .dataframe tbody tr th:only-of-type {\n",
       "        vertical-align: middle;\n",
       "    }\n",
       "\n",
       "    .dataframe tbody tr th {\n",
       "        vertical-align: top;\n",
       "    }\n",
       "\n",
       "    .dataframe thead th {\n",
       "        text-align: right;\n",
       "    }\n",
       "</style>\n",
       "<table border=\"1\" class=\"dataframe\">\n",
       "  <thead>\n",
       "    <tr style=\"text-align: right;\">\n",
       "      <th></th>\n",
       "      <th>divorced</th>\n",
       "      <th>married</th>\n",
       "      <th>never_married</th>\n",
       "      <th>separated</th>\n",
       "      <th>widowed</th>\n",
       "    </tr>\n",
       "  </thead>\n",
       "  <tbody>\n",
       "    <tr>\n",
       "      <th>count</th>\n",
       "      <td>357.000000</td>\n",
       "      <td>1106.000000</td>\n",
       "      <td>1329.000000</td>\n",
       "      <td>85.000000</td>\n",
       "      <td>64.000000</td>\n",
       "    </tr>\n",
       "    <tr>\n",
       "      <th>mean</th>\n",
       "      <td>48.518207</td>\n",
       "      <td>46.616637</td>\n",
       "      <td>30.758465</td>\n",
       "      <td>42.529412</td>\n",
       "      <td>58.921875</td>\n",
       "    </tr>\n",
       "    <tr>\n",
       "      <th>std</th>\n",
       "      <td>11.690668</td>\n",
       "      <td>12.453332</td>\n",
       "      <td>12.126388</td>\n",
       "      <td>12.819803</td>\n",
       "      <td>13.565016</td>\n",
       "    </tr>\n",
       "    <tr>\n",
       "      <th>min</th>\n",
       "      <td>16.000000</td>\n",
       "      <td>19.000000</td>\n",
       "      <td>15.000000</td>\n",
       "      <td>17.000000</td>\n",
       "      <td>27.000000</td>\n",
       "    </tr>\n",
       "    <tr>\n",
       "      <th>25%</th>\n",
       "      <td>40.000000</td>\n",
       "      <td>37.000000</td>\n",
       "      <td>22.000000</td>\n",
       "      <td>33.000000</td>\n",
       "      <td>50.750000</td>\n",
       "    </tr>\n",
       "    <tr>\n",
       "      <th>50%</th>\n",
       "      <td>50.000000</td>\n",
       "      <td>47.000000</td>\n",
       "      <td>27.000000</td>\n",
       "      <td>41.000000</td>\n",
       "      <td>58.500000</td>\n",
       "    </tr>\n",
       "    <tr>\n",
       "      <th>75%</th>\n",
       "      <td>58.000000</td>\n",
       "      <td>56.000000</td>\n",
       "      <td>36.000000</td>\n",
       "      <td>53.000000</td>\n",
       "      <td>69.250000</td>\n",
       "    </tr>\n",
       "    <tr>\n",
       "      <th>max</th>\n",
       "      <td>74.000000</td>\n",
       "      <td>85.000000</td>\n",
       "      <td>85.000000</td>\n",
       "      <td>73.000000</td>\n",
       "      <td>80.000000</td>\n",
       "    </tr>\n",
       "  </tbody>\n",
       "</table>\n",
       "</div>"
      ],
      "text/plain": [
       "         divorced      married  never_married  separated    widowed\n",
       "count  357.000000  1106.000000    1329.000000  85.000000  64.000000\n",
       "mean    48.518207    46.616637      30.758465  42.529412  58.921875\n",
       "std     11.690668    12.453332      12.126388  12.819803  13.565016\n",
       "min     16.000000    19.000000      15.000000  17.000000  27.000000\n",
       "25%     40.000000    37.000000      22.000000  33.000000  50.750000\n",
       "50%     50.000000    47.000000      27.000000  41.000000  58.500000\n",
       "75%     58.000000    56.000000      36.000000  53.000000  69.250000\n",
       "max     74.000000    85.000000      85.000000  73.000000  80.000000"
      ]
     },
     "execution_count": 268,
     "metadata": {},
     "output_type": "execute_result"
    }
   ],
   "source": [
    "data.describe()"
   ]
  },
  {
   "cell_type": "code",
   "execution_count": 269,
   "metadata": {},
   "outputs": [],
   "source": [
    "import random"
   ]
  },
  {
   "cell_type": "code",
   "execution_count": 270,
   "metadata": {},
   "outputs": [],
   "source": [
    "np.random.seed(1234)\n",
    "\n",
    "dataNew=pd.DataFrame({'divorced' : random.sample(list(df_National['Age'][(df_National['Married']=='Divorced') ]),10),\n",
    "'married' : random.sample(list(df_National['Age'][(df_National['Married']=='Married') ]),10),\n",
    "'never_married' : random.sample(list(df_National['Age'][(df_National['Married']=='Never Married') ]),10),\n",
    "'separated' : random.sample(list(df_National['Age'][(df_National['Married']=='Separated') ]),10),\n",
    "'widowed' : random.sample(list(df_National['Age'][(df_National['Married']=='Widowed') ]),10)})"
   ]
  },
  {
   "cell_type": "code",
   "execution_count": 271,
   "metadata": {},
   "outputs": [],
   "source": [
    "dataNew['divorced'],fitted_lambda = stats.boxcox(dataNew['divorced'])\n",
    "dataNew['married'],fitted_lambda = stats.boxcox(dataNew['married'])\n",
    "dataNew['never_married'],fitted_lambda = stats.boxcox(dataNew['never_married'])\n",
    "dataNew['separated'],fitted_lambda = stats.boxcox(dataNew['separated'])\n",
    "dataNew['widowed'],fitted_lambda = stats.boxcox(dataNew['widowed'])"
   ]
  },
  {
   "cell_type": "code",
   "execution_count": 272,
   "metadata": {},
   "outputs": [
    {
     "name": "stdout",
     "output_type": "stream",
     "text": [
      "F-Statistic=96.227, p=0.000 \n",
      "\n",
      "Reject null hypothesis\n"
     ]
    }
   ],
   "source": [
    "F, p = stats.f_oneway(dataNew.divorced.values, dataNew.married.values, dataNew.never_married.values, dataNew.separated.values, dataNew.widowed.values)\n",
    "\n",
    "print('F-Statistic=%.3f, p=%.3f \\n' % (F, p))\n",
    "\n",
    "if p<0.05:\n",
    "    print(\"Reject null hypothesis\")\n",
    "else:\n",
    "    print(\"Accept null hypothesis\")"
   ]
  },
  {
   "cell_type": "code",
   "execution_count": 273,
   "metadata": {
    "scrolled": true
   },
   "outputs": [
    {
     "data": {
      "text/html": [
       "<table class=\"simpletable\">\n",
       "<caption>OLS Regression Results</caption>\n",
       "<tr>\n",
       "  <th>Dep. Variable:</th>           <td>Age</td>       <th>  R-squared:         </th>  <td>   0.286</td>  \n",
       "</tr>\n",
       "<tr>\n",
       "  <th>Model:</th>                   <td>OLS</td>       <th>  Adj. R-squared:    </th>  <td>   0.286</td>  \n",
       "</tr>\n",
       "<tr>\n",
       "  <th>Method:</th>             <td>Least Squares</td>  <th>  F-statistic:       </th>  <td>   4946.</td>  \n",
       "</tr>\n",
       "<tr>\n",
       "  <th>Date:</th>             <td>Wed, 11 Aug 2021</td> <th>  Prob (F-statistic):</th>   <td>  0.00</td>   \n",
       "</tr>\n",
       "<tr>\n",
       "  <th>Time:</th>                 <td>20:00:15</td>     <th>  Log-Likelihood:    </th> <td>-1.9291e+05</td>\n",
       "</tr>\n",
       "<tr>\n",
       "  <th>No. Observations:</th>      <td> 49396</td>      <th>  AIC:               </th>  <td>3.858e+05</td> \n",
       "</tr>\n",
       "<tr>\n",
       "  <th>Df Residuals:</th>          <td> 49391</td>      <th>  BIC:               </th>  <td>3.859e+05</td> \n",
       "</tr>\n",
       "<tr>\n",
       "  <th>Df Model:</th>              <td>     4</td>      <th>                     </th>      <td> </td>     \n",
       "</tr>\n",
       "<tr>\n",
       "  <th>Covariance Type:</th>      <td>nonrobust</td>    <th>                     </th>      <td> </td>     \n",
       "</tr>\n",
       "</table>\n",
       "<table class=\"simpletable\">\n",
       "<tr>\n",
       "               <td></td>                  <th>coef</th>     <th>std err</th>      <th>t</th>      <th>P>|t|</th>  <th>[0.025</th>    <th>0.975]</th>  \n",
       "</tr>\n",
       "<tr>\n",
       "  <th>Intercept</th>                   <td>   49.4549</td> <td>    0.164</td> <td>  301.916</td> <td> 0.000</td> <td>   49.134</td> <td>   49.776</td>\n",
       "</tr>\n",
       "<tr>\n",
       "  <th>C(Married)[T.Married]</th>       <td>   -2.8493</td> <td>    0.179</td> <td>  -15.886</td> <td> 0.000</td> <td>   -3.201</td> <td>   -2.498</td>\n",
       "</tr>\n",
       "<tr>\n",
       "  <th>C(Married)[T.Never Married]</th> <td>  -18.0908</td> <td>    0.191</td> <td>  -94.739</td> <td> 0.000</td> <td>  -18.465</td> <td>  -17.716</td>\n",
       "</tr>\n",
       "<tr>\n",
       "  <th>C(Married)[T.Separated]</th>     <td>   -6.1082</td> <td>    0.405</td> <td>  -15.064</td> <td> 0.000</td> <td>   -6.903</td> <td>   -5.313</td>\n",
       "</tr>\n",
       "<tr>\n",
       "  <th>C(Married)[T.Widowed]</th>       <td>   10.6366</td> <td>    0.431</td> <td>   24.656</td> <td> 0.000</td> <td>    9.791</td> <td>   11.482</td>\n",
       "</tr>\n",
       "</table>\n",
       "<table class=\"simpletable\">\n",
       "<tr>\n",
       "  <th>Omnibus:</th>       <td>1395.276</td> <th>  Durbin-Watson:     </th> <td>   1.581</td>\n",
       "</tr>\n",
       "<tr>\n",
       "  <th>Prob(Omnibus):</th>  <td> 0.000</td>  <th>  Jarque-Bera (JB):  </th> <td>1514.563</td>\n",
       "</tr>\n",
       "<tr>\n",
       "  <th>Skew:</th>           <td> 0.428</td>  <th>  Prob(JB):          </th> <td>    0.00</td>\n",
       "</tr>\n",
       "<tr>\n",
       "  <th>Kurtosis:</th>       <td> 2.931</td>  <th>  Cond. No.          </th> <td>    10.7</td>\n",
       "</tr>\n",
       "</table><br/><br/>Notes:<br/>[1] Standard Errors assume that the covariance matrix of the errors is correctly specified."
      ],
      "text/plain": [
       "<class 'statsmodels.iolib.summary.Summary'>\n",
       "\"\"\"\n",
       "                            OLS Regression Results                            \n",
       "==============================================================================\n",
       "Dep. Variable:                    Age   R-squared:                       0.286\n",
       "Model:                            OLS   Adj. R-squared:                  0.286\n",
       "Method:                 Least Squares   F-statistic:                     4946.\n",
       "Date:                Wed, 11 Aug 2021   Prob (F-statistic):               0.00\n",
       "Time:                        20:00:15   Log-Likelihood:            -1.9291e+05\n",
       "No. Observations:               49396   AIC:                         3.858e+05\n",
       "Df Residuals:                   49391   BIC:                         3.859e+05\n",
       "Df Model:                           4                                         \n",
       "Covariance Type:            nonrobust                                         \n",
       "===============================================================================================\n",
       "                                  coef    std err          t      P>|t|      [0.025      0.975]\n",
       "-----------------------------------------------------------------------------------------------\n",
       "Intercept                      49.4549      0.164    301.916      0.000      49.134      49.776\n",
       "C(Married)[T.Married]          -2.8493      0.179    -15.886      0.000      -3.201      -2.498\n",
       "C(Married)[T.Never Married]   -18.0908      0.191    -94.739      0.000     -18.465     -17.716\n",
       "C(Married)[T.Separated]        -6.1082      0.405    -15.064      0.000      -6.903      -5.313\n",
       "C(Married)[T.Widowed]          10.6366      0.431     24.656      0.000       9.791      11.482\n",
       "==============================================================================\n",
       "Omnibus:                     1395.276   Durbin-Watson:                   1.581\n",
       "Prob(Omnibus):                  0.000   Jarque-Bera (JB):             1514.563\n",
       "Skew:                           0.428   Prob(JB):                         0.00\n",
       "Kurtosis:                       2.931   Cond. No.                         10.7\n",
       "==============================================================================\n",
       "\n",
       "Notes:\n",
       "[1] Standard Errors assume that the covariance matrix of the errors is correctly specified.\n",
       "\"\"\""
      ]
     },
     "execution_count": 273,
     "metadata": {},
     "output_type": "execute_result"
    }
   ],
   "source": [
    "model = ols('Age ~ C(Married)', df).fit()\n",
    "model.summary()"
   ]
  },
  {
   "cell_type": "code",
   "execution_count": 274,
   "metadata": {},
   "outputs": [
    {
     "name": "stdout",
     "output_type": "stream",
     "text": [
      "Overall model F( 4, 49391) =  4945.513, p =  0.0000\n"
     ]
    },
    {
     "data": {
      "text/html": [
       "<div>\n",
       "<style scoped>\n",
       "    .dataframe tbody tr th:only-of-type {\n",
       "        vertical-align: middle;\n",
       "    }\n",
       "\n",
       "    .dataframe tbody tr th {\n",
       "        vertical-align: top;\n",
       "    }\n",
       "\n",
       "    .dataframe thead th {\n",
       "        text-align: right;\n",
       "    }\n",
       "</style>\n",
       "<table border=\"1\" class=\"dataframe\">\n",
       "  <thead>\n",
       "    <tr style=\"text-align: right;\">\n",
       "      <th></th>\n",
       "      <th>sum_sq</th>\n",
       "      <th>df</th>\n",
       "      <th>F</th>\n",
       "      <th>PR(&gt;F)</th>\n",
       "    </tr>\n",
       "  </thead>\n",
       "  <tbody>\n",
       "    <tr>\n",
       "      <th>C(Married)</th>\n",
       "      <td>2.857733e+06</td>\n",
       "      <td>4.0</td>\n",
       "      <td>4945.512739</td>\n",
       "      <td>0.0</td>\n",
       "    </tr>\n",
       "    <tr>\n",
       "      <th>Residual</th>\n",
       "      <td>7.135068e+06</td>\n",
       "      <td>49391.0</td>\n",
       "      <td>NaN</td>\n",
       "      <td>NaN</td>\n",
       "    </tr>\n",
       "  </tbody>\n",
       "</table>\n",
       "</div>"
      ],
      "text/plain": [
       "                  sum_sq       df            F  PR(>F)\n",
       "C(Married)  2.857733e+06      4.0  4945.512739     0.0\n",
       "Residual    7.135068e+06  49391.0          NaN     NaN"
      ]
     },
     "execution_count": 274,
     "metadata": {},
     "output_type": "execute_result"
    }
   ],
   "source": [
    "# Seeing if the overall model is significant\n",
    "print(f\"Overall model F({model.df_model: .0f},{model.df_resid: .0f}) = {model.fvalue: .3f}, p = {model.f_pvalue: .4f}\")\n",
    "\n",
    "# Creates the ANOVA table\n",
    "res = sm.stats.anova_lm(model, typ= 2)\n",
    "res"
   ]
  },
  {
   "cell_type": "markdown",
   "metadata": {},
   "source": [
    "### Tuckey Test"
   ]
  },
  {
   "cell_type": "code",
   "execution_count": 275,
   "metadata": {},
   "outputs": [],
   "source": [
    "import statsmodels.api as sm\n",
    "import statsmodels.stats.multicomp\n",
    "from statsmodels.formula.api import ols\n",
    "from statsmodels.stats.anova import anova_lm\n",
    "from statsmodels.stats.multicomp import pairwise_tukeyhsd,MultiComparison"
   ]
  },
  {
   "cell_type": "code",
   "execution_count": 276,
   "metadata": {
    "scrolled": true
   },
   "outputs": [
    {
     "name": "stdout",
     "output_type": "stream",
     "text": [
      "        Multiple Comparison of Means - Tukey HSD, FWER=0.05         \n",
      "====================================================================\n",
      "    group1        group2    meandiff p-adj   lower    upper   reject\n",
      "--------------------------------------------------------------------\n",
      "     Divorced       Married  -1.9016 0.0804  -3.9371    0.134  False\n",
      "     Divorced Never Married -17.7597  0.001 -19.7532 -15.7663   True\n",
      "     Divorced     Separated  -5.9888  0.001 -10.0247  -1.9529   True\n",
      "     Divorced       Widowed  10.4037  0.001   5.8644   14.943   True\n",
      "      Married Never Married -15.8582  0.001 -17.2192 -14.4971   True\n",
      "      Married     Separated  -4.0872 0.0255  -7.8511  -0.3233   True\n",
      "      Married       Widowed  12.3052  0.001   8.0059  16.6045   True\n",
      "Never Married     Separated  11.7709  0.001   8.0296  15.5123   True\n",
      "Never Married       Widowed  28.1634  0.001  23.8839  32.4429   True\n",
      "    Separated       Widowed  16.3925  0.001  10.8581  21.9268   True\n",
      "--------------------------------------------------------------------\n"
     ]
    }
   ],
   "source": [
    "# perform Tukey's test\n",
    "tukey = pairwise_tukeyhsd(endog=df_National['Age'],\n",
    "                          groups=df_National['Married'],\n",
    "                          alpha=0.05)\n",
    "\n",
    "#display results\n",
    "print(tukey)"
   ]
  },
  {
   "cell_type": "markdown",
   "metadata": {},
   "source": [
    "- Thus, we would conclude that there is a statistically significant difference between the means of all groups except for 'Divorced' and 'Married'."
   ]
  },
  {
   "cell_type": "markdown",
   "metadata": {},
   "source": [
    "#### Normality Test"
   ]
  },
  {
   "cell_type": "code",
   "execution_count": 278,
   "metadata": {},
   "outputs": [
    {
     "data": {
      "image/png": "[encoded data removed]",
      "text/plain": [
       "<Figure size 432x288 with 1 Axes>"
      ]
     },
     "metadata": {},
     "output_type": "display_data"
    }
   ],
   "source": [
    "res = model.resid\n",
    "fig = sm.qqplot(res, line='s')\n",
    "plt.show()"
   ]
  },
  {
   "cell_type": "markdown",
   "metadata": {},
   "source": [
    "### 2 Way Anova"
   ]
  },
  {
   "cell_type": "code",
   "execution_count": 293,
   "metadata": {},
   "outputs": [
    {
     "data": {
      "text/html": [
       "<div>\n",
       "<style scoped>\n",
       "    .dataframe tbody tr th:only-of-type {\n",
       "        vertical-align: middle;\n",
       "    }\n",
       "\n",
       "    .dataframe tbody tr th {\n",
       "        vertical-align: top;\n",
       "    }\n",
       "\n",
       "    .dataframe thead th {\n",
       "        text-align: right;\n",
       "    }\n",
       "</style>\n",
       "<table border=\"1\" class=\"dataframe\">\n",
       "  <thead>\n",
       "    <tr style=\"text-align: right;\">\n",
       "      <th></th>\n",
       "      <th>Married</th>\n",
       "      <th>Region</th>\n",
       "      <th>Age</th>\n",
       "    </tr>\n",
       "  </thead>\n",
       "  <tbody>\n",
       "    <tr>\n",
       "      <th>0</th>\n",
       "      <td>Never Married</td>\n",
       "      <td>South</td>\n",
       "      <td>21</td>\n",
       "    </tr>\n",
       "    <tr>\n",
       "      <th>1</th>\n",
       "      <td>Never Married</td>\n",
       "      <td>South</td>\n",
       "      <td>21</td>\n",
       "    </tr>\n",
       "    <tr>\n",
       "      <th>2</th>\n",
       "      <td>Never Married</td>\n",
       "      <td>South</td>\n",
       "      <td>27</td>\n",
       "    </tr>\n",
       "    <tr>\n",
       "      <th>3</th>\n",
       "      <td>Divorced</td>\n",
       "      <td>South</td>\n",
       "      <td>40</td>\n",
       "    </tr>\n",
       "    <tr>\n",
       "      <th>4</th>\n",
       "      <td>Never Married</td>\n",
       "      <td>South</td>\n",
       "      <td>35</td>\n",
       "    </tr>\n",
       "  </tbody>\n",
       "</table>\n",
       "</div>"
      ],
      "text/plain": [
       "         Married Region  Age\n",
       "0  Never Married  South   21\n",
       "1  Never Married  South   21\n",
       "2  Never Married  South   27\n",
       "3       Divorced  South   40\n",
       "4  Never Married  South   35"
      ]
     },
     "execution_count": 293,
     "metadata": {},
     "output_type": "execute_result"
    }
   ],
   "source": [
    "df_National = df[['Married','Region','Age']][(df['EmploymentStatus']=='Unemployed')].reset_index(drop=True)\n",
    "df_National.head()"
   ]
  },
  {
   "cell_type": "code",
   "execution_count": 294,
   "metadata": {
    "scrolled": true
   },
   "outputs": [
    {
     "data": {
      "text/html": [
       "<div>\n",
       "<style scoped>\n",
       "    .dataframe tbody tr th:only-of-type {\n",
       "        vertical-align: middle;\n",
       "    }\n",
       "\n",
       "    .dataframe tbody tr th {\n",
       "        vertical-align: top;\n",
       "    }\n",
       "\n",
       "    .dataframe thead tr th {\n",
       "        text-align: left;\n",
       "    }\n",
       "</style>\n",
       "<table border=\"1\" class=\"dataframe\">\n",
       "  <thead>\n",
       "    <tr>\n",
       "      <th></th>\n",
       "      <th>Married</th>\n",
       "      <th>Region</th>\n",
       "      <th>Age</th>\n",
       "      <th>Region</th>\n",
       "    </tr>\n",
       "    <tr>\n",
       "      <th></th>\n",
       "      <th></th>\n",
       "      <th></th>\n",
       "      <th>mean</th>\n",
       "      <th>count</th>\n",
       "    </tr>\n",
       "  </thead>\n",
       "  <tbody>\n",
       "    <tr>\n",
       "      <th>0</th>\n",
       "      <td>Divorced</td>\n",
       "      <td>Midwest</td>\n",
       "      <td>46.589744</td>\n",
       "      <td>78</td>\n",
       "    </tr>\n",
       "    <tr>\n",
       "      <th>1</th>\n",
       "      <td>Divorced</td>\n",
       "      <td>Northeast</td>\n",
       "      <td>51.945946</td>\n",
       "      <td>74</td>\n",
       "    </tr>\n",
       "    <tr>\n",
       "      <th>2</th>\n",
       "      <td>Divorced</td>\n",
       "      <td>South</td>\n",
       "      <td>46.635417</td>\n",
       "      <td>96</td>\n",
       "    </tr>\n",
       "    <tr>\n",
       "      <th>3</th>\n",
       "      <td>Divorced</td>\n",
       "      <td>West</td>\n",
       "      <td>49.229358</td>\n",
       "      <td>109</td>\n",
       "    </tr>\n",
       "    <tr>\n",
       "      <th>4</th>\n",
       "      <td>Married</td>\n",
       "      <td>Midwest</td>\n",
       "      <td>46.343434</td>\n",
       "      <td>198</td>\n",
       "    </tr>\n",
       "  </tbody>\n",
       "</table>\n",
       "</div>"
      ],
      "text/plain": [
       "    Married     Region        Age Region\n",
       "                             mean  count\n",
       "0  Divorced    Midwest  46.589744     78\n",
       "1  Divorced  Northeast  51.945946     74\n",
       "2  Divorced      South  46.635417     96\n",
       "3  Divorced       West  49.229358    109\n",
       "4   Married    Midwest  46.343434    198"
      ]
     },
     "execution_count": 294,
     "metadata": {},
     "output_type": "execute_result"
    }
   ],
   "source": [
    "df_agg = df_National.groupby(['Married','Region']).agg({'Age':['mean'],'Region':['count']}).reset_index()\n",
    "df_agg.head()"
   ]
  },
  {
   "cell_type": "code",
   "execution_count": 295,
   "metadata": {
    "scrolled": true
   },
   "outputs": [
    {
     "data": {
      "text/html": [
       "<table class=\"simpletable\">\n",
       "<caption>OLS Regression Results</caption>\n",
       "<tr>\n",
       "  <th>Dep. Variable:</th>           <td>Age</td>       <th>  R-squared:         </th> <td>   0.330</td> \n",
       "</tr>\n",
       "<tr>\n",
       "  <th>Model:</th>                   <td>OLS</td>       <th>  Adj. R-squared:    </th> <td>   0.328</td> \n",
       "</tr>\n",
       "<tr>\n",
       "  <th>Method:</th>             <td>Least Squares</td>  <th>  F-statistic:       </th> <td>   206.3</td> \n",
       "</tr>\n",
       "<tr>\n",
       "  <th>Date:</th>             <td>Wed, 11 Aug 2021</td> <th>  Prob (F-statistic):</th> <td>1.55e-249</td>\n",
       "</tr>\n",
       "<tr>\n",
       "  <th>Time:</th>                 <td>20:03:34</td>     <th>  Log-Likelihood:    </th> <td> -11527.</td> \n",
       "</tr>\n",
       "<tr>\n",
       "  <th>No. Observations:</th>      <td>  2941</td>      <th>  AIC:               </th> <td>2.307e+04</td>\n",
       "</tr>\n",
       "<tr>\n",
       "  <th>Df Residuals:</th>          <td>  2933</td>      <th>  BIC:               </th> <td>2.312e+04</td>\n",
       "</tr>\n",
       "<tr>\n",
       "  <th>Df Model:</th>              <td>     7</td>      <th>                     </th>     <td> </td>    \n",
       "</tr>\n",
       "<tr>\n",
       "  <th>Covariance Type:</th>      <td>nonrobust</td>    <th>                     </th>     <td> </td>    \n",
       "</tr>\n",
       "</table>\n",
       "<table class=\"simpletable\">\n",
       "<tr>\n",
       "               <td></td>                  <th>coef</th>     <th>std err</th>      <th>t</th>      <th>P>|t|</th>  <th>[0.025</th>    <th>0.975]</th>  \n",
       "</tr>\n",
       "<tr>\n",
       "  <th>Intercept</th>                   <td>   48.0465</td> <td>    0.786</td> <td>   61.142</td> <td> 0.000</td> <td>   46.506</td> <td>   49.587</td>\n",
       "</tr>\n",
       "<tr>\n",
       "  <th>C(Region)[T.Northeast]</th>      <td>    2.5763</td> <td>    0.700</td> <td>    3.678</td> <td> 0.000</td> <td>    1.203</td> <td>    3.950</td>\n",
       "</tr>\n",
       "<tr>\n",
       "  <th>C(Region)[T.South]</th>          <td>    0.4205</td> <td>    0.652</td> <td>    0.645</td> <td> 0.519</td> <td>   -0.858</td> <td>    1.699</td>\n",
       "</tr>\n",
       "<tr>\n",
       "  <th>C(Region)[T.West]</th>           <td>   -0.5745</td> <td>    0.673</td> <td>   -0.854</td> <td> 0.393</td> <td>   -1.894</td> <td>    0.745</td>\n",
       "</tr>\n",
       "<tr>\n",
       "  <th>C(Married)[T.Married]</th>       <td>   -2.0361</td> <td>    0.744</td> <td>   -2.737</td> <td> 0.006</td> <td>   -3.495</td> <td>   -0.577</td>\n",
       "</tr>\n",
       "<tr>\n",
       "  <th>C(Married)[T.Never Married]</th> <td>  -17.8346</td> <td>    0.728</td> <td>  -24.495</td> <td> 0.000</td> <td>  -19.262</td> <td>  -16.407</td>\n",
       "</tr>\n",
       "<tr>\n",
       "  <th>C(Married)[T.Separated]</th>     <td>   -6.0641</td> <td>    1.474</td> <td>   -4.114</td> <td> 0.000</td> <td>   -8.954</td> <td>   -3.174</td>\n",
       "</tr>\n",
       "<tr>\n",
       "  <th>C(Married)[T.Widowed]</th>       <td>   10.4669</td> <td>    1.657</td> <td>    6.316</td> <td> 0.000</td> <td>    7.218</td> <td>   13.716</td>\n",
       "</tr>\n",
       "</table>\n",
       "<table class=\"simpletable\">\n",
       "<tr>\n",
       "  <th>Omnibus:</th>       <td>116.121</td> <th>  Durbin-Watson:     </th> <td>   1.913</td>\n",
       "</tr>\n",
       "<tr>\n",
       "  <th>Prob(Omnibus):</th> <td> 0.000</td>  <th>  Jarque-Bera (JB):  </th> <td> 129.229</td>\n",
       "</tr>\n",
       "<tr>\n",
       "  <th>Skew:</th>          <td> 0.509</td>  <th>  Prob(JB):          </th> <td>8.67e-29</td>\n",
       "</tr>\n",
       "<tr>\n",
       "  <th>Kurtosis:</th>      <td> 3.135</td>  <th>  Cond. No.          </th> <td>    10.4</td>\n",
       "</tr>\n",
       "</table><br/><br/>Notes:<br/>[1] Standard Errors assume that the covariance matrix of the errors is correctly specified."
      ],
      "text/plain": [
       "<class 'statsmodels.iolib.summary.Summary'>\n",
       "\"\"\"\n",
       "                            OLS Regression Results                            \n",
       "==============================================================================\n",
       "Dep. Variable:                    Age   R-squared:                       0.330\n",
       "Model:                            OLS   Adj. R-squared:                  0.328\n",
       "Method:                 Least Squares   F-statistic:                     206.3\n",
       "Date:                Wed, 11 Aug 2021   Prob (F-statistic):          1.55e-249\n",
       "Time:                        20:03:34   Log-Likelihood:                -11527.\n",
       "No. Observations:                2941   AIC:                         2.307e+04\n",
       "Df Residuals:                    2933   BIC:                         2.312e+04\n",
       "Df Model:                           7                                         \n",
       "Covariance Type:            nonrobust                                         \n",
       "===============================================================================================\n",
       "                                  coef    std err          t      P>|t|      [0.025      0.975]\n",
       "-----------------------------------------------------------------------------------------------\n",
       "Intercept                      48.0465      0.786     61.142      0.000      46.506      49.587\n",
       "C(Region)[T.Northeast]          2.5763      0.700      3.678      0.000       1.203       3.950\n",
       "C(Region)[T.South]              0.4205      0.652      0.645      0.519      -0.858       1.699\n",
       "C(Region)[T.West]              -0.5745      0.673     -0.854      0.393      -1.894       0.745\n",
       "C(Married)[T.Married]          -2.0361      0.744     -2.737      0.006      -3.495      -0.577\n",
       "C(Married)[T.Never Married]   -17.8346      0.728    -24.495      0.000     -19.262     -16.407\n",
       "C(Married)[T.Separated]        -6.0641      1.474     -4.114      0.000      -8.954      -3.174\n",
       "C(Married)[T.Widowed]          10.4669      1.657      6.316      0.000       7.218      13.716\n",
       "==============================================================================\n",
       "Omnibus:                      116.121   Durbin-Watson:                   1.913\n",
       "Prob(Omnibus):                  0.000   Jarque-Bera (JB):              129.229\n",
       "Skew:                           0.509   Prob(JB):                     8.67e-29\n",
       "Kurtosis:                       3.135   Cond. No.                         10.4\n",
       "==============================================================================\n",
       "\n",
       "Notes:\n",
       "[1] Standard Errors assume that the covariance matrix of the errors is correctly specified.\n",
       "\"\"\""
      ]
     },
     "execution_count": 295,
     "metadata": {},
     "output_type": "execute_result"
    }
   ],
   "source": [
    "import statsmodels.api as sm\n",
    "from statsmodels.formula.api import ols\n",
    "from statsmodels.stats.anova import anova_lm\n",
    "\n",
    "formula = 'Age ~ C(Region) + C(Married)'\n",
    "model = ols(formula, df_National).fit()\n",
    "model.summary()"
   ]
  },
  {
   "cell_type": "code",
   "execution_count": 296,
   "metadata": {
    "scrolled": true
   },
   "outputs": [
    {
     "name": "stdout",
     "output_type": "stream",
     "text": [
      "                 sum_sq      df         F  PR(>F)\n",
      "C(Region)     3885.8528     3.0    8.6971     0.0\n",
      "C(Married)  211056.6248     4.0  354.2832     0.0\n",
      "Residual    436817.9858  2933.0       NaN     NaN\n"
     ]
    }
   ],
   "source": [
    "aov_table = anova_lm(model, typ=2)\n",
    "print(aov_table.round(4))"
   ]
  },
  {
   "cell_type": "markdown",
   "metadata": {},
   "source": [
    "-The P-value obtained from ANOVA analysis for the number of Married and Region are statistically significant (P < 0.05). We conclude that type of Married significantly affects the corona case outcome."
   ]
  },
  {
   "cell_type": "markdown",
   "metadata": {},
   "source": [
    "### Tuckey Test"
   ]
  },
  {
   "cell_type": "code",
   "execution_count": 297,
   "metadata": {},
   "outputs": [
    {
     "name": "stdout",
     "output_type": "stream",
     "text": [
      "        Multiple Comparison of Means - Tukey HSD, FWER=0.05         \n",
      "====================================================================\n",
      "    group1        group2    meandiff p-adj   lower    upper   reject\n",
      "--------------------------------------------------------------------\n",
      "     Divorced       Married  -1.9016 0.0804  -3.9371    0.134  False\n",
      "     Divorced Never Married -17.7597  0.001 -19.7532 -15.7663   True\n",
      "     Divorced     Separated  -5.9888  0.001 -10.0247  -1.9529   True\n",
      "     Divorced       Widowed  10.4037  0.001   5.8644   14.943   True\n",
      "      Married Never Married -15.8582  0.001 -17.2192 -14.4971   True\n",
      "      Married     Separated  -4.0872 0.0255  -7.8511  -0.3233   True\n",
      "      Married       Widowed  12.3052  0.001   8.0059  16.6045   True\n",
      "Never Married     Separated  11.7709  0.001   8.0296  15.5123   True\n",
      "Never Married       Widowed  28.1634  0.001  23.8839  32.4429   True\n",
      "    Separated       Widowed  16.3925  0.001  10.8581  21.9268   True\n",
      "--------------------------------------------------------------------\n"
     ]
    }
   ],
   "source": [
    "# perform Tukey's test\n",
    "tukey = pairwise_tukeyhsd(endog=df_National['Age'],\n",
    "                          groups=df_National['Married'],\n",
    "                          alpha=0.05)\n",
    "\n",
    "#display results\n",
    "print(tukey)"
   ]
  },
  {
   "cell_type": "code",
   "execution_count": 298,
   "metadata": {
    "scrolled": true
   },
   "outputs": [
    {
     "name": "stdout",
     "output_type": "stream",
     "text": [
      "   Multiple Comparison of Means - Tukey HSD, FWER=0.05    \n",
      "==========================================================\n",
      "  group1    group2  meandiff p-adj   lower   upper  reject\n",
      "----------------------------------------------------------\n",
      "  Midwest Northeast   2.3981 0.0251  0.2099  4.5863   True\n",
      "  Midwest     South   0.0233    0.9  -2.014  2.0605  False\n",
      "  Midwest      West  -0.8303  0.716 -2.9349  1.2743  False\n",
      "Northeast     South  -2.3748 0.0092 -4.3188 -0.4308   True\n",
      "Northeast      West  -3.2284  0.001 -5.2429 -1.2139   True\n",
      "    South      West  -0.8536 0.6193  -2.703  0.9958  False\n",
      "----------------------------------------------------------\n"
     ]
    }
   ],
   "source": [
    "# perform Tukey's test\n",
    "tukey = pairwise_tukeyhsd(endog=df_National['Age'],\n",
    "                          groups=df_National['Region'],\n",
    "                          alpha=0.05)\n",
    "\n",
    "#display results\n",
    "print(tukey)"
   ]
  },
  {
   "cell_type": "markdown",
   "metadata": {},
   "source": [
    "#### Normality Test"
   ]
  },
  {
   "cell_type": "code",
   "execution_count": 299,
   "metadata": {
    "scrolled": true
   },
   "outputs": [
    {
     "data": {
      "image/png": "[encoded data removed]",
      "text/plain": [
       "<Figure size 432x288 with 1 Axes>"
      ]
     },
     "metadata": {},
     "output_type": "display_data"
    }
   ],
   "source": [
    "# Create the ANOVA table\n",
    "res2 = sm.stats.anova_lm(model, typ=2)\n",
    "res2\n",
    "\n",
    "#Check the Normal distribution of residuals\n",
    "res = model.resid\n",
    "fig = sm.qqplot(res, line='s')\n",
    "plt.show()"
   ]
  }
 ],
 "metadata": {
  "kernelspec": {
   "display_name": "Python 3",
   "language": "python",
   "name": "python3"
  },
  "language_info": {
   "codemirror_mode": {
    "name": "ipython",
    "version": 3
   },
   "file_extension": ".py",
   "mimetype": "text/x-python",
   "name": "python",
   "nbconvert_exporter": "python",
   "pygments_lexer": "ipython3",
   "version": "3.7.4"
  }
 },
 "nbformat": 4,
 "nbformat_minor": 2
}
