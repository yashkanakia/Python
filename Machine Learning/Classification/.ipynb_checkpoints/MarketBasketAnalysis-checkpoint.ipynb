{
 "cells": [
  {
   "cell_type": "markdown",
   "metadata": {},
   "source": [
    "<h2>KNN Classification</h2>"
   ]
  },
  {
   "cell_type": "markdown",
   "metadata": {},
   "source": [
    "<div class=\"alert alert-info\" style=\"background-color:#00a6b8; color:white; padding:0px 10px; border-radius:5px;\"><h2 style='margin:10px 5px'>Load the Data</h2>\n",
    "</div>"
   ]
  },
  {
   "cell_type": "code",
   "execution_count": 179,
   "metadata": {},
   "outputs": [],
   "source": [
    "import numpy as np\n",
    "import matplotlib.pyplot as plt\n",
    "import seaborn as sns\n",
    "import pandas as pd\n",
    "import sklearn\n",
    "from apyori import apriori"
   ]
  },
  {
   "cell_type": "code",
   "execution_count": 180,
   "metadata": {},
   "outputs": [
    {
     "name": "stdout",
     "output_type": "stream",
     "text": [
      "Total Records:  38765\n"
     ]
    }
   ],
   "source": [
    "#Reading the data\n",
    "\n",
    "groceries_df=pd.read_csv(r'C:\\Users\\Owner\\Downloads\\Machine Learning\\Classification\\Groceries_dataset.csv')\n",
    "print(\"Total Records: \",len(groceries_df))"
   ]
  },
  {
   "cell_type": "code",
   "execution_count": 181,
   "metadata": {
    "scrolled": true
   },
   "outputs": [
    {
     "data": {
      "text/html": [
       "<div>\n",
       "<style scoped>\n",
       "    .dataframe tbody tr th:only-of-type {\n",
       "        vertical-align: middle;\n",
       "    }\n",
       "\n",
       "    .dataframe tbody tr th {\n",
       "        vertical-align: top;\n",
       "    }\n",
       "\n",
       "    .dataframe thead th {\n",
       "        text-align: right;\n",
       "    }\n",
       "</style>\n",
       "<table border=\"1\" class=\"dataframe\">\n",
       "  <thead>\n",
       "    <tr style=\"text-align: right;\">\n",
       "      <th></th>\n",
       "      <th>Member_number</th>\n",
       "      <th>Date</th>\n",
       "      <th>itemDescription</th>\n",
       "    </tr>\n",
       "  </thead>\n",
       "  <tbody>\n",
       "    <tr>\n",
       "      <td>0</td>\n",
       "      <td>1808</td>\n",
       "      <td>21-07-2015</td>\n",
       "      <td>tropical fruit</td>\n",
       "    </tr>\n",
       "    <tr>\n",
       "      <td>1</td>\n",
       "      <td>2552</td>\n",
       "      <td>05-01-2015</td>\n",
       "      <td>whole milk</td>\n",
       "    </tr>\n",
       "    <tr>\n",
       "      <td>2</td>\n",
       "      <td>2300</td>\n",
       "      <td>19-09-2015</td>\n",
       "      <td>pip fruit</td>\n",
       "    </tr>\n",
       "    <tr>\n",
       "      <td>3</td>\n",
       "      <td>1187</td>\n",
       "      <td>12-12-2015</td>\n",
       "      <td>other vegetables</td>\n",
       "    </tr>\n",
       "    <tr>\n",
       "      <td>4</td>\n",
       "      <td>3037</td>\n",
       "      <td>01-02-2015</td>\n",
       "      <td>whole milk</td>\n",
       "    </tr>\n",
       "  </tbody>\n",
       "</table>\n",
       "</div>"
      ],
      "text/plain": [
       "   Member_number        Date   itemDescription\n",
       "0           1808  21-07-2015    tropical fruit\n",
       "1           2552  05-01-2015        whole milk\n",
       "2           2300  19-09-2015         pip fruit\n",
       "3           1187  12-12-2015  other vegetables\n",
       "4           3037  01-02-2015        whole milk"
      ]
     },
     "execution_count": 181,
     "metadata": {},
     "output_type": "execute_result"
    }
   ],
   "source": [
    "groceries_df.head()"
   ]
  },
  {
   "cell_type": "code",
   "execution_count": 182,
   "metadata": {},
   "outputs": [
    {
     "data": {
      "text/html": [
       "<div>\n",
       "<style scoped>\n",
       "    .dataframe tbody tr th:only-of-type {\n",
       "        vertical-align: middle;\n",
       "    }\n",
       "\n",
       "    .dataframe tbody tr th {\n",
       "        vertical-align: top;\n",
       "    }\n",
       "\n",
       "    .dataframe thead th {\n",
       "        text-align: right;\n",
       "    }\n",
       "</style>\n",
       "<table border=\"1\" class=\"dataframe\">\n",
       "  <thead>\n",
       "    <tr style=\"text-align: right;\">\n",
       "      <th></th>\n",
       "      <th>Member_number</th>\n",
       "      <th>Date</th>\n",
       "      <th>itemDescription</th>\n",
       "    </tr>\n",
       "  </thead>\n",
       "  <tbody>\n",
       "    <tr>\n",
       "      <td>38760</td>\n",
       "      <td>4471</td>\n",
       "      <td>08-10-2014</td>\n",
       "      <td>sliced cheese</td>\n",
       "    </tr>\n",
       "    <tr>\n",
       "      <td>38761</td>\n",
       "      <td>2022</td>\n",
       "      <td>23-02-2014</td>\n",
       "      <td>candy</td>\n",
       "    </tr>\n",
       "    <tr>\n",
       "      <td>38762</td>\n",
       "      <td>1097</td>\n",
       "      <td>16-04-2014</td>\n",
       "      <td>cake bar</td>\n",
       "    </tr>\n",
       "    <tr>\n",
       "      <td>38763</td>\n",
       "      <td>1510</td>\n",
       "      <td>03-12-2014</td>\n",
       "      <td>fruit/vegetable juice</td>\n",
       "    </tr>\n",
       "    <tr>\n",
       "      <td>38764</td>\n",
       "      <td>1521</td>\n",
       "      <td>26-12-2014</td>\n",
       "      <td>cat food</td>\n",
       "    </tr>\n",
       "  </tbody>\n",
       "</table>\n",
       "</div>"
      ],
      "text/plain": [
       "       Member_number        Date        itemDescription\n",
       "38760           4471  08-10-2014          sliced cheese\n",
       "38761           2022  23-02-2014                  candy\n",
       "38762           1097  16-04-2014               cake bar\n",
       "38763           1510  03-12-2014  fruit/vegetable juice\n",
       "38764           1521  26-12-2014               cat food"
      ]
     },
     "execution_count": 182,
     "metadata": {},
     "output_type": "execute_result"
    }
   ],
   "source": [
    "groceries_df.tail()"
   ]
  },
  {
   "cell_type": "markdown",
   "metadata": {},
   "source": [
    "<div class=\"alert alert-info\" style=\"background-color:#00a6b8; color:white; padding:0px 10px; border-radius:5px;\"><h2 style='margin:10px 5px'>EDA and Data Preparation</h2>\n",
    "</div>"
   ]
  },
  {
   "cell_type": "code",
   "execution_count": 183,
   "metadata": {},
   "outputs": [
    {
     "data": {
      "text/plain": [
       "0"
      ]
     },
     "execution_count": 183,
     "metadata": {},
     "output_type": "execute_result"
    }
   ],
   "source": [
    "#Checking total null values\n",
    "groceries_df.isnull().sum().sum()"
   ]
  },
  {
   "cell_type": "code",
   "execution_count": 184,
   "metadata": {
    "scrolled": true
   },
   "outputs": [
    {
     "name": "stdout",
     "output_type": "stream",
     "text": [
      "Total number of duplicated:  759\n"
     ]
    }
   ],
   "source": [
    "#Checking for duplicates\n",
    "duplicate = groceries_df[groceries_df.duplicated()]\n",
    "print(\"Total number of duplicated: \",len(duplicate))"
   ]
  },
  {
   "cell_type": "code",
   "execution_count": 185,
   "metadata": {
    "scrolled": true
   },
   "outputs": [],
   "source": [
    "# data = groceries_df[(groceries_df['Member_number']==3055) & (groceries_df['Date']=='18-08-2015')]"
   ]
  },
  {
   "cell_type": "code",
   "execution_count": 186,
   "metadata": {},
   "outputs": [
    {
     "name": "stdout",
     "output_type": "stream",
     "text": [
      "Total number of records after dropping duplicates:  38006\n"
     ]
    }
   ],
   "source": [
    "groceries_df = groceries_df.drop_duplicates()\n",
    "print(\"Total number of records after dropping duplicates: \",len(groceries_df))"
   ]
  },
  {
   "cell_type": "code",
   "execution_count": 187,
   "metadata": {
    "scrolled": true
   },
   "outputs": [
    {
     "data": {
      "text/html": [
       "<div>\n",
       "<style scoped>\n",
       "    .dataframe tbody tr th:only-of-type {\n",
       "        vertical-align: middle;\n",
       "    }\n",
       "\n",
       "    .dataframe tbody tr th {\n",
       "        vertical-align: top;\n",
       "    }\n",
       "\n",
       "    .dataframe thead th {\n",
       "        text-align: right;\n",
       "    }\n",
       "</style>\n",
       "<table border=\"1\" class=\"dataframe\">\n",
       "  <thead>\n",
       "    <tr style=\"text-align: right;\">\n",
       "      <th></th>\n",
       "      <th>itemDescription</th>\n",
       "      <th>count</th>\n",
       "    </tr>\n",
       "  </thead>\n",
       "  <tbody>\n",
       "    <tr>\n",
       "      <td>164</td>\n",
       "      <td>whole milk</td>\n",
       "      <td>2363</td>\n",
       "    </tr>\n",
       "    <tr>\n",
       "      <td>102</td>\n",
       "      <td>other vegetables</td>\n",
       "      <td>1827</td>\n",
       "    </tr>\n",
       "    <tr>\n",
       "      <td>122</td>\n",
       "      <td>rolls/buns</td>\n",
       "      <td>1646</td>\n",
       "    </tr>\n",
       "    <tr>\n",
       "      <td>138</td>\n",
       "      <td>soda</td>\n",
       "      <td>1453</td>\n",
       "    </tr>\n",
       "    <tr>\n",
       "      <td>165</td>\n",
       "      <td>yogurt</td>\n",
       "      <td>1285</td>\n",
       "    </tr>\n",
       "  </tbody>\n",
       "</table>\n",
       "</div>"
      ],
      "text/plain": [
       "      itemDescription  count\n",
       "164        whole milk   2363\n",
       "102  other vegetables   1827\n",
       "122        rolls/buns   1646\n",
       "138              soda   1453\n",
       "165            yogurt   1285"
      ]
     },
     "execution_count": 187,
     "metadata": {},
     "output_type": "execute_result"
    }
   ],
   "source": [
    "item_count=groceries_df[['Member_number','itemDescription']].groupby('itemDescription',as_index=False)['Member_number'].count(\n",
    "    ).sort_values(by='Member_number',ascending=False)\n",
    "item_count.rename(columns = {'Member_number':'count'},inplace=True)\n",
    "item_count.head()"
   ]
  },
  {
   "cell_type": "code",
   "execution_count": 188,
   "metadata": {},
   "outputs": [
    {
     "name": "stdout",
     "output_type": "stream",
     "text": [
      "<class 'pandas.core.frame.DataFrame'>\n",
      "Int64Index: 38006 entries, 0 to 38764\n",
      "Data columns (total 3 columns):\n",
      "Member_number      38006 non-null int64\n",
      "Date               38006 non-null datetime64[ns]\n",
      "itemDescription    38006 non-null object\n",
      "dtypes: datetime64[ns](1), int64(1), object(1)\n",
      "memory usage: 1.2+ MB\n"
     ]
    }
   ],
   "source": [
    "groceries_df['Date']= pd.to_datetime(groceries_df['Date'])\n",
    "groceries_df.info()"
   ]
  },
  {
   "cell_type": "code",
   "execution_count": 189,
   "metadata": {
    "scrolled": false
   },
   "outputs": [
    {
     "data": {
      "image/png": "[encoded data removed]",
      "text/plain": [
       "<Figure size 720x360 with 1 Axes>"
      ]
     },
     "metadata": {
      "needs_background": "light"
     },
     "output_type": "display_data"
    }
   ],
   "source": [
    "y_axis = item_count['itemDescription'].head(10)\n",
    "x_axis = item_count['count'].head(10)\n",
    "plt.figure(figsize=(10,5))\n",
    "color_list =['maroon','green','cyan','blue','orange','brown','purple','black','tomato','gray']\n",
    "plt.barh(y_axis,x_axis, edgecolor='Silver',color=color_list)\n",
    "plt.xlabel('Purchase Frequency')\n",
    "plt.show()"
   ]
  },
  {
   "cell_type": "markdown",
   "metadata": {},
   "source": [
    " The data shows that milk, vegetables, and rolls/buns are the most frequently purchased items."
   ]
  },
  {
   "cell_type": "code",
   "execution_count": 248,
   "metadata": {
    "scrolled": true
   },
   "outputs": [
    {
     "data": {
      "text/plain": [
       "[['whole milk', 'pastry', 'salty snack'],\n",
       " ['sausage', 'whole milk', 'semi-finished bread', 'yogurt'],\n",
       " ['soda', 'pickled vegetables'],\n",
       " ['canned beer', 'misc. beverages'],\n",
       " ['sausage', 'hygiene articles']]"
      ]
     },
     "execution_count": 248,
     "metadata": {},
     "output_type": "execute_result"
    }
   ],
   "source": [
    "#Converting each itemset purchased by a memmber on same day.\n",
    "basket_df = groceries_df.groupby(['Member_number', 'Date'], as_index=True)['itemDescription'].apply(lambda x: list(x))\n",
    "\n",
    "transactions = basket_df.values.tolist()\n",
    "\n",
    "transactions[:5]"
   ]
  },
  {
   "cell_type": "markdown",
   "metadata": {},
   "source": [
    "<div class=\"alert alert-info\" style=\"background-color:#00a6b8; color:white; padding:0px 10px; border-radius:5px;\"><h2 style='margin:10px 5px'>Model Building</h2>\n",
    "</div>"
   ]
  },
  {
   "cell_type": "code",
   "execution_count": 250,
   "metadata": {},
   "outputs": [
    {
     "name": "stdout",
     "output_type": "stream",
     "text": [
      "Total Associations:  94\n"
     ]
    }
   ],
   "source": [
    "#Using apriori to generate itemsets with support,confidence and lift.\n",
    "association_rules = apriori(transactions,\n",
    "                            min_support=0.0003,\n",
    "                            min_lift=2,\n",
    "                            min_confidence=0.06,\n",
    "                            min_length=2)\n",
    "association_results = list(association_rules)\n",
    "print(\"Total Associations: \",len(association_results))"
   ]
  },
  {
   "cell_type": "code",
   "execution_count": 251,
   "metadata": {},
   "outputs": [],
   "source": [
    "#Creating a dataframe out item that have association\n",
    "results = []\n",
    "for item in association_results:\n",
    "    itemset = item[0]\n",
    "    items = [x for x in itemset]\n",
    "\n",
    "    value0 = str(items[0]) # Item 1 in itemset\n",
    "    value1 = str(items[1]) # Item 2 in itemset\n",
    "    value3 = str(item[1])  # Support of items\n",
    "    value4 = str(item[2][0][2]) # Confidence of items\n",
    "    value5 = str(item[2][0][3]) # Lift of items\n",
    "\n",
    "    rows = (value0, value1, value3, value4, value5)\n",
    "    results.append(rows)\n",
    "    columns = ['item_x', 'item_y', 'support', 'confidence', 'lift']\n",
    "\n",
    "    associations_df = pd.DataFrame(results, columns=columns)"
   ]
  },
  {
   "cell_type": "code",
   "execution_count": 252,
   "metadata": {
    "scrolled": true
   },
   "outputs": [
    {
     "data": {
      "text/html": [
       "<div>\n",
       "<style scoped>\n",
       "    .dataframe tbody tr th:only-of-type {\n",
       "        vertical-align: middle;\n",
       "    }\n",
       "\n",
       "    .dataframe tbody tr th {\n",
       "        vertical-align: top;\n",
       "    }\n",
       "\n",
       "    .dataframe thead th {\n",
       "        text-align: right;\n",
       "    }\n",
       "</style>\n",
       "<table border=\"1\" class=\"dataframe\">\n",
       "  <thead>\n",
       "    <tr style=\"text-align: right;\">\n",
       "      <th></th>\n",
       "      <th>item_x</th>\n",
       "      <th>item_y</th>\n",
       "      <th>support</th>\n",
       "      <th>confidence</th>\n",
       "      <th>lift</th>\n",
       "    </tr>\n",
       "  </thead>\n",
       "  <tbody>\n",
       "    <tr>\n",
       "      <td>91</td>\n",
       "      <td>yogurt</td>\n",
       "      <td>sausage</td>\n",
       "      <td>0.0014702933903628951</td>\n",
       "      <td>0.1317365269461078</td>\n",
       "      <td>2.1829165589087607</td>\n",
       "    </tr>\n",
       "    <tr>\n",
       "      <td>1</td>\n",
       "      <td>brandy</td>\n",
       "      <td>whole milk</td>\n",
       "      <td>0.0008688097306689834</td>\n",
       "      <td>0.34210526315789475</td>\n",
       "      <td>2.1662805978127717</td>\n",
       "    </tr>\n",
       "    <tr>\n",
       "      <td>18</td>\n",
       "      <td>tropical fruit</td>\n",
       "      <td>sweet spreads</td>\n",
       "      <td>0.0007351466951814476</td>\n",
       "      <td>0.16176470588235295</td>\n",
       "      <td>2.387066365007542</td>\n",
       "    </tr>\n",
       "    <tr>\n",
       "      <td>8</td>\n",
       "      <td>soft cheese</td>\n",
       "      <td>hamburger meat</td>\n",
       "      <td>0.0006014836596939117</td>\n",
       "      <td>0.060000000000000005</td>\n",
       "      <td>2.745504587155964</td>\n",
       "    </tr>\n",
       "    <tr>\n",
       "      <td>86</td>\n",
       "      <td>sausage</td>\n",
       "      <td>whole milk</td>\n",
       "      <td>0.0006014836596939117</td>\n",
       "      <td>0.391304347826087</td>\n",
       "      <td>2.4778192791035716</td>\n",
       "    </tr>\n",
       "    <tr>\n",
       "      <td>89</td>\n",
       "      <td>rolls/buns</td>\n",
       "      <td>whipped/sour cream</td>\n",
       "      <td>0.0006014836596939117</td>\n",
       "      <td>0.20454545454545456</td>\n",
       "      <td>2.3818004952246197</td>\n",
       "    </tr>\n",
       "    <tr>\n",
       "      <td>16</td>\n",
       "      <td>soda</td>\n",
       "      <td>spices</td>\n",
       "      <td>0.0006014836596939117</td>\n",
       "      <td>0.225</td>\n",
       "      <td>2.317050929112182</td>\n",
       "    </tr>\n",
       "    <tr>\n",
       "      <td>11</td>\n",
       "      <td>sweet spreads</td>\n",
       "      <td>pip fruit</td>\n",
       "      <td>0.0005346521419501437</td>\n",
       "      <td>0.11764705882352942</td>\n",
       "      <td>2.398301009777208</td>\n",
       "    </tr>\n",
       "    <tr>\n",
       "      <td>6</td>\n",
       "      <td>frankfurter</td>\n",
       "      <td>mustard</td>\n",
       "      <td>0.0005346521419501437</td>\n",
       "      <td>0.08695652173913045</td>\n",
       "      <td>2.302885725278954</td>\n",
       "    </tr>\n",
       "    <tr>\n",
       "      <td>77</td>\n",
       "      <td>other vegetables</td>\n",
       "      <td>sausage</td>\n",
       "      <td>0.0005346521419501437</td>\n",
       "      <td>0.2758620689655173</td>\n",
       "      <td>2.259290715890003</td>\n",
       "    </tr>\n",
       "    <tr>\n",
       "      <td>83</td>\n",
       "      <td>soda</td>\n",
       "      <td>sausage</td>\n",
       "      <td>0.0005346521419501437</td>\n",
       "      <td>0.13114754098360656</td>\n",
       "      <td>2.1731568723562624</td>\n",
       "    </tr>\n",
       "    <tr>\n",
       "      <td>57</td>\n",
       "      <td>yogurt</td>\n",
       "      <td>sausage</td>\n",
       "      <td>0.00046782062420637575</td>\n",
       "      <td>0.2058823529411765</td>\n",
       "      <td>3.4115367077063388</td>\n",
       "    </tr>\n",
       "    <tr>\n",
       "      <td>47</td>\n",
       "      <td>other vegetables</td>\n",
       "      <td>citrus fruit</td>\n",
       "      <td>0.00046782062420637575</td>\n",
       "      <td>0.09722222222222222</td>\n",
       "      <td>2.6211461461461463</td>\n",
       "    </tr>\n",
       "    <tr>\n",
       "      <td>0</td>\n",
       "      <td>soda</td>\n",
       "      <td>artif. sweetener</td>\n",
       "      <td>0.00046782062420637575</td>\n",
       "      <td>0.2413793103448276</td>\n",
       "      <td>2.4857251346797353</td>\n",
       "    </tr>\n",
       "    <tr>\n",
       "      <td>76</td>\n",
       "      <td>yogurt</td>\n",
       "      <td>whole milk</td>\n",
       "      <td>0.00046782062420637575</td>\n",
       "      <td>0.368421052631579</td>\n",
       "      <td>2.3329175668752926</td>\n",
       "    </tr>\n",
       "    <tr>\n",
       "      <td>82</td>\n",
       "      <td>sugar</td>\n",
       "      <td>other vegetables</td>\n",
       "      <td>0.00046782062420637575</td>\n",
       "      <td>0.368421052631579</td>\n",
       "      <td>2.3329175668752926</td>\n",
       "    </tr>\n",
       "    <tr>\n",
       "      <td>84</td>\n",
       "      <td>yogurt</td>\n",
       "      <td>sausage</td>\n",
       "      <td>0.00046782062420637575</td>\n",
       "      <td>0.12962962962962962</td>\n",
       "      <td>2.1480045937410277</td>\n",
       "    </tr>\n",
       "    <tr>\n",
       "      <td>20</td>\n",
       "      <td>whole milk</td>\n",
       "      <td>whipped/sour cream</td>\n",
       "      <td>0.00046782062420637575</td>\n",
       "      <td>0.33333333333333337</td>\n",
       "      <td>2.110734941458598</td>\n",
       "    </tr>\n",
       "    <tr>\n",
       "      <td>41</td>\n",
       "      <td>chewing gum</td>\n",
       "      <td>soda</td>\n",
       "      <td>0.00040098910646260775</td>\n",
       "      <td>0.39999999999999997</td>\n",
       "      <td>4.657743190661479</td>\n",
       "    </tr>\n",
       "    <tr>\n",
       "      <td>7</td>\n",
       "      <td>liver loaf</td>\n",
       "      <td>fruit/vegetable juice</td>\n",
       "      <td>0.00040098910646260775</td>\n",
       "      <td>0.12</td>\n",
       "      <td>3.5276227897838903</td>\n",
       "    </tr>\n",
       "  </tbody>\n",
       "</table>\n",
       "</div>"
      ],
      "text/plain": [
       "              item_x                 item_y                 support  \\\n",
       "91            yogurt                sausage   0.0014702933903628951   \n",
       "1             brandy             whole milk   0.0008688097306689834   \n",
       "18    tropical fruit          sweet spreads   0.0007351466951814476   \n",
       "8        soft cheese         hamburger meat   0.0006014836596939117   \n",
       "86           sausage             whole milk   0.0006014836596939117   \n",
       "89        rolls/buns     whipped/sour cream   0.0006014836596939117   \n",
       "16              soda                 spices   0.0006014836596939117   \n",
       "11     sweet spreads              pip fruit   0.0005346521419501437   \n",
       "6        frankfurter                mustard   0.0005346521419501437   \n",
       "77  other vegetables                sausage   0.0005346521419501437   \n",
       "83              soda                sausage   0.0005346521419501437   \n",
       "57            yogurt                sausage  0.00046782062420637575   \n",
       "47  other vegetables           citrus fruit  0.00046782062420637575   \n",
       "0               soda       artif. sweetener  0.00046782062420637575   \n",
       "76            yogurt             whole milk  0.00046782062420637575   \n",
       "82             sugar       other vegetables  0.00046782062420637575   \n",
       "84            yogurt                sausage  0.00046782062420637575   \n",
       "20        whole milk     whipped/sour cream  0.00046782062420637575   \n",
       "41       chewing gum                   soda  0.00040098910646260775   \n",
       "7         liver loaf  fruit/vegetable juice  0.00040098910646260775   \n",
       "\n",
       "              confidence                lift  \n",
       "91    0.1317365269461078  2.1829165589087607  \n",
       "1    0.34210526315789475  2.1662805978127717  \n",
       "18   0.16176470588235295   2.387066365007542  \n",
       "8   0.060000000000000005   2.745504587155964  \n",
       "86     0.391304347826087  2.4778192791035716  \n",
       "89   0.20454545454545456  2.3818004952246197  \n",
       "16                 0.225   2.317050929112182  \n",
       "11   0.11764705882352942   2.398301009777208  \n",
       "6    0.08695652173913045   2.302885725278954  \n",
       "77    0.2758620689655173   2.259290715890003  \n",
       "83   0.13114754098360656  2.1731568723562624  \n",
       "57    0.2058823529411765  3.4115367077063388  \n",
       "47   0.09722222222222222  2.6211461461461463  \n",
       "0     0.2413793103448276  2.4857251346797353  \n",
       "76     0.368421052631579  2.3329175668752926  \n",
       "82     0.368421052631579  2.3329175668752926  \n",
       "84   0.12962962962962962  2.1480045937410277  \n",
       "20   0.33333333333333337   2.110734941458598  \n",
       "41   0.39999999999999997   4.657743190661479  \n",
       "7                   0.12  3.5276227897838903  "
      ]
     },
     "execution_count": 252,
     "metadata": {},
     "output_type": "execute_result"
    }
   ],
   "source": [
    "associations_df=associations_df.sort_values(by=['support', 'lift'],\n",
    "                            ascending=[False, False]).head(100)\n",
    "associations_df.head(20)"
   ]
  },
  {
   "cell_type": "markdown",
   "metadata": {},
   "source": [
    "<div class=\"alert alert-info\" style=\"background-color:#00a6b8; color:white; padding:0px 10px; border-radius:5px;\"><h2 style='margin:10px 5px'>Conclusion</h2>\n",
    "</div>"
   ]
  },
  {
   "cell_type": "code",
   "execution_count": 257,
   "metadata": {
    "scrolled": true
   },
   "outputs": [
    {
     "data": {
      "text/html": [
       "<div>\n",
       "<style scoped>\n",
       "    .dataframe tbody tr th:only-of-type {\n",
       "        vertical-align: middle;\n",
       "    }\n",
       "\n",
       "    .dataframe tbody tr th {\n",
       "        vertical-align: top;\n",
       "    }\n",
       "\n",
       "    .dataframe thead th {\n",
       "        text-align: right;\n",
       "    }\n",
       "</style>\n",
       "<table border=\"1\" class=\"dataframe\">\n",
       "  <thead>\n",
       "    <tr style=\"text-align: right;\">\n",
       "      <th></th>\n",
       "      <th>item_x</th>\n",
       "      <th>item_y</th>\n",
       "      <th>support</th>\n",
       "      <th>confidence</th>\n",
       "      <th>lift</th>\n",
       "    </tr>\n",
       "  </thead>\n",
       "  <tbody>\n",
       "    <tr>\n",
       "      <td>91</td>\n",
       "      <td>yogurt</td>\n",
       "      <td>sausage</td>\n",
       "      <td>0.0014702933903628951</td>\n",
       "      <td>0.1317365269461078</td>\n",
       "      <td>2.1829165589087607</td>\n",
       "    </tr>\n",
       "  </tbody>\n",
       "</table>\n",
       "</div>"
      ],
      "text/plain": [
       "    item_x   item_y                support          confidence  \\\n",
       "91  yogurt  sausage  0.0014702933903628951  0.1317365269461078   \n",
       "\n",
       "                  lift  \n",
       "91  2.1829165589087607  "
      ]
     },
     "execution_count": 257,
     "metadata": {},
     "output_type": "execute_result"
    }
   ],
   "source": [
    "#Top item by support\n",
    "associations_df.sort_values(by='support',ascending=False).head(1)"
   ]
  },
  {
   "cell_type": "markdown",
   "metadata": {},
   "source": [
    "The itemset of yogurt and sausage are purchased as most frequently."
   ]
  },
  {
   "cell_type": "code",
   "execution_count": 258,
   "metadata": {
    "scrolled": true
   },
   "outputs": [
    {
     "data": {
      "text/html": [
       "<div>\n",
       "<style scoped>\n",
       "    .dataframe tbody tr th:only-of-type {\n",
       "        vertical-align: middle;\n",
       "    }\n",
       "\n",
       "    .dataframe tbody tr th {\n",
       "        vertical-align: top;\n",
       "    }\n",
       "\n",
       "    .dataframe thead th {\n",
       "        text-align: right;\n",
       "    }\n",
       "</style>\n",
       "<table border=\"1\" class=\"dataframe\">\n",
       "  <thead>\n",
       "    <tr style=\"text-align: right;\">\n",
       "      <th></th>\n",
       "      <th>item_x</th>\n",
       "      <th>item_y</th>\n",
       "      <th>support</th>\n",
       "      <th>confidence</th>\n",
       "      <th>lift</th>\n",
       "    </tr>\n",
       "  </thead>\n",
       "  <tbody>\n",
       "    <tr>\n",
       "      <td>54</td>\n",
       "      <td>sausage</td>\n",
       "      <td>curd</td>\n",
       "      <td>0.0003341575887188398</td>\n",
       "      <td>0.5</td>\n",
       "      <td>8.28516057585825</td>\n",
       "    </tr>\n",
       "  </tbody>\n",
       "</table>\n",
       "</div>"
      ],
      "text/plain": [
       "     item_x item_y                support confidence              lift\n",
       "54  sausage   curd  0.0003341575887188398        0.5  8.28516057585825"
      ]
     },
     "execution_count": 258,
     "metadata": {},
     "output_type": "execute_result"
    }
   ],
   "source": [
    "#Top item by lift\n",
    "associations_df.sort_values(by='lift',ascending=False).head(1)"
   ]
  },
  {
   "cell_type": "markdown",
   "metadata": {},
   "source": [
    "The itemset of sausage and curd have the highest lift value of 8.28 and a relatively high confidence value of 50%. However, the support value is low suggesting that they are not purchased as frequently as other items in the dataset."
   ]
  }
 ],
 "metadata": {
  "kernelspec": {
   "display_name": "Python 3",
   "language": "python",
   "name": "python3"
  },
  "language_info": {
   "codemirror_mode": {
    "name": "ipython",
    "version": 3
   },
   "file_extension": ".py",
   "mimetype": "text/x-python",
   "name": "python",
   "nbconvert_exporter": "python",
   "pygments_lexer": "ipython3",
   "version": "3.7.4"
  }
 },
 "nbformat": 4,
 "nbformat_minor": 2
}
