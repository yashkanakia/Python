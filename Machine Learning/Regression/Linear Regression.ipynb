{
 "cells": [
  {
   "cell_type": "code",
   "execution_count": 11,
   "metadata": {},
   "outputs": [],
   "source": [
    "import numpy as np # linear algebra\n",
    "import pandas as pd # data processing, CSV file I/O (e.g. pd.read_csv)\n",
    "\n",
    "import matplotlib.pyplot as plt\n",
    "import seaborn as sns"
   ]
  },
  {
   "cell_type": "code",
   "execution_count": 3,
   "metadata": {},
   "outputs": [],
   "source": [
    "df_fish = pd.read_csv(r'C:\\Users\\Owner\\Downloads\\Machine Learning\\Regression\\Fish.csv')"
   ]
  },
  {
   "cell_type": "code",
   "execution_count": 5,
   "metadata": {},
   "outputs": [
    {
     "data": {
      "text/html": [
       "<div>\n",
       "<style scoped>\n",
       "    .dataframe tbody tr th:only-of-type {\n",
       "        vertical-align: middle;\n",
       "    }\n",
       "\n",
       "    .dataframe tbody tr th {\n",
       "        vertical-align: top;\n",
       "    }\n",
       "\n",
       "    .dataframe thead th {\n",
       "        text-align: right;\n",
       "    }\n",
       "</style>\n",
       "<table border=\"1\" class=\"dataframe\">\n",
       "  <thead>\n",
       "    <tr style=\"text-align: right;\">\n",
       "      <th></th>\n",
       "      <th>Species</th>\n",
       "      <th>Weight</th>\n",
       "      <th>Length1</th>\n",
       "      <th>Length2</th>\n",
       "      <th>Length3</th>\n",
       "      <th>Height</th>\n",
       "      <th>Width</th>\n",
       "    </tr>\n",
       "  </thead>\n",
       "  <tbody>\n",
       "    <tr>\n",
       "      <td>0</td>\n",
       "      <td>Bream</td>\n",
       "      <td>242.0</td>\n",
       "      <td>23.2</td>\n",
       "      <td>25.4</td>\n",
       "      <td>30.0</td>\n",
       "      <td>11.5200</td>\n",
       "      <td>4.0200</td>\n",
       "    </tr>\n",
       "    <tr>\n",
       "      <td>1</td>\n",
       "      <td>Bream</td>\n",
       "      <td>290.0</td>\n",
       "      <td>24.0</td>\n",
       "      <td>26.3</td>\n",
       "      <td>31.2</td>\n",
       "      <td>12.4800</td>\n",
       "      <td>4.3056</td>\n",
       "    </tr>\n",
       "    <tr>\n",
       "      <td>2</td>\n",
       "      <td>Bream</td>\n",
       "      <td>340.0</td>\n",
       "      <td>23.9</td>\n",
       "      <td>26.5</td>\n",
       "      <td>31.1</td>\n",
       "      <td>12.3778</td>\n",
       "      <td>4.6961</td>\n",
       "    </tr>\n",
       "    <tr>\n",
       "      <td>3</td>\n",
       "      <td>Bream</td>\n",
       "      <td>363.0</td>\n",
       "      <td>26.3</td>\n",
       "      <td>29.0</td>\n",
       "      <td>33.5</td>\n",
       "      <td>12.7300</td>\n",
       "      <td>4.4555</td>\n",
       "    </tr>\n",
       "    <tr>\n",
       "      <td>4</td>\n",
       "      <td>Bream</td>\n",
       "      <td>430.0</td>\n",
       "      <td>26.5</td>\n",
       "      <td>29.0</td>\n",
       "      <td>34.0</td>\n",
       "      <td>12.4440</td>\n",
       "      <td>5.1340</td>\n",
       "    </tr>\n",
       "  </tbody>\n",
       "</table>\n",
       "</div>"
      ],
      "text/plain": [
       "  Species  Weight  Length1  Length2  Length3   Height   Width\n",
       "0   Bream   242.0     23.2     25.4     30.0  11.5200  4.0200\n",
       "1   Bream   290.0     24.0     26.3     31.2  12.4800  4.3056\n",
       "2   Bream   340.0     23.9     26.5     31.1  12.3778  4.6961\n",
       "3   Bream   363.0     26.3     29.0     33.5  12.7300  4.4555\n",
       "4   Bream   430.0     26.5     29.0     34.0  12.4440  5.1340"
      ]
     },
     "execution_count": 5,
     "metadata": {},
     "output_type": "execute_result"
    }
   ],
   "source": [
    "df_fish.head()"
   ]
  },
  {
   "cell_type": "code",
   "execution_count": 7,
   "metadata": {
    "scrolled": true
   },
   "outputs": [
    {
     "name": "stdout",
     "output_type": "stream",
     "text": [
      "<class 'pandas.core.frame.DataFrame'>\n",
      "RangeIndex: 159 entries, 0 to 158\n",
      "Data columns (total 7 columns):\n",
      "Species    159 non-null object\n",
      "Weight     159 non-null float64\n",
      "Length1    159 non-null float64\n",
      "Length2    159 non-null float64\n",
      "Length3    159 non-null float64\n",
      "Height     159 non-null float64\n",
      "Width      159 non-null float64\n",
      "dtypes: float64(6), object(1)\n",
      "memory usage: 8.8+ KB\n"
     ]
    }
   ],
   "source": [
    "df_fish.info()"
   ]
  },
  {
   "cell_type": "code",
   "execution_count": 8,
   "metadata": {
    "scrolled": false
   },
   "outputs": [
    {
     "data": {
      "text/plain": [
       "Species    0\n",
       "Weight     0\n",
       "Length1    0\n",
       "Length2    0\n",
       "Length3    0\n",
       "Height     0\n",
       "Width      0\n",
       "dtype: int64"
      ]
     },
     "execution_count": 8,
     "metadata": {},
     "output_type": "execute_result"
    }
   ],
   "source": [
    "np.sum(df_fish.isnull())"
   ]
  },
  {
   "cell_type": "code",
   "execution_count": 9,
   "metadata": {
    "scrolled": true
   },
   "outputs": [
    {
     "data": {
      "text/html": [
       "<div>\n",
       "<style scoped>\n",
       "    .dataframe tbody tr th:only-of-type {\n",
       "        vertical-align: middle;\n",
       "    }\n",
       "\n",
       "    .dataframe tbody tr th {\n",
       "        vertical-align: top;\n",
       "    }\n",
       "\n",
       "    .dataframe thead th {\n",
       "        text-align: right;\n",
       "    }\n",
       "</style>\n",
       "<table border=\"1\" class=\"dataframe\">\n",
       "  <thead>\n",
       "    <tr style=\"text-align: right;\">\n",
       "      <th></th>\n",
       "      <th>Weight</th>\n",
       "      <th>Length1</th>\n",
       "      <th>Length2</th>\n",
       "      <th>Length3</th>\n",
       "      <th>Height</th>\n",
       "      <th>Width</th>\n",
       "    </tr>\n",
       "  </thead>\n",
       "  <tbody>\n",
       "    <tr>\n",
       "      <td>count</td>\n",
       "      <td>159.000000</td>\n",
       "      <td>159.000000</td>\n",
       "      <td>159.000000</td>\n",
       "      <td>159.000000</td>\n",
       "      <td>159.000000</td>\n",
       "      <td>159.000000</td>\n",
       "    </tr>\n",
       "    <tr>\n",
       "      <td>mean</td>\n",
       "      <td>398.326415</td>\n",
       "      <td>26.247170</td>\n",
       "      <td>28.415723</td>\n",
       "      <td>31.227044</td>\n",
       "      <td>8.970994</td>\n",
       "      <td>4.417486</td>\n",
       "    </tr>\n",
       "    <tr>\n",
       "      <td>std</td>\n",
       "      <td>357.978317</td>\n",
       "      <td>9.996441</td>\n",
       "      <td>10.716328</td>\n",
       "      <td>11.610246</td>\n",
       "      <td>4.286208</td>\n",
       "      <td>1.685804</td>\n",
       "    </tr>\n",
       "    <tr>\n",
       "      <td>min</td>\n",
       "      <td>0.000000</td>\n",
       "      <td>7.500000</td>\n",
       "      <td>8.400000</td>\n",
       "      <td>8.800000</td>\n",
       "      <td>1.728400</td>\n",
       "      <td>1.047600</td>\n",
       "    </tr>\n",
       "    <tr>\n",
       "      <td>25%</td>\n",
       "      <td>120.000000</td>\n",
       "      <td>19.050000</td>\n",
       "      <td>21.000000</td>\n",
       "      <td>23.150000</td>\n",
       "      <td>5.944800</td>\n",
       "      <td>3.385650</td>\n",
       "    </tr>\n",
       "    <tr>\n",
       "      <td>50%</td>\n",
       "      <td>273.000000</td>\n",
       "      <td>25.200000</td>\n",
       "      <td>27.300000</td>\n",
       "      <td>29.400000</td>\n",
       "      <td>7.786000</td>\n",
       "      <td>4.248500</td>\n",
       "    </tr>\n",
       "    <tr>\n",
       "      <td>75%</td>\n",
       "      <td>650.000000</td>\n",
       "      <td>32.700000</td>\n",
       "      <td>35.500000</td>\n",
       "      <td>39.650000</td>\n",
       "      <td>12.365900</td>\n",
       "      <td>5.584500</td>\n",
       "    </tr>\n",
       "    <tr>\n",
       "      <td>max</td>\n",
       "      <td>1650.000000</td>\n",
       "      <td>59.000000</td>\n",
       "      <td>63.400000</td>\n",
       "      <td>68.000000</td>\n",
       "      <td>18.957000</td>\n",
       "      <td>8.142000</td>\n",
       "    </tr>\n",
       "  </tbody>\n",
       "</table>\n",
       "</div>"
      ],
      "text/plain": [
       "            Weight     Length1     Length2     Length3      Height       Width\n",
       "count   159.000000  159.000000  159.000000  159.000000  159.000000  159.000000\n",
       "mean    398.326415   26.247170   28.415723   31.227044    8.970994    4.417486\n",
       "std     357.978317    9.996441   10.716328   11.610246    4.286208    1.685804\n",
       "min       0.000000    7.500000    8.400000    8.800000    1.728400    1.047600\n",
       "25%     120.000000   19.050000   21.000000   23.150000    5.944800    3.385650\n",
       "50%     273.000000   25.200000   27.300000   29.400000    7.786000    4.248500\n",
       "75%     650.000000   32.700000   35.500000   39.650000   12.365900    5.584500\n",
       "max    1650.000000   59.000000   63.400000   68.000000   18.957000    8.142000"
      ]
     },
     "execution_count": 9,
     "metadata": {},
     "output_type": "execute_result"
    }
   ],
   "source": [
    "df_fish.describe()"
   ]
  },
  {
   "cell_type": "code",
   "execution_count": 18,
   "metadata": {
    "scrolled": true
   },
   "outputs": [
    {
     "data": {
      "image/png": "[encoded data removed]",
      "text/plain": [
       "<Figure size 864x432 with 2 Axes>"
      ]
     },
     "metadata": {
      "needs_background": "light"
     },
     "output_type": "display_data"
    }
   ],
   "source": [
    "plt.figure(figsize=(12,6))\n",
    "sns.heatmap(df_fish.corr(),annot=True)\n",
    "plt.show()"
   ]
  },
  {
   "cell_type": "code",
   "execution_count": 22,
   "metadata": {},
   "outputs": [
    {
     "data": {
      "image/png": "[encoded data removed]",
      "text/plain": [
       "<Figure size 432x288 with 1 Axes>"
      ]
     },
     "metadata": {
      "needs_background": "light"
     },
     "output_type": "display_data"
    }
   ],
   "source": [
    "sns.countplot(x=df_fish['Species']);"
   ]
  },
  {
   "cell_type": "code",
   "execution_count": 21,
   "metadata": {
    "scrolled": true
   },
   "outputs": [
    {
     "data": {
      "text/plain": [
       "Text(0, 0.5, 'Lengths')"
      ]
     },
     "execution_count": 21,
     "metadata": {},
     "output_type": "execute_result"
    },
    {
     "data": {
      "image/png": "[encoded data removed]",
      "text/plain": [
       "<Figure size 864x432 with 1 Axes>"
      ]
     },
     "metadata": {
      "needs_background": "light"
     },
     "output_type": "display_data"
    }
   ],
   "source": [
    "plt.figure(figsize=(12,6))\n",
    "sns.lineplot(x=df_fish['Weight'],y=df_fish['Length1'],label ='Standard Length')\n",
    "sns.lineplot(x=df_fish['Weight'],y=df_fish['Length2'],label ='Fork Length')\n",
    "sns.lineplot(x=df_fish['Weight'],y=df_fish['Length3'],label ='Max Total Length')\n",
    "plt.ylabel('Lengths')"
   ]
  },
  {
   "cell_type": "code",
   "execution_count": 26,
   "metadata": {
    "scrolled": false
   },
   "outputs": [
    {
     "data": {
      "image/png": "[encoded data removed]",
      "text/plain": [
       "<Figure size 720x360 with 1 Axes>"
      ]
     },
     "metadata": {
      "needs_background": "light"
     },
     "output_type": "display_data"
    }
   ],
   "source": [
    "plt.figure(figsize=(10,5))\n",
    "sns.scatterplot(x=df_fish['Width'],y=df_fish['Height'])\n",
    "plt.show()"
   ]
  },
  {
   "cell_type": "code",
   "execution_count": 27,
   "metadata": {
    "scrolled": true
   },
   "outputs": [
    {
     "data": {
      "text/html": [
       "<div>\n",
       "<style scoped>\n",
       "    .dataframe tbody tr th:only-of-type {\n",
       "        vertical-align: middle;\n",
       "    }\n",
       "\n",
       "    .dataframe tbody tr th {\n",
       "        vertical-align: top;\n",
       "    }\n",
       "\n",
       "    .dataframe thead tr th {\n",
       "        text-align: left;\n",
       "    }\n",
       "\n",
       "    .dataframe thead tr:last-of-type th {\n",
       "        text-align: right;\n",
       "    }\n",
       "</style>\n",
       "<table border=\"1\" class=\"dataframe\">\n",
       "  <thead>\n",
       "    <tr>\n",
       "      <th></th>\n",
       "      <th colspan=\"5\" halign=\"left\">Weight</th>\n",
       "    </tr>\n",
       "    <tr>\n",
       "      <th></th>\n",
       "      <th>mean</th>\n",
       "      <th>std</th>\n",
       "      <th>count</th>\n",
       "      <th>max</th>\n",
       "      <th>min</th>\n",
       "    </tr>\n",
       "    <tr>\n",
       "      <th>Species</th>\n",
       "      <th></th>\n",
       "      <th></th>\n",
       "      <th></th>\n",
       "      <th></th>\n",
       "      <th></th>\n",
       "    </tr>\n",
       "  </thead>\n",
       "  <tbody>\n",
       "    <tr>\n",
       "      <td>Bream</td>\n",
       "      <td>617.828571</td>\n",
       "      <td>209.205709</td>\n",
       "      <td>35</td>\n",
       "      <td>1000.0</td>\n",
       "      <td>242.0</td>\n",
       "    </tr>\n",
       "    <tr>\n",
       "      <td>Parkki</td>\n",
       "      <td>154.818182</td>\n",
       "      <td>78.755086</td>\n",
       "      <td>11</td>\n",
       "      <td>300.0</td>\n",
       "      <td>55.0</td>\n",
       "    </tr>\n",
       "    <tr>\n",
       "      <td>Perch</td>\n",
       "      <td>382.239286</td>\n",
       "      <td>347.617717</td>\n",
       "      <td>56</td>\n",
       "      <td>1100.0</td>\n",
       "      <td>5.9</td>\n",
       "    </tr>\n",
       "    <tr>\n",
       "      <td>Pike</td>\n",
       "      <td>718.705882</td>\n",
       "      <td>494.140765</td>\n",
       "      <td>17</td>\n",
       "      <td>1650.0</td>\n",
       "      <td>200.0</td>\n",
       "    </tr>\n",
       "    <tr>\n",
       "      <td>Roach</td>\n",
       "      <td>152.050000</td>\n",
       "      <td>88.828916</td>\n",
       "      <td>20</td>\n",
       "      <td>390.0</td>\n",
       "      <td>0.0</td>\n",
       "    </tr>\n",
       "    <tr>\n",
       "      <td>Smelt</td>\n",
       "      <td>11.178571</td>\n",
       "      <td>4.131526</td>\n",
       "      <td>14</td>\n",
       "      <td>19.9</td>\n",
       "      <td>6.7</td>\n",
       "    </tr>\n",
       "    <tr>\n",
       "      <td>Whitefish</td>\n",
       "      <td>531.000000</td>\n",
       "      <td>309.602972</td>\n",
       "      <td>6</td>\n",
       "      <td>1000.0</td>\n",
       "      <td>270.0</td>\n",
       "    </tr>\n",
       "  </tbody>\n",
       "</table>\n",
       "</div>"
      ],
      "text/plain": [
       "               Weight                                 \n",
       "                 mean         std count     max    min\n",
       "Species                                               \n",
       "Bream      617.828571  209.205709    35  1000.0  242.0\n",
       "Parkki     154.818182   78.755086    11   300.0   55.0\n",
       "Perch      382.239286  347.617717    56  1100.0    5.9\n",
       "Pike       718.705882  494.140765    17  1650.0  200.0\n",
       "Roach      152.050000   88.828916    20   390.0    0.0\n",
       "Smelt       11.178571    4.131526    14    19.9    6.7\n",
       "Whitefish  531.000000  309.602972     6  1000.0  270.0"
      ]
     },
     "execution_count": 27,
     "metadata": {},
     "output_type": "execute_result"
    }
   ],
   "source": [
    "df_fish.groupby(['Species']).agg({'Weight':['mean','std','count','max','min']})"
   ]
  },
  {
   "cell_type": "code",
   "execution_count": 28,
   "metadata": {},
   "outputs": [],
   "source": [
    "df_3fish = df_fish[df_fish['Species'].isin(['Bream','Perch','Whitefish'])]"
   ]
  },
  {
   "cell_type": "code",
   "execution_count": 30,
   "metadata": {},
   "outputs": [
    {
     "data": {
      "image/png": "[encoded data removed]",
      "text/plain": [
       "<Figure size 648x216 with 3 Axes>"
      ]
     },
     "metadata": {
      "needs_background": "light"
     },
     "output_type": "display_data"
    }
   ],
   "source": [
    "d = sns.FacetGrid(data=df_3fish,col='Species')\n",
    "d.map(sns.histplot,'Weight',kde=True)\n",
    "plt.show()"
   ]
  },
  {
   "cell_type": "code",
   "execution_count": 31,
   "metadata": {
    "scrolled": true
   },
   "outputs": [
    {
     "data": {
      "text/html": [
       "<div>\n",
       "<style scoped>\n",
       "    .dataframe tbody tr th:only-of-type {\n",
       "        vertical-align: middle;\n",
       "    }\n",
       "\n",
       "    .dataframe tbody tr th {\n",
       "        vertical-align: top;\n",
       "    }\n",
       "\n",
       "    .dataframe thead th {\n",
       "        text-align: right;\n",
       "    }\n",
       "</style>\n",
       "<table border=\"1\" class=\"dataframe\">\n",
       "  <thead>\n",
       "    <tr style=\"text-align: right;\">\n",
       "      <th></th>\n",
       "      <th>Species</th>\n",
       "      <th>Weight</th>\n",
       "      <th>Length1</th>\n",
       "      <th>Length2</th>\n",
       "      <th>Length3</th>\n",
       "      <th>Height</th>\n",
       "      <th>Width</th>\n",
       "    </tr>\n",
       "  </thead>\n",
       "  <tbody>\n",
       "    <tr>\n",
       "      <td>55</td>\n",
       "      <td>Whitefish</td>\n",
       "      <td>270.0</td>\n",
       "      <td>23.6</td>\n",
       "      <td>26.0</td>\n",
       "      <td>28.7</td>\n",
       "      <td>8.3804</td>\n",
       "      <td>4.2476</td>\n",
       "    </tr>\n",
       "    <tr>\n",
       "      <td>56</td>\n",
       "      <td>Whitefish</td>\n",
       "      <td>270.0</td>\n",
       "      <td>24.1</td>\n",
       "      <td>26.5</td>\n",
       "      <td>29.3</td>\n",
       "      <td>8.1454</td>\n",
       "      <td>4.2485</td>\n",
       "    </tr>\n",
       "    <tr>\n",
       "      <td>57</td>\n",
       "      <td>Whitefish</td>\n",
       "      <td>306.0</td>\n",
       "      <td>25.6</td>\n",
       "      <td>28.0</td>\n",
       "      <td>30.8</td>\n",
       "      <td>8.7780</td>\n",
       "      <td>4.6816</td>\n",
       "    </tr>\n",
       "    <tr>\n",
       "      <td>58</td>\n",
       "      <td>Whitefish</td>\n",
       "      <td>540.0</td>\n",
       "      <td>28.5</td>\n",
       "      <td>31.0</td>\n",
       "      <td>34.0</td>\n",
       "      <td>10.7440</td>\n",
       "      <td>6.5620</td>\n",
       "    </tr>\n",
       "    <tr>\n",
       "      <td>59</td>\n",
       "      <td>Whitefish</td>\n",
       "      <td>800.0</td>\n",
       "      <td>33.7</td>\n",
       "      <td>36.4</td>\n",
       "      <td>39.6</td>\n",
       "      <td>11.7612</td>\n",
       "      <td>6.5736</td>\n",
       "    </tr>\n",
       "    <tr>\n",
       "      <td>60</td>\n",
       "      <td>Whitefish</td>\n",
       "      <td>1000.0</td>\n",
       "      <td>37.3</td>\n",
       "      <td>40.0</td>\n",
       "      <td>43.5</td>\n",
       "      <td>12.3540</td>\n",
       "      <td>6.5250</td>\n",
       "    </tr>\n",
       "  </tbody>\n",
       "</table>\n",
       "</div>"
      ],
      "text/plain": [
       "      Species  Weight  Length1  Length2  Length3   Height   Width\n",
       "55  Whitefish   270.0     23.6     26.0     28.7   8.3804  4.2476\n",
       "56  Whitefish   270.0     24.1     26.5     29.3   8.1454  4.2485\n",
       "57  Whitefish   306.0     25.6     28.0     30.8   8.7780  4.6816\n",
       "58  Whitefish   540.0     28.5     31.0     34.0  10.7440  6.5620\n",
       "59  Whitefish   800.0     33.7     36.4     39.6  11.7612  6.5736\n",
       "60  Whitefish  1000.0     37.3     40.0     43.5  12.3540  6.5250"
      ]
     },
     "execution_count": 31,
     "metadata": {},
     "output_type": "execute_result"
    }
   ],
   "source": [
    "df_fish[df_fish['Species'].isin(['Whitefish'])]"
   ]
  },
  {
   "cell_type": "code",
   "execution_count": 32,
   "metadata": {
    "scrolled": true
   },
   "outputs": [
    {
     "data": {
      "text/html": [
       "<div>\n",
       "<style scoped>\n",
       "    .dataframe tbody tr th:only-of-type {\n",
       "        vertical-align: middle;\n",
       "    }\n",
       "\n",
       "    .dataframe tbody tr th {\n",
       "        vertical-align: top;\n",
       "    }\n",
       "\n",
       "    .dataframe thead th {\n",
       "        text-align: right;\n",
       "    }\n",
       "</style>\n",
       "<table border=\"1\" class=\"dataframe\">\n",
       "  <thead>\n",
       "    <tr style=\"text-align: right;\">\n",
       "      <th></th>\n",
       "      <th>Species</th>\n",
       "      <th>Weight</th>\n",
       "      <th>Length1</th>\n",
       "      <th>Length2</th>\n",
       "      <th>Length3</th>\n",
       "      <th>Height</th>\n",
       "      <th>Width</th>\n",
       "    </tr>\n",
       "  </thead>\n",
       "  <tbody>\n",
       "    <tr>\n",
       "      <td>1</td>\n",
       "      <td>Bream</td>\n",
       "      <td>290.0</td>\n",
       "      <td>24.0</td>\n",
       "      <td>26.3</td>\n",
       "      <td>31.2</td>\n",
       "      <td>12.4800</td>\n",
       "      <td>4.3056</td>\n",
       "    </tr>\n",
       "    <tr>\n",
       "      <td>2</td>\n",
       "      <td>Bream</td>\n",
       "      <td>340.0</td>\n",
       "      <td>23.9</td>\n",
       "      <td>26.5</td>\n",
       "      <td>31.1</td>\n",
       "      <td>12.3778</td>\n",
       "      <td>4.6961</td>\n",
       "    </tr>\n",
       "    <tr>\n",
       "      <td>3</td>\n",
       "      <td>Bream</td>\n",
       "      <td>363.0</td>\n",
       "      <td>26.3</td>\n",
       "      <td>29.0</td>\n",
       "      <td>33.5</td>\n",
       "      <td>12.7300</td>\n",
       "      <td>4.4555</td>\n",
       "    </tr>\n",
       "    <tr>\n",
       "      <td>4</td>\n",
       "      <td>Bream</td>\n",
       "      <td>430.0</td>\n",
       "      <td>26.5</td>\n",
       "      <td>29.0</td>\n",
       "      <td>34.0</td>\n",
       "      <td>12.4440</td>\n",
       "      <td>5.1340</td>\n",
       "    </tr>\n",
       "    <tr>\n",
       "      <td>5</td>\n",
       "      <td>Bream</td>\n",
       "      <td>450.0</td>\n",
       "      <td>26.8</td>\n",
       "      <td>29.7</td>\n",
       "      <td>34.7</td>\n",
       "      <td>13.6024</td>\n",
       "      <td>4.9274</td>\n",
       "    </tr>\n",
       "    <tr>\n",
       "      <td>...</td>\n",
       "      <td>...</td>\n",
       "      <td>...</td>\n",
       "      <td>...</td>\n",
       "      <td>...</td>\n",
       "      <td>...</td>\n",
       "      <td>...</td>\n",
       "      <td>...</td>\n",
       "    </tr>\n",
       "    <tr>\n",
       "      <td>123</td>\n",
       "      <td>Perch</td>\n",
       "      <td>1100.0</td>\n",
       "      <td>39.0</td>\n",
       "      <td>42.0</td>\n",
       "      <td>44.6</td>\n",
       "      <td>12.8002</td>\n",
       "      <td>6.8684</td>\n",
       "    </tr>\n",
       "    <tr>\n",
       "      <td>124</td>\n",
       "      <td>Perch</td>\n",
       "      <td>1000.0</td>\n",
       "      <td>39.8</td>\n",
       "      <td>43.0</td>\n",
       "      <td>45.2</td>\n",
       "      <td>11.9328</td>\n",
       "      <td>7.2772</td>\n",
       "    </tr>\n",
       "    <tr>\n",
       "      <td>125</td>\n",
       "      <td>Perch</td>\n",
       "      <td>1100.0</td>\n",
       "      <td>40.1</td>\n",
       "      <td>43.0</td>\n",
       "      <td>45.5</td>\n",
       "      <td>12.5125</td>\n",
       "      <td>7.4165</td>\n",
       "    </tr>\n",
       "    <tr>\n",
       "      <td>126</td>\n",
       "      <td>Perch</td>\n",
       "      <td>1000.0</td>\n",
       "      <td>40.2</td>\n",
       "      <td>43.5</td>\n",
       "      <td>46.0</td>\n",
       "      <td>12.6040</td>\n",
       "      <td>8.1420</td>\n",
       "    </tr>\n",
       "    <tr>\n",
       "      <td>127</td>\n",
       "      <td>Perch</td>\n",
       "      <td>1000.0</td>\n",
       "      <td>41.1</td>\n",
       "      <td>44.0</td>\n",
       "      <td>46.6</td>\n",
       "      <td>12.4888</td>\n",
       "      <td>7.5958</td>\n",
       "    </tr>\n",
       "  </tbody>\n",
       "</table>\n",
       "<p>64 rows × 7 columns</p>\n",
       "</div>"
      ],
      "text/plain": [
       "    Species  Weight  Length1  Length2  Length3   Height   Width\n",
       "1     Bream   290.0     24.0     26.3     31.2  12.4800  4.3056\n",
       "2     Bream   340.0     23.9     26.5     31.1  12.3778  4.6961\n",
       "3     Bream   363.0     26.3     29.0     33.5  12.7300  4.4555\n",
       "4     Bream   430.0     26.5     29.0     34.0  12.4440  5.1340\n",
       "5     Bream   450.0     26.8     29.7     34.7  13.6024  4.9274\n",
       "..      ...     ...      ...      ...      ...      ...     ...\n",
       "123   Perch  1100.0     39.0     42.0     44.6  12.8002  6.8684\n",
       "124   Perch  1000.0     39.8     43.0     45.2  11.9328  7.2772\n",
       "125   Perch  1100.0     40.1     43.0     45.5  12.5125  7.4165\n",
       "126   Perch  1000.0     40.2     43.5     46.0  12.6040  8.1420\n",
       "127   Perch  1000.0     41.1     44.0     46.6  12.4888  7.5958\n",
       "\n",
       "[64 rows x 7 columns]"
      ]
     },
     "execution_count": 32,
     "metadata": {},
     "output_type": "execute_result"
    }
   ],
   "source": [
    "df_3fish[df_3fish['Weight']> 250]"
   ]
  },
  {
   "cell_type": "code",
   "execution_count": 33,
   "metadata": {
    "scrolled": true
   },
   "outputs": [
    {
     "data": {
      "text/html": [
       "<div>\n",
       "<style scoped>\n",
       "    .dataframe tbody tr th:only-of-type {\n",
       "        vertical-align: middle;\n",
       "    }\n",
       "\n",
       "    .dataframe tbody tr th {\n",
       "        vertical-align: top;\n",
       "    }\n",
       "\n",
       "    .dataframe thead th {\n",
       "        text-align: right;\n",
       "    }\n",
       "</style>\n",
       "<table border=\"1\" class=\"dataframe\">\n",
       "  <thead>\n",
       "    <tr style=\"text-align: right;\">\n",
       "      <th></th>\n",
       "      <th>Weight</th>\n",
       "      <th>Length1</th>\n",
       "      <th>Length2</th>\n",
       "      <th>Length3</th>\n",
       "      <th>Height</th>\n",
       "      <th>Width</th>\n",
       "    </tr>\n",
       "    <tr>\n",
       "      <th>Species</th>\n",
       "      <th></th>\n",
       "      <th></th>\n",
       "      <th></th>\n",
       "      <th></th>\n",
       "      <th></th>\n",
       "      <th></th>\n",
       "    </tr>\n",
       "  </thead>\n",
       "  <tbody>\n",
       "    <tr>\n",
       "      <td>Bream</td>\n",
       "      <td>617.828571</td>\n",
       "      <td>30.305714</td>\n",
       "      <td>33.108571</td>\n",
       "      <td>38.354286</td>\n",
       "      <td>15.183211</td>\n",
       "      <td>5.427614</td>\n",
       "    </tr>\n",
       "    <tr>\n",
       "      <td>Parkki</td>\n",
       "      <td>154.818182</td>\n",
       "      <td>18.727273</td>\n",
       "      <td>20.345455</td>\n",
       "      <td>22.790909</td>\n",
       "      <td>8.962427</td>\n",
       "      <td>3.220736</td>\n",
       "    </tr>\n",
       "    <tr>\n",
       "      <td>Perch</td>\n",
       "      <td>382.239286</td>\n",
       "      <td>25.735714</td>\n",
       "      <td>27.892857</td>\n",
       "      <td>29.571429</td>\n",
       "      <td>7.861870</td>\n",
       "      <td>4.745723</td>\n",
       "    </tr>\n",
       "    <tr>\n",
       "      <td>Pike</td>\n",
       "      <td>718.705882</td>\n",
       "      <td>42.476471</td>\n",
       "      <td>45.482353</td>\n",
       "      <td>48.717647</td>\n",
       "      <td>7.713771</td>\n",
       "      <td>5.086382</td>\n",
       "    </tr>\n",
       "    <tr>\n",
       "      <td>Roach</td>\n",
       "      <td>152.050000</td>\n",
       "      <td>20.645000</td>\n",
       "      <td>22.275000</td>\n",
       "      <td>24.970000</td>\n",
       "      <td>6.694795</td>\n",
       "      <td>3.657850</td>\n",
       "    </tr>\n",
       "    <tr>\n",
       "      <td>Smelt</td>\n",
       "      <td>11.178571</td>\n",
       "      <td>11.257143</td>\n",
       "      <td>11.921429</td>\n",
       "      <td>13.035714</td>\n",
       "      <td>2.209371</td>\n",
       "      <td>1.340093</td>\n",
       "    </tr>\n",
       "    <tr>\n",
       "      <td>Whitefish</td>\n",
       "      <td>531.000000</td>\n",
       "      <td>28.800000</td>\n",
       "      <td>31.316667</td>\n",
       "      <td>34.316667</td>\n",
       "      <td>10.027167</td>\n",
       "      <td>5.473050</td>\n",
       "    </tr>\n",
       "  </tbody>\n",
       "</table>\n",
       "</div>"
      ],
      "text/plain": [
       "               Weight    Length1    Length2    Length3     Height     Width\n",
       "Species                                                                    \n",
       "Bream      617.828571  30.305714  33.108571  38.354286  15.183211  5.427614\n",
       "Parkki     154.818182  18.727273  20.345455  22.790909   8.962427  3.220736\n",
       "Perch      382.239286  25.735714  27.892857  29.571429   7.861870  4.745723\n",
       "Pike       718.705882  42.476471  45.482353  48.717647   7.713771  5.086382\n",
       "Roach      152.050000  20.645000  22.275000  24.970000   6.694795  3.657850\n",
       "Smelt       11.178571  11.257143  11.921429  13.035714   2.209371  1.340093\n",
       "Whitefish  531.000000  28.800000  31.316667  34.316667  10.027167  5.473050"
      ]
     },
     "execution_count": 33,
     "metadata": {},
     "output_type": "execute_result"
    }
   ],
   "source": [
    "df_fish.groupby(['Species']).mean()"
   ]
  },
  {
   "cell_type": "code",
   "execution_count": 34,
   "metadata": {
    "scrolled": true
   },
   "outputs": [
    {
     "data": {
      "text/html": [
       "<div>\n",
       "<style scoped>\n",
       "    .dataframe tbody tr th:only-of-type {\n",
       "        vertical-align: middle;\n",
       "    }\n",
       "\n",
       "    .dataframe tbody tr th {\n",
       "        vertical-align: top;\n",
       "    }\n",
       "\n",
       "    .dataframe thead tr th {\n",
       "        text-align: left;\n",
       "    }\n",
       "\n",
       "    .dataframe thead tr:last-of-type th {\n",
       "        text-align: right;\n",
       "    }\n",
       "</style>\n",
       "<table border=\"1\" class=\"dataframe\">\n",
       "  <thead>\n",
       "    <tr>\n",
       "      <th></th>\n",
       "      <th colspan=\"3\" halign=\"left\">Weight</th>\n",
       "    </tr>\n",
       "    <tr>\n",
       "      <th></th>\n",
       "      <th>count</th>\n",
       "      <th>max</th>\n",
       "      <th>min</th>\n",
       "    </tr>\n",
       "    <tr>\n",
       "      <th>Species</th>\n",
       "      <th></th>\n",
       "      <th></th>\n",
       "      <th></th>\n",
       "    </tr>\n",
       "  </thead>\n",
       "  <tbody>\n",
       "    <tr>\n",
       "      <td>Bream</td>\n",
       "      <td>35</td>\n",
       "      <td>1000.0</td>\n",
       "      <td>242.0</td>\n",
       "    </tr>\n",
       "    <tr>\n",
       "      <td>Parkki</td>\n",
       "      <td>11</td>\n",
       "      <td>300.0</td>\n",
       "      <td>55.0</td>\n",
       "    </tr>\n",
       "    <tr>\n",
       "      <td>Perch</td>\n",
       "      <td>56</td>\n",
       "      <td>1100.0</td>\n",
       "      <td>5.9</td>\n",
       "    </tr>\n",
       "    <tr>\n",
       "      <td>Pike</td>\n",
       "      <td>17</td>\n",
       "      <td>1650.0</td>\n",
       "      <td>200.0</td>\n",
       "    </tr>\n",
       "    <tr>\n",
       "      <td>Roach</td>\n",
       "      <td>20</td>\n",
       "      <td>390.0</td>\n",
       "      <td>0.0</td>\n",
       "    </tr>\n",
       "    <tr>\n",
       "      <td>Smelt</td>\n",
       "      <td>14</td>\n",
       "      <td>19.9</td>\n",
       "      <td>6.7</td>\n",
       "    </tr>\n",
       "    <tr>\n",
       "      <td>Whitefish</td>\n",
       "      <td>6</td>\n",
       "      <td>1000.0</td>\n",
       "      <td>270.0</td>\n",
       "    </tr>\n",
       "  </tbody>\n",
       "</table>\n",
       "</div>"
      ],
      "text/plain": [
       "          Weight               \n",
       "           count     max    min\n",
       "Species                        \n",
       "Bream         35  1000.0  242.0\n",
       "Parkki        11   300.0   55.0\n",
       "Perch         56  1100.0    5.9\n",
       "Pike          17  1650.0  200.0\n",
       "Roach         20   390.0    0.0\n",
       "Smelt         14    19.9    6.7\n",
       "Whitefish      6  1000.0  270.0"
      ]
     },
     "execution_count": 34,
     "metadata": {},
     "output_type": "execute_result"
    }
   ],
   "source": [
    "df_fish.groupby(['Species']).agg({'Weight':['count','max','min']})"
   ]
  },
  {
   "cell_type": "code",
   "execution_count": 35,
   "metadata": {
    "scrolled": true
   },
   "outputs": [
    {
     "data": {
      "text/html": [
       "<div>\n",
       "<style scoped>\n",
       "    .dataframe tbody tr th:only-of-type {\n",
       "        vertical-align: middle;\n",
       "    }\n",
       "\n",
       "    .dataframe tbody tr th {\n",
       "        vertical-align: top;\n",
       "    }\n",
       "\n",
       "    .dataframe thead th {\n",
       "        text-align: right;\n",
       "    }\n",
       "</style>\n",
       "<table border=\"1\" class=\"dataframe\">\n",
       "  <thead>\n",
       "    <tr style=\"text-align: right;\">\n",
       "      <th></th>\n",
       "      <th>Species</th>\n",
       "      <th>Weight</th>\n",
       "      <th>Length1</th>\n",
       "      <th>Length2</th>\n",
       "      <th>Length3</th>\n",
       "      <th>Height</th>\n",
       "      <th>Width</th>\n",
       "    </tr>\n",
       "  </thead>\n",
       "  <tbody>\n",
       "    <tr>\n",
       "      <td>35</td>\n",
       "      <td>Roach</td>\n",
       "      <td>40.0</td>\n",
       "      <td>12.9</td>\n",
       "      <td>14.1</td>\n",
       "      <td>16.2</td>\n",
       "      <td>4.1472</td>\n",
       "      <td>2.2680</td>\n",
       "    </tr>\n",
       "    <tr>\n",
       "      <td>36</td>\n",
       "      <td>Roach</td>\n",
       "      <td>69.0</td>\n",
       "      <td>16.5</td>\n",
       "      <td>18.2</td>\n",
       "      <td>20.3</td>\n",
       "      <td>5.2983</td>\n",
       "      <td>2.8217</td>\n",
       "    </tr>\n",
       "    <tr>\n",
       "      <td>37</td>\n",
       "      <td>Roach</td>\n",
       "      <td>78.0</td>\n",
       "      <td>17.5</td>\n",
       "      <td>18.8</td>\n",
       "      <td>21.2</td>\n",
       "      <td>5.5756</td>\n",
       "      <td>2.9044</td>\n",
       "    </tr>\n",
       "    <tr>\n",
       "      <td>38</td>\n",
       "      <td>Roach</td>\n",
       "      <td>87.0</td>\n",
       "      <td>18.2</td>\n",
       "      <td>19.8</td>\n",
       "      <td>22.2</td>\n",
       "      <td>5.6166</td>\n",
       "      <td>3.1746</td>\n",
       "    </tr>\n",
       "    <tr>\n",
       "      <td>39</td>\n",
       "      <td>Roach</td>\n",
       "      <td>120.0</td>\n",
       "      <td>18.6</td>\n",
       "      <td>20.0</td>\n",
       "      <td>22.2</td>\n",
       "      <td>6.2160</td>\n",
       "      <td>3.5742</td>\n",
       "    </tr>\n",
       "    <tr>\n",
       "      <td>40</td>\n",
       "      <td>Roach</td>\n",
       "      <td>0.0</td>\n",
       "      <td>19.0</td>\n",
       "      <td>20.5</td>\n",
       "      <td>22.8</td>\n",
       "      <td>6.4752</td>\n",
       "      <td>3.3516</td>\n",
       "    </tr>\n",
       "    <tr>\n",
       "      <td>41</td>\n",
       "      <td>Roach</td>\n",
       "      <td>110.0</td>\n",
       "      <td>19.1</td>\n",
       "      <td>20.8</td>\n",
       "      <td>23.1</td>\n",
       "      <td>6.1677</td>\n",
       "      <td>3.3957</td>\n",
       "    </tr>\n",
       "    <tr>\n",
       "      <td>42</td>\n",
       "      <td>Roach</td>\n",
       "      <td>120.0</td>\n",
       "      <td>19.4</td>\n",
       "      <td>21.0</td>\n",
       "      <td>23.7</td>\n",
       "      <td>6.1146</td>\n",
       "      <td>3.2943</td>\n",
       "    </tr>\n",
       "    <tr>\n",
       "      <td>43</td>\n",
       "      <td>Roach</td>\n",
       "      <td>150.0</td>\n",
       "      <td>20.4</td>\n",
       "      <td>22.0</td>\n",
       "      <td>24.7</td>\n",
       "      <td>5.8045</td>\n",
       "      <td>3.7544</td>\n",
       "    </tr>\n",
       "    <tr>\n",
       "      <td>44</td>\n",
       "      <td>Roach</td>\n",
       "      <td>145.0</td>\n",
       "      <td>20.5</td>\n",
       "      <td>22.0</td>\n",
       "      <td>24.3</td>\n",
       "      <td>6.6339</td>\n",
       "      <td>3.5478</td>\n",
       "    </tr>\n",
       "    <tr>\n",
       "      <td>45</td>\n",
       "      <td>Roach</td>\n",
       "      <td>160.0</td>\n",
       "      <td>20.5</td>\n",
       "      <td>22.5</td>\n",
       "      <td>25.3</td>\n",
       "      <td>7.0334</td>\n",
       "      <td>3.8203</td>\n",
       "    </tr>\n",
       "    <tr>\n",
       "      <td>46</td>\n",
       "      <td>Roach</td>\n",
       "      <td>140.0</td>\n",
       "      <td>21.0</td>\n",
       "      <td>22.5</td>\n",
       "      <td>25.0</td>\n",
       "      <td>6.5500</td>\n",
       "      <td>3.3250</td>\n",
       "    </tr>\n",
       "    <tr>\n",
       "      <td>47</td>\n",
       "      <td>Roach</td>\n",
       "      <td>160.0</td>\n",
       "      <td>21.1</td>\n",
       "      <td>22.5</td>\n",
       "      <td>25.0</td>\n",
       "      <td>6.4000</td>\n",
       "      <td>3.8000</td>\n",
       "    </tr>\n",
       "    <tr>\n",
       "      <td>48</td>\n",
       "      <td>Roach</td>\n",
       "      <td>169.0</td>\n",
       "      <td>22.0</td>\n",
       "      <td>24.0</td>\n",
       "      <td>27.2</td>\n",
       "      <td>7.5344</td>\n",
       "      <td>3.8352</td>\n",
       "    </tr>\n",
       "    <tr>\n",
       "      <td>49</td>\n",
       "      <td>Roach</td>\n",
       "      <td>161.0</td>\n",
       "      <td>22.0</td>\n",
       "      <td>23.4</td>\n",
       "      <td>26.7</td>\n",
       "      <td>6.9153</td>\n",
       "      <td>3.6312</td>\n",
       "    </tr>\n",
       "    <tr>\n",
       "      <td>50</td>\n",
       "      <td>Roach</td>\n",
       "      <td>200.0</td>\n",
       "      <td>22.1</td>\n",
       "      <td>23.5</td>\n",
       "      <td>26.8</td>\n",
       "      <td>7.3968</td>\n",
       "      <td>4.1272</td>\n",
       "    </tr>\n",
       "    <tr>\n",
       "      <td>51</td>\n",
       "      <td>Roach</td>\n",
       "      <td>180.0</td>\n",
       "      <td>23.6</td>\n",
       "      <td>25.2</td>\n",
       "      <td>27.9</td>\n",
       "      <td>7.0866</td>\n",
       "      <td>3.9060</td>\n",
       "    </tr>\n",
       "    <tr>\n",
       "      <td>52</td>\n",
       "      <td>Roach</td>\n",
       "      <td>290.0</td>\n",
       "      <td>24.0</td>\n",
       "      <td>26.0</td>\n",
       "      <td>29.2</td>\n",
       "      <td>8.8768</td>\n",
       "      <td>4.4968</td>\n",
       "    </tr>\n",
       "    <tr>\n",
       "      <td>53</td>\n",
       "      <td>Roach</td>\n",
       "      <td>272.0</td>\n",
       "      <td>25.0</td>\n",
       "      <td>27.0</td>\n",
       "      <td>30.6</td>\n",
       "      <td>8.5680</td>\n",
       "      <td>4.7736</td>\n",
       "    </tr>\n",
       "    <tr>\n",
       "      <td>54</td>\n",
       "      <td>Roach</td>\n",
       "      <td>390.0</td>\n",
       "      <td>29.5</td>\n",
       "      <td>31.7</td>\n",
       "      <td>35.0</td>\n",
       "      <td>9.4850</td>\n",
       "      <td>5.3550</td>\n",
       "    </tr>\n",
       "  </tbody>\n",
       "</table>\n",
       "</div>"
      ],
      "text/plain": [
       "   Species  Weight  Length1  Length2  Length3  Height   Width\n",
       "35   Roach    40.0     12.9     14.1     16.2  4.1472  2.2680\n",
       "36   Roach    69.0     16.5     18.2     20.3  5.2983  2.8217\n",
       "37   Roach    78.0     17.5     18.8     21.2  5.5756  2.9044\n",
       "38   Roach    87.0     18.2     19.8     22.2  5.6166  3.1746\n",
       "39   Roach   120.0     18.6     20.0     22.2  6.2160  3.5742\n",
       "40   Roach     0.0     19.0     20.5     22.8  6.4752  3.3516\n",
       "41   Roach   110.0     19.1     20.8     23.1  6.1677  3.3957\n",
       "42   Roach   120.0     19.4     21.0     23.7  6.1146  3.2943\n",
       "43   Roach   150.0     20.4     22.0     24.7  5.8045  3.7544\n",
       "44   Roach   145.0     20.5     22.0     24.3  6.6339  3.5478\n",
       "45   Roach   160.0     20.5     22.5     25.3  7.0334  3.8203\n",
       "46   Roach   140.0     21.0     22.5     25.0  6.5500  3.3250\n",
       "47   Roach   160.0     21.1     22.5     25.0  6.4000  3.8000\n",
       "48   Roach   169.0     22.0     24.0     27.2  7.5344  3.8352\n",
       "49   Roach   161.0     22.0     23.4     26.7  6.9153  3.6312\n",
       "50   Roach   200.0     22.1     23.5     26.8  7.3968  4.1272\n",
       "51   Roach   180.0     23.6     25.2     27.9  7.0866  3.9060\n",
       "52   Roach   290.0     24.0     26.0     29.2  8.8768  4.4968\n",
       "53   Roach   272.0     25.0     27.0     30.6  8.5680  4.7736\n",
       "54   Roach   390.0     29.5     31.7     35.0  9.4850  5.3550"
      ]
     },
     "execution_count": 35,
     "metadata": {},
     "output_type": "execute_result"
    }
   ],
   "source": [
    "df_fish[df_fish['Species'] == 'Roach']"
   ]
  },
  {
   "cell_type": "code",
   "execution_count": 36,
   "metadata": {},
   "outputs": [],
   "source": [
    "df_fish =  df_fish.drop([40],axis=0);"
   ]
  },
  {
   "cell_type": "code",
   "execution_count": 37,
   "metadata": {},
   "outputs": [
    {
     "data": {
      "text/html": [
       "<div>\n",
       "<style scoped>\n",
       "    .dataframe tbody tr th:only-of-type {\n",
       "        vertical-align: middle;\n",
       "    }\n",
       "\n",
       "    .dataframe tbody tr th {\n",
       "        vertical-align: top;\n",
       "    }\n",
       "\n",
       "    .dataframe thead th {\n",
       "        text-align: right;\n",
       "    }\n",
       "</style>\n",
       "<table border=\"1\" class=\"dataframe\">\n",
       "  <thead>\n",
       "    <tr style=\"text-align: right;\">\n",
       "      <th></th>\n",
       "      <th>Species</th>\n",
       "      <th>Weight</th>\n",
       "      <th>Length1</th>\n",
       "      <th>Length2</th>\n",
       "      <th>Length3</th>\n",
       "      <th>Height</th>\n",
       "      <th>Width</th>\n",
       "    </tr>\n",
       "  </thead>\n",
       "  <tbody>\n",
       "    <tr>\n",
       "      <td>39</td>\n",
       "      <td>Roach</td>\n",
       "      <td>120.0</td>\n",
       "      <td>18.6</td>\n",
       "      <td>20.0</td>\n",
       "      <td>22.2</td>\n",
       "      <td>6.2160</td>\n",
       "      <td>3.5742</td>\n",
       "    </tr>\n",
       "    <tr>\n",
       "      <td>41</td>\n",
       "      <td>Roach</td>\n",
       "      <td>110.0</td>\n",
       "      <td>19.1</td>\n",
       "      <td>20.8</td>\n",
       "      <td>23.1</td>\n",
       "      <td>6.1677</td>\n",
       "      <td>3.3957</td>\n",
       "    </tr>\n",
       "  </tbody>\n",
       "</table>\n",
       "</div>"
      ],
      "text/plain": [
       "   Species  Weight  Length1  Length2  Length3  Height   Width\n",
       "39   Roach   120.0     18.6     20.0     22.2  6.2160  3.5742\n",
       "41   Roach   110.0     19.1     20.8     23.1  6.1677  3.3957"
      ]
     },
     "execution_count": 37,
     "metadata": {},
     "output_type": "execute_result"
    }
   ],
   "source": [
    "df_fish.loc[39:41,:]"
   ]
  },
  {
   "cell_type": "code",
   "execution_count": 38,
   "metadata": {},
   "outputs": [],
   "source": [
    "df_dummy = pd.get_dummies(df_fish['Species'],drop_first=True);"
   ]
  },
  {
   "cell_type": "code",
   "execution_count": 39,
   "metadata": {},
   "outputs": [],
   "source": [
    "df_fish = df_fish.drop('Species',axis=1);"
   ]
  },
  {
   "cell_type": "code",
   "execution_count": 40,
   "metadata": {},
   "outputs": [],
   "source": [
    "df_final = pd.concat([df_fish,df_dummy],axis=1)"
   ]
  },
  {
   "cell_type": "code",
   "execution_count": 41,
   "metadata": {},
   "outputs": [
    {
     "data": {
      "text/html": [
       "<div>\n",
       "<style scoped>\n",
       "    .dataframe tbody tr th:only-of-type {\n",
       "        vertical-align: middle;\n",
       "    }\n",
       "\n",
       "    .dataframe tbody tr th {\n",
       "        vertical-align: top;\n",
       "    }\n",
       "\n",
       "    .dataframe thead th {\n",
       "        text-align: right;\n",
       "    }\n",
       "</style>\n",
       "<table border=\"1\" class=\"dataframe\">\n",
       "  <thead>\n",
       "    <tr style=\"text-align: right;\">\n",
       "      <th></th>\n",
       "      <th>Weight</th>\n",
       "      <th>Length1</th>\n",
       "      <th>Length2</th>\n",
       "      <th>Length3</th>\n",
       "      <th>Height</th>\n",
       "      <th>Width</th>\n",
       "      <th>Parkki</th>\n",
       "      <th>Perch</th>\n",
       "      <th>Pike</th>\n",
       "      <th>Roach</th>\n",
       "      <th>Smelt</th>\n",
       "      <th>Whitefish</th>\n",
       "    </tr>\n",
       "  </thead>\n",
       "  <tbody>\n",
       "    <tr>\n",
       "      <td>0</td>\n",
       "      <td>242.0</td>\n",
       "      <td>23.2</td>\n",
       "      <td>25.4</td>\n",
       "      <td>30.0</td>\n",
       "      <td>11.5200</td>\n",
       "      <td>4.0200</td>\n",
       "      <td>0</td>\n",
       "      <td>0</td>\n",
       "      <td>0</td>\n",
       "      <td>0</td>\n",
       "      <td>0</td>\n",
       "      <td>0</td>\n",
       "    </tr>\n",
       "    <tr>\n",
       "      <td>1</td>\n",
       "      <td>290.0</td>\n",
       "      <td>24.0</td>\n",
       "      <td>26.3</td>\n",
       "      <td>31.2</td>\n",
       "      <td>12.4800</td>\n",
       "      <td>4.3056</td>\n",
       "      <td>0</td>\n",
       "      <td>0</td>\n",
       "      <td>0</td>\n",
       "      <td>0</td>\n",
       "      <td>0</td>\n",
       "      <td>0</td>\n",
       "    </tr>\n",
       "    <tr>\n",
       "      <td>2</td>\n",
       "      <td>340.0</td>\n",
       "      <td>23.9</td>\n",
       "      <td>26.5</td>\n",
       "      <td>31.1</td>\n",
       "      <td>12.3778</td>\n",
       "      <td>4.6961</td>\n",
       "      <td>0</td>\n",
       "      <td>0</td>\n",
       "      <td>0</td>\n",
       "      <td>0</td>\n",
       "      <td>0</td>\n",
       "      <td>0</td>\n",
       "    </tr>\n",
       "    <tr>\n",
       "      <td>3</td>\n",
       "      <td>363.0</td>\n",
       "      <td>26.3</td>\n",
       "      <td>29.0</td>\n",
       "      <td>33.5</td>\n",
       "      <td>12.7300</td>\n",
       "      <td>4.4555</td>\n",
       "      <td>0</td>\n",
       "      <td>0</td>\n",
       "      <td>0</td>\n",
       "      <td>0</td>\n",
       "      <td>0</td>\n",
       "      <td>0</td>\n",
       "    </tr>\n",
       "    <tr>\n",
       "      <td>4</td>\n",
       "      <td>430.0</td>\n",
       "      <td>26.5</td>\n",
       "      <td>29.0</td>\n",
       "      <td>34.0</td>\n",
       "      <td>12.4440</td>\n",
       "      <td>5.1340</td>\n",
       "      <td>0</td>\n",
       "      <td>0</td>\n",
       "      <td>0</td>\n",
       "      <td>0</td>\n",
       "      <td>0</td>\n",
       "      <td>0</td>\n",
       "    </tr>\n",
       "  </tbody>\n",
       "</table>\n",
       "</div>"
      ],
      "text/plain": [
       "   Weight  Length1  Length2  Length3   Height   Width  Parkki  Perch  Pike  \\\n",
       "0   242.0     23.2     25.4     30.0  11.5200  4.0200       0      0     0   \n",
       "1   290.0     24.0     26.3     31.2  12.4800  4.3056       0      0     0   \n",
       "2   340.0     23.9     26.5     31.1  12.3778  4.6961       0      0     0   \n",
       "3   363.0     26.3     29.0     33.5  12.7300  4.4555       0      0     0   \n",
       "4   430.0     26.5     29.0     34.0  12.4440  5.1340       0      0     0   \n",
       "\n",
       "   Roach  Smelt  Whitefish  \n",
       "0      0      0          0  \n",
       "1      0      0          0  \n",
       "2      0      0          0  \n",
       "3      0      0          0  \n",
       "4      0      0          0  "
      ]
     },
     "execution_count": 41,
     "metadata": {},
     "output_type": "execute_result"
    }
   ],
   "source": [
    "df_final.head()"
   ]
  },
  {
   "cell_type": "code",
   "execution_count": 42,
   "metadata": {},
   "outputs": [],
   "source": [
    "X = df_final.drop('Weight',axis=1)\n",
    "y = df_final['Weight'];"
   ]
  },
  {
   "cell_type": "code",
   "execution_count": 43,
   "metadata": {},
   "outputs": [],
   "source": [
    "from sklearn.model_selection import train_test_split\n",
    "from sklearn.preprocessing import StandardScaler"
   ]
  },
  {
   "cell_type": "code",
   "execution_count": 44,
   "metadata": {},
   "outputs": [],
   "source": [
    "X_train,X_test, y_train, y_test = train_test_split(X,y, test_size=0.3 ,random_state= 42)"
   ]
  },
  {
   "cell_type": "code",
   "execution_count": 45,
   "metadata": {},
   "outputs": [],
   "source": [
    "scaler = StandardScaler()"
   ]
  },
  {
   "cell_type": "code",
   "execution_count": 46,
   "metadata": {},
   "outputs": [
    {
     "data": {
      "text/plain": [
       "StandardScaler()"
      ]
     },
     "execution_count": 46,
     "metadata": {},
     "output_type": "execute_result"
    }
   ],
   "source": [
    "scaler.fit(X_train)"
   ]
  },
  {
   "cell_type": "code",
   "execution_count": 47,
   "metadata": {},
   "outputs": [],
   "source": [
    "X_train = scaler.transform(X_train)\n",
    "X_test = scaler.transform(X_test)"
   ]
  },
  {
   "cell_type": "code",
   "execution_count": 48,
   "metadata": {},
   "outputs": [],
   "source": [
    "from sklearn.linear_model import LinearRegression"
   ]
  },
  {
   "cell_type": "code",
   "execution_count": 49,
   "metadata": {},
   "outputs": [
    {
     "data": {
      "text/plain": [
       "LinearRegression()"
      ]
     },
     "execution_count": 49,
     "metadata": {},
     "output_type": "execute_result"
    }
   ],
   "source": [
    "linear_model = LinearRegression()\n",
    "linear_model.fit(X_train,y_train)"
   ]
  },
  {
   "cell_type": "code",
   "execution_count": 50,
   "metadata": {},
   "outputs": [],
   "source": [
    "y_pred = linear_model.predict(X_test)"
   ]
  },
  {
   "cell_type": "code",
   "execution_count": 51,
   "metadata": {},
   "outputs": [
    {
     "data": {
      "text/plain": [
       "array([-3.93845689e+02,  6.12346915e+02,  2.33388364e+02, -4.83905139e+01,\n",
       "        5.56535028e+00,  2.85088244e+01, -4.57942023e-01, -1.07157452e+02,\n",
       "       -6.98143721e+00,  6.81780850e+01,  7.92120446e+00])"
      ]
     },
     "execution_count": 51,
     "metadata": {},
     "output_type": "execute_result"
    }
   ],
   "source": [
    "linear_model.coef_"
   ]
  },
  {
   "cell_type": "code",
   "execution_count": 52,
   "metadata": {},
   "outputs": [],
   "source": [
    "from sklearn.metrics import r2_score,mean_squared_error,mean_absolute_error;"
   ]
  },
  {
   "cell_type": "code",
   "execution_count": 53,
   "metadata": {},
   "outputs": [],
   "source": [
    "Mae = mean_absolute_error(y_test,y_pred)\n",
    "MSE = mean_squared_error(y_test,y_pred)\n",
    "RMSE = np.sqrt(MSE)\n",
    "r2 = r2_score(y_test,y_pred)"
   ]
  },
  {
   "cell_type": "code",
   "execution_count": 54,
   "metadata": {},
   "outputs": [
    {
     "name": "stdout",
     "output_type": "stream",
     "text": [
      "68.69758140791991\n",
      "8524.898581665515\n",
      "92.33037735039056\n",
      "0.9306997867463993\n"
     ]
    }
   ],
   "source": [
    "print(Mae)\n",
    "print(MSE)\n",
    "print(RMSE)\n",
    "print(r2)"
   ]
  },
  {
   "cell_type": "code",
   "execution_count": 55,
   "metadata": {},
   "outputs": [],
   "source": [
    "residuals = y_test - y_pred"
   ]
  },
  {
   "cell_type": "code",
   "execution_count": 56,
   "metadata": {
    "scrolled": true
   },
   "outputs": [
    {
     "data": {
      "text/plain": [
       "Text(0.5, 0, 'predicted Weight')"
      ]
     },
     "execution_count": 56,
     "metadata": {},
     "output_type": "execute_result"
    },
    {
     "data": {
      "image/png": "[encoded data removed]",
      "text/plain": [
       "<Figure size 432x288 with 1 Axes>"
      ]
     },
     "metadata": {
      "needs_background": "light"
     },
     "output_type": "display_data"
    }
   ],
   "source": [
    "sns.scatterplot(x=y_pred,y=y_test)\n",
    "plt.xlabel('predicted Weight')"
   ]
  },
  {
   "cell_type": "code",
   "execution_count": 57,
   "metadata": {
    "scrolled": true
   },
   "outputs": [
    {
     "data": {
      "text/plain": [
       "<seaborn.axisgrid.FacetGrid at 0x1e48a8f1cc8>"
      ]
     },
     "execution_count": 57,
     "metadata": {},
     "output_type": "execute_result"
    },
    {
     "data": {
      "image/png": "[encoded data removed]",
      "text/plain": [
       "<Figure size 360x360 with 1 Axes>"
      ]
     },
     "metadata": {
      "needs_background": "light"
     },
     "output_type": "display_data"
    }
   ],
   "source": [
    "sns.displot(residuals,bins=25,kde=True)"
   ]
  },
  {
   "cell_type": "code",
   "execution_count": 59,
   "metadata": {
    "scrolled": true
   },
   "outputs": [
    {
     "name": "stdout",
     "output_type": "stream",
     "text": [
      "                            OLS Regression Results                            \n",
      "==============================================================================\n",
      "Dep. Variable:                 Weight   R-squared:                       0.931\n",
      "Model:                            OLS   Adj. R-squared:                  0.923\n",
      "Method:                 Least Squares   F-statistic:                     119.5\n",
      "Date:                Wed, 21 Jul 2021   Prob (F-statistic):           1.19e-51\n",
      "Time:                        12:58:38   Log-Likelihood:                -656.46\n",
      "No. Observations:                 110   AIC:                             1337.\n",
      "Df Residuals:                      98   BIC:                             1369.\n",
      "Df Model:                          11                                         \n",
      "Covariance Type:            nonrobust                                         \n",
      "==============================================================================\n",
      "                 coef    std err          t      P>|t|      [0.025      0.975]\n",
      "------------------------------------------------------------------------------\n",
      "const        394.3691      9.549     41.301      0.000     375.420     413.318\n",
      "x1          -393.8457    466.310     -0.845      0.400   -1319.223     531.532\n",
      "x2           612.3469    614.022      0.997      0.321    -606.159    1830.853\n",
      "x3           233.3884    413.162      0.565      0.573    -586.519    1053.295\n",
      "x4           -48.3905     72.240     -0.670      0.505    -191.748      94.967\n",
      "x5             5.5654     51.015      0.109      0.913     -95.673     106.803\n",
      "x6            28.5088     25.421      1.121      0.265     -21.939      78.956\n",
      "x7            -0.4579     76.227     -0.006      0.995    -151.727     150.811\n",
      "x8          -107.1575     51.807     -2.068      0.041    -209.967      -4.348\n",
      "x9            -6.9814     41.218     -0.169      0.866     -88.778      74.815\n",
      "x10           68.1781     41.060      1.660      0.100     -13.305     149.661\n",
      "x11            7.9212     23.801      0.333      0.740     -39.312      55.154\n",
      "==============================================================================\n",
      "Omnibus:                       24.843   Durbin-Watson:                   1.816\n",
      "Prob(Omnibus):                  0.000   Jarque-Bera (JB):               40.638\n",
      "Skew:                           1.007   Prob(JB):                     1.50e-09\n",
      "Kurtosis:                       5.194   Cond. No.                         176.\n",
      "==============================================================================\n",
      "\n",
      "Notes:\n",
      "[1] Standard Errors assume that the covariance matrix of the errors is correctly specified.\n"
     ]
    }
   ],
   "source": [
    "import statsmodels.api as sm\n",
    "\n",
    "# adding the constant term\n",
    "x = sm.add_constant(X_train)\n",
    "y = y_train\n",
    "# performing the regression\n",
    "# and fitting the model\n",
    "result = sm.OLS(y, x).fit()\n",
    "  \n",
    "# printing the summary table\n",
    "print(result.summary())"
   ]
  },
  {
   "cell_type": "markdown",
   "metadata": {},
   "source": [
    "OLS for Height and Weight"
   ]
  },
  {
   "cell_type": "code",
   "execution_count": 89,
   "metadata": {},
   "outputs": [],
   "source": [
    "X = df_final['Height']\n",
    "y = df_final['Weight']"
   ]
  },
  {
   "cell_type": "code",
   "execution_count": 90,
   "metadata": {},
   "outputs": [],
   "source": [
    "X_train,X_test, y_train, y_test = train_test_split(X,y, test_size=0.3 ,random_state= 42)"
   ]
  },
  {
   "cell_type": "code",
   "execution_count": 92,
   "metadata": {
    "scrolled": true
   },
   "outputs": [
    {
     "name": "stdout",
     "output_type": "stream",
     "text": [
      "                            OLS Regression Results                            \n",
      "==============================================================================\n",
      "Dep. Variable:                 Weight   R-squared:                       0.480\n",
      "Model:                            OLS   Adj. R-squared:                  0.475\n",
      "Method:                 Least Squares   F-statistic:                     99.76\n",
      "Date:                Wed, 21 Jul 2021   Prob (F-statistic):           4.96e-17\n",
      "Time:                        13:23:52   Log-Likelihood:                -767.23\n",
      "No. Observations:                 110   AIC:                             1538.\n",
      "Df Residuals:                     108   BIC:                             1544.\n",
      "Df Model:                           1                                         \n",
      "Covariance Type:            nonrobust                                         \n",
      "==============================================================================\n",
      "                 coef    std err          t      P>|t|      [0.025      0.975]\n",
      "------------------------------------------------------------------------------\n",
      "const       -152.2682     60.127     -2.532      0.013    -271.450     -33.086\n",
      "Height        61.1261      6.120      9.988      0.000      48.995      73.257\n",
      "==============================================================================\n",
      "Omnibus:                       77.810   Durbin-Watson:                   1.830\n",
      "Prob(Omnibus):                  0.000   Jarque-Bera (JB):              406.630\n",
      "Skew:                           2.470   Prob(JB):                     5.03e-89\n",
      "Kurtosis:                      11.019   Cond. No.                         23.9\n",
      "==============================================================================\n",
      "\n",
      "Notes:\n",
      "[1] Standard Errors assume that the covariance matrix of the errors is correctly specified.\n"
     ]
    },
    {
     "name": "stderr",
     "output_type": "stream",
     "text": [
      "C:\\Users\\Owner\\Anaconda3\\lib\\site-packages\\numpy\\core\\fromnumeric.py:2580: FutureWarning: Method .ptp is deprecated and will be removed in a future version. Use numpy.ptp instead.\n",
      "  return ptp(axis=axis, out=out, **kwargs)\n"
     ]
    }
   ],
   "source": [
    "import statsmodels.api as sm\n",
    "\n",
    "# adding the constant term\n",
    "x = sm.add_constant(X_train)\n",
    "y = y_train\n",
    "# performing the regression\n",
    "# and fitting the model\n",
    "result = sm.OLS(y, x).fit()\n",
    "  \n",
    "# printing the summary table\n",
    "print(result.summary())"
   ]
  },
  {
   "cell_type": "code",
   "execution_count": 98,
   "metadata": {},
   "outputs": [
    {
     "data": {
      "image/png": "[encoded data removed]",
      "text/plain": [
       "<Figure size 432x288 with 1 Axes>"
      ]
     },
     "metadata": {
      "needs_background": "light"
     },
     "output_type": "display_data"
    }
   ],
   "source": [
    "# Making predictions\n",
    "X = df_final['Height']\n",
    "y = df_final['Weight']\n",
    "Y_pred = 61.1261*X  -152.2682\n",
    "\n",
    "plt.scatter(X, y)\n",
    "plt.plot([min(X), max(X)], [min(Y_pred), max(Y_pred)], color='red') # predicted\n",
    "plt.show()"
   ]
  },
  {
   "cell_type": "markdown",
   "metadata": {},
   "source": [
    "GD for Height and Weight"
   ]
  },
  {
   "cell_type": "code",
   "execution_count": 78,
   "metadata": {},
   "outputs": [
    {
     "data": {
      "image/png": "[encoded data removed]",
      "text/plain": [
       "<Figure size 432x288 with 1 Axes>"
      ]
     },
     "metadata": {
      "needs_background": "light"
     },
     "output_type": "display_data"
    }
   ],
   "source": [
    "X = df_final['Height']\n",
    "Y = df_final['Weight']\n",
    "\n",
    "plt.scatter(X, Y)\n",
    "plt.show()"
   ]
  },
  {
   "cell_type": "code",
   "execution_count": 79,
   "metadata": {},
   "outputs": [
    {
     "name": "stdout",
     "output_type": "stream",
     "text": [
      "47.56719359389447 -0.9521759891603213\n"
     ]
    }
   ],
   "source": [
    "# Building the model\n",
    "m = 0\n",
    "c = 0\n",
    "\n",
    "L = 0.0001  # The learning Rate\n",
    "epochs = 1000  # The number of iterations to perform gradient descent\n",
    "\n",
    "n = float(len(X)) # Number of elements in X\n",
    "\n",
    "# Performing Gradient Descent \n",
    "for i in range(epochs): \n",
    "    Y_pred = m*X + c  # The current predicted value of Y\n",
    "    D_m = (-2/n) * sum(X * (Y - Y_pred))  # Derivative wrt m\n",
    "    D_c = (-2/n) * sum(Y - Y_pred)  # Derivative wrt c\n",
    "    m = m - L * D_m  # Update m\n",
    "    c = c - L * D_c  # Update c\n",
    "    \n",
    "print (m, c)"
   ]
  },
  {
   "cell_type": "code",
   "execution_count": 80,
   "metadata": {},
   "outputs": [
    {
     "data": {
      "image/png": "[encoded data removed]",
      "text/plain": [
       "<Figure size 432x288 with 1 Axes>"
      ]
     },
     "metadata": {
      "needs_background": "light"
     },
     "output_type": "display_data"
    }
   ],
   "source": [
    "# Making predictions\n",
    "Y_pred = m*X + c\n",
    "\n",
    "plt.scatter(X, Y)\n",
    "plt.plot([min(X), max(X)], [min(Y_pred), max(Y_pred)], color='red') # predicted\n",
    "plt.show()"
   ]
  }
 ],
 "metadata": {
  "kernelspec": {
   "display_name": "Python 3",
   "language": "python",
   "name": "python3"
  },
  "language_info": {
   "codemirror_mode": {
    "name": "ipython",
    "version": 3
   },
   "file_extension": ".py",
   "mimetype": "text/x-python",
   "name": "python",
   "nbconvert_exporter": "python",
   "pygments_lexer": "ipython3",
   "version": "3.7.4"
  }
 },
 "nbformat": 4,
 "nbformat_minor": 2
}
